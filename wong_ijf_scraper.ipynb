{
 "cells": [
  {
   "cell_type": "markdown",
   "metadata": {},
   "source": [
    "# IJF Web Scraper - Technical Test"
   ]
  },
  {
   "cell_type": "markdown",
   "metadata": {},
   "source": [
    "Michael Wing-Cheung Wong"
   ]
  },
  {
   "cell_type": "markdown",
   "metadata": {},
   "source": [
    "## Overview\n",
    "\n",
    "Python and module versions used:\n",
    "- Python ver. 3.7.3\n",
    "- numpy ver. 1.19.0\n",
    "- pandas ver. 1.1.0\n",
    "- seaborn ver. 0.10.1\n",
    "- matplotlib ver. 3.2.2"
   ]
  },
  {
   "cell_type": "markdown",
   "metadata": {},
   "source": [
    "# Module Calls"
   ]
  },
  {
   "cell_type": "code",
   "execution_count": 2,
   "metadata": {
    "scrolled": true
   },
   "outputs": [
    {
     "name": "stdout",
     "output_type": "stream",
     "text": [
      "Python ver. 3.8.3\n",
      "numpy ver. 1.18.5\n",
      "pandas ver. 1.0.5\n",
      "seaborn ver. 0.11.1\n",
      "matplotlib ver. 3.2.2\n"
     ]
    }
   ],
   "source": [
    "############### PYTHON 3\n",
    "\n",
    "\n",
    "\n",
    "#Module Imports\n",
    "import os\n",
    "import platform\n",
    "import matplotlib\n",
    "import re\n",
    "import json\n",
    "\n",
    "import numpy as np\n",
    "import pandas as pd\n",
    "import seaborn as sns\n",
    "import matplotlib.pyplot as plt\n",
    "import matplotlib.patches as mpatches\n",
    "\n",
    "from typing import Iterable, List, Union\n",
    "from bs4 import BeautifulSoup\n",
    "\n",
    "%matplotlib inline\n",
    "\n",
    "\n",
    "print(\"Python ver. \"+platform.python_version())\n",
    "print(\"numpy ver. \"+np.__version__)\n",
    "print(\"pandas ver. \"+pd.__version__)\n",
    "print(\"seaborn ver. \"+sns.__version__)\n",
    "print(\"matplotlib ver. \"+matplotlib.__version__)\n",
    "\n",
    "pd.set_option('display.max_colwidth', None)"
   ]
  },
  {
   "cell_type": "code",
   "execution_count": null,
   "metadata": {},
   "outputs": [],
   "source": []
  },
  {
   "cell_type": "markdown",
   "metadata": {},
   "source": [
    "# Data Read-in and Cleaning"
   ]
  },
  {
   "cell_type": "code",
   "execution_count": 2,
   "metadata": {
    "scrolled": true
   },
   "outputs": [
    {
     "data": {
      "text/html": [
       "<div>\n",
       "<style scoped>\n",
       "    .dataframe tbody tr th:only-of-type {\n",
       "        vertical-align: middle;\n",
       "    }\n",
       "\n",
       "    .dataframe tbody tr th {\n",
       "        vertical-align: top;\n",
       "    }\n",
       "\n",
       "    .dataframe thead th {\n",
       "        text-align: right;\n",
       "    }\n",
       "</style>\n",
       "<table border=\"1\" class=\"dataframe\">\n",
       "  <thead>\n",
       "    <tr style=\"text-align: right;\">\n",
       "      <th></th>\n",
       "      <th>Sentiment Score</th>\n",
       "      <th>Tweet</th>\n",
       "    </tr>\n",
       "  </thead>\n",
       "  <tbody>\n",
       "    <tr>\n",
       "      <th>1599995</th>\n",
       "      <td>4</td>\n",
       "      <td>Just woke up. Having no school is the best feeling ever</td>\n",
       "    </tr>\n",
       "    <tr>\n",
       "      <th>1599996</th>\n",
       "      <td>4</td>\n",
       "      <td>TheWDB.com - Very cool to hear old Walt interviews!  â« http://blip.fm/~8bmta</td>\n",
       "    </tr>\n",
       "    <tr>\n",
       "      <th>1599997</th>\n",
       "      <td>4</td>\n",
       "      <td>Are you ready for your MoJo Makeover? Ask me for details</td>\n",
       "    </tr>\n",
       "    <tr>\n",
       "      <th>1599998</th>\n",
       "      <td>4</td>\n",
       "      <td>Happy 38th Birthday to my boo of alll time!!! Tupac Amaru Shakur</td>\n",
       "    </tr>\n",
       "    <tr>\n",
       "      <th>1599999</th>\n",
       "      <td>4</td>\n",
       "      <td>happy #charitytuesday @theNSPCC @SparksCharity @SpeakingUpH4H</td>\n",
       "    </tr>\n",
       "  </tbody>\n",
       "</table>\n",
       "</div>"
      ],
      "text/plain": [
       "         Sentiment Score  \\\n",
       "1599995  4                 \n",
       "1599996  4                 \n",
       "1599997  4                 \n",
       "1599998  4                 \n",
       "1599999  4                 \n",
       "\n",
       "                                                                                  Tweet  \n",
       "1599995  Just woke up. Having no school is the best feeling ever                         \n",
       "1599996  TheWDB.com - Very cool to hear old Walt interviews!  â« http://blip.fm/~8bmta  \n",
       "1599997  Are you ready for your MoJo Makeover? Ask me for details                        \n",
       "1599998  Happy 38th Birthday to my boo of alll time!!! Tupac Amaru Shakur                \n",
       "1599999  happy #charitytuesday @theNSPCC @SparksCharity @SpeakingUpH4H                   "
      ]
     },
     "execution_count": 2,
     "metadata": {},
     "output_type": "execute_result"
    }
   ],
   "source": [
    "## Data Read-in, ignore unnecessary columns\n",
    "data = pd.read_csv(\"Data/twitter_sentiment_data/training.1600000.processed.noemoticon.csv\",encoding = \"ISO-8859-1\",usecols=[0,5],names=[\"Sentiment Score\",\"Tweet\"])\n",
    "data.tail()"
   ]
  },
  {
   "cell_type": "code",
   "execution_count": 3,
   "metadata": {},
   "outputs": [
    {
     "name": "stdout",
     "output_type": "stream",
     "text": [
      "       Sentiment Score\n",
      "count  1.600000e+06   \n",
      "mean   2.000000e+00   \n",
      "std    2.000001e+00   \n",
      "min    0.000000e+00   \n",
      "25%    0.000000e+00   \n",
      "50%    2.000000e+00   \n",
      "75%    4.000000e+00   \n",
      "max    4.000000e+00   \n",
      "1600000\n"
     ]
    },
    {
     "name": "stderr",
     "output_type": "stream",
     "text": [
      "D:\\Users\\Michael\\anaconda3\\envs\\ml_nlp\\lib\\site-packages\\seaborn\\distributions.py:2557: FutureWarning: `distplot` is a deprecated function and will be removed in a future version. Please adapt your code to use either `displot` (a figure-level function with similar flexibility) or `histplot` (an axes-level function for histograms).\n",
      "  warnings.warn(msg, FutureWarning)\n"
     ]
    },
    {
     "data": {
      "image/png": "[encoded data removed]",
      "text/plain": [
       "<Figure size 1008x504 with 1 Axes>"
      ]
     },
     "metadata": {
      "needs_background": "light"
     },
     "output_type": "display_data"
    }
   ],
   "source": [
    "## Initial Data Visualization\n",
    "print(data.describe())\n",
    "print(len(data))\n",
    "#print(data[\"Sentiment Score\"].tolist())\n",
    "\n",
    "\n",
    "fig, ax = plt.subplots(figsize=[14,7])\n",
    "sentiment_histogram = sns.distplot(data[\"Sentiment Score\"].tolist(), kde=False)#, height=7, aspect=0.9)\n",
    "sns.set()\n",
    "plt.subplots_adjust(top=0.9)\n",
    "plt.title(\"Distribution of Sentiment Scores\")\n",
    "plt.grid()\n",
    "#plt.savefig('figures\\sns fig1.png') "
   ]
  },
  {
   "cell_type": "code",
   "execution_count": 4,
   "metadata": {
    "scrolled": true
   },
   "outputs": [
    {
     "data": {
      "text/html": [
       "<div>\n",
       "<style scoped>\n",
       "    .dataframe tbody tr th:only-of-type {\n",
       "        vertical-align: middle;\n",
       "    }\n",
       "\n",
       "    .dataframe tbody tr th {\n",
       "        vertical-align: top;\n",
       "    }\n",
       "\n",
       "    .dataframe thead th {\n",
       "        text-align: right;\n",
       "    }\n",
       "</style>\n",
       "<table border=\"1\" class=\"dataframe\">\n",
       "  <thead>\n",
       "    <tr style=\"text-align: right;\">\n",
       "      <th></th>\n",
       "      <th>Tweet</th>\n",
       "    </tr>\n",
       "  </thead>\n",
       "  <tbody>\n",
       "    <tr>\n",
       "      <th>0</th>\n",
       "      <td>@switchfoot http://twitpic.com/2y1zl - Awww, that's a bummer.  You shoulda got David Carr of Third Day to do it. ;D</td>\n",
       "    </tr>\n",
       "    <tr>\n",
       "      <th>1</th>\n",
       "      <td>is upset that he can't update his Facebook by texting it... and might cry as a result  School today also. Blah!</td>\n",
       "    </tr>\n",
       "    <tr>\n",
       "      <th>2</th>\n",
       "      <td>@Kenichan I dived many times for the ball. Managed to save 50%  The rest go out of bounds</td>\n",
       "    </tr>\n",
       "    <tr>\n",
       "      <th>3</th>\n",
       "      <td>my whole body feels itchy and like its on fire</td>\n",
       "    </tr>\n",
       "    <tr>\n",
       "      <th>4</th>\n",
       "      <td>@nationwideclass no, it's not behaving at all. i'm mad. why am i here? because I can't see you all over there.</td>\n",
       "    </tr>\n",
       "    <tr>\n",
       "      <th>...</th>\n",
       "      <td>...</td>\n",
       "    </tr>\n",
       "    <tr>\n",
       "      <th>1599995</th>\n",
       "      <td>Just woke up. Having no school is the best feeling ever</td>\n",
       "    </tr>\n",
       "    <tr>\n",
       "      <th>1599996</th>\n",
       "      <td>TheWDB.com - Very cool to hear old Walt interviews!  â« http://blip.fm/~8bmta</td>\n",
       "    </tr>\n",
       "    <tr>\n",
       "      <th>1599997</th>\n",
       "      <td>Are you ready for your MoJo Makeover? Ask me for details</td>\n",
       "    </tr>\n",
       "    <tr>\n",
       "      <th>1599998</th>\n",
       "      <td>Happy 38th Birthday to my boo of alll time!!! Tupac Amaru Shakur</td>\n",
       "    </tr>\n",
       "    <tr>\n",
       "      <th>1599999</th>\n",
       "      <td>happy #charitytuesday @theNSPCC @SparksCharity @SpeakingUpH4H</td>\n",
       "    </tr>\n",
       "  </tbody>\n",
       "</table>\n",
       "<p>1600000 rows × 1 columns</p>\n",
       "</div>"
      ],
      "text/plain": [
       "                                                                                                                       Tweet\n",
       "0        @switchfoot http://twitpic.com/2y1zl - Awww, that's a bummer.  You shoulda got David Carr of Third Day to do it. ;D\n",
       "1        is upset that he can't update his Facebook by texting it... and might cry as a result  School today also. Blah!    \n",
       "2        @Kenichan I dived many times for the ball. Managed to save 50%  The rest go out of bounds                          \n",
       "3        my whole body feels itchy and like its on fire                                                                     \n",
       "4        @nationwideclass no, it's not behaving at all. i'm mad. why am i here? because I can't see you all over there.     \n",
       "...                                                                                                                  ...    \n",
       "1599995  Just woke up. Having no school is the best feeling ever                                                            \n",
       "1599996  TheWDB.com - Very cool to hear old Walt interviews!  â« http://blip.fm/~8bmta                                     \n",
       "1599997  Are you ready for your MoJo Makeover? Ask me for details                                                           \n",
       "1599998  Happy 38th Birthday to my boo of alll time!!! Tupac Amaru Shakur                                                   \n",
       "1599999  happy #charitytuesday @theNSPCC @SparksCharity @SpeakingUpH4H                                                      \n",
       "\n",
       "[1600000 rows x 1 columns]"
      ]
     },
     "metadata": {},
     "output_type": "display_data"
    },
    {
     "data": {
      "text/plain": [
       "array([0, 0, 0, ..., 1, 1, 1], dtype=int64)"
      ]
     },
     "metadata": {},
     "output_type": "display_data"
    },
    {
     "name": "stdout",
     "output_type": "stream",
     "text": [
      "['Negative' 'Positive']\n",
      "1600000\n"
     ]
    }
   ],
   "source": [
    "## Manually convert sentiment scores to positive/negative binary categories and move to target array\n",
    "\n",
    "X = data.copy()\n",
    "y = [\"Positive\" if sentiment == 4 else \"Negative\" for sentiment in X[\"Sentiment Score\"]]\n",
    "\n",
    "#Since sentiment can be considered to be ordinal, use label encoder\n",
    "le = LabelEncoder()\n",
    "le.fit(y)\n",
    "y = le.transform(y)\n",
    "\n",
    "X = X.drop(\"Sentiment Score\", axis=1)\n",
    "display(X)\n",
    "display(y)\n",
    "print(le.classes_)\n",
    "print(len(y))"
   ]
  },
  {
   "cell_type": "code",
   "execution_count": 5,
   "metadata": {},
   "outputs": [
    {
     "data": {
      "text/html": [
       "<div>\n",
       "<style scoped>\n",
       "    .dataframe tbody tr th:only-of-type {\n",
       "        vertical-align: middle;\n",
       "    }\n",
       "\n",
       "    .dataframe tbody tr th {\n",
       "        vertical-align: top;\n",
       "    }\n",
       "\n",
       "    .dataframe thead th {\n",
       "        text-align: right;\n",
       "    }\n",
       "</style>\n",
       "<table border=\"1\" class=\"dataframe\">\n",
       "  <thead>\n",
       "    <tr style=\"text-align: right;\">\n",
       "      <th></th>\n",
       "      <th>Tweet</th>\n",
       "    </tr>\n",
       "  </thead>\n",
       "  <tbody>\n",
       "    <tr>\n",
       "      <th>644091</th>\n",
       "      <td>God I'm sort of annoying its like great+ awful+fabulous at the same time!  hahahahah shit</td>\n",
       "    </tr>\n",
       "    <tr>\n",
       "      <th>721723</th>\n",
       "      <td>In VT, missing my hubby</td>\n",
       "    </tr>\n",
       "    <tr>\n",
       "      <th>1057340</th>\n",
       "      <td>just got a present from apple</td>\n",
       "    </tr>\n",
       "    <tr>\n",
       "      <th>628980</th>\n",
       "      <td>@martinsays I want the new album â¥kinda of impossible</td>\n",
       "    </tr>\n",
       "    <tr>\n",
       "      <th>172036</th>\n",
       "      <td>@LizzieGrubman have a great time in the Hamptons. Hope it's for some relaxation, not for work</td>\n",
       "    </tr>\n",
       "    <tr>\n",
       "      <th>...</th>\n",
       "      <td>...</td>\n",
       "    </tr>\n",
       "    <tr>\n",
       "      <th>259178</th>\n",
       "      <td>this song's middle change just doesn't want to be born..... arghhhh!!</td>\n",
       "    </tr>\n",
       "    <tr>\n",
       "      <th>1414414</th>\n",
       "      <td>@officialnjonas Good luck with that</td>\n",
       "    </tr>\n",
       "    <tr>\n",
       "      <th>131932</th>\n",
       "      <td>@ProudGamerTweet I rather average 32370</td>\n",
       "    </tr>\n",
       "    <tr>\n",
       "      <th>671155</th>\n",
       "      <td>Pickin up @misstinayao waitin on @sadittysash 2 hurry up...I odeeee missed dem  Table talk 2nite...LOL bout to be fat...</td>\n",
       "    </tr>\n",
       "    <tr>\n",
       "      <th>121958</th>\n",
       "      <td>@ home studying for maths wooot ! im so going to fail this shit</td>\n",
       "    </tr>\n",
       "  </tbody>\n",
       "</table>\n",
       "<p>160000 rows × 1 columns</p>\n",
       "</div>"
      ],
      "text/plain": [
       "                                                                                                                            Tweet\n",
       "644091   God I'm sort of annoying its like great+ awful+fabulous at the same time!  hahahahah shit                               \n",
       "721723   In VT, missing my hubby                                                                                                 \n",
       "1057340  just got a present from apple                                                                                           \n",
       "628980   @martinsays I want the new album â¥kinda of impossible                                                                 \n",
       "172036   @LizzieGrubman have a great time in the Hamptons. Hope it's for some relaxation, not for work                           \n",
       "...                                                                                                 ...                          \n",
       "259178   this song's middle change just doesn't want to be born..... arghhhh!!                                                   \n",
       "1414414  @officialnjonas Good luck with that                                                                                     \n",
       "131932   @ProudGamerTweet I rather average 32370                                                                                 \n",
       "671155   Pickin up @misstinayao waitin on @sadittysash 2 hurry up...I odeeee missed dem  Table talk 2nite...LOL bout to be fat...\n",
       "121958   @ home studying for maths wooot ! im so going to fail this shit                                                         \n",
       "\n",
       "[160000 rows x 1 columns]"
      ]
     },
     "metadata": {},
     "output_type": "display_data"
    },
    {
     "data": {
      "text/plain": [
       "array([0, 0, 1, ..., 0, 0, 0], dtype=int64)"
      ]
     },
     "metadata": {},
     "output_type": "display_data"
    }
   ],
   "source": [
    "# Take only 10% of data for speed purposes\n",
    "X, _, y, _ = train_test_split(X, y, test_size=0.9, random_state=42)\n",
    "display(X)\n",
    "display(y)"
   ]
  },
  {
   "cell_type": "code",
   "execution_count": 6,
   "metadata": {},
   "outputs": [],
   "source": [
    "## Do preprocessing here since it is not dependent on data splitting\n",
    "\n",
    "def tweet_cleaner(X):\n",
    "    print(\"Preprocessing...\")\n",
    "    X[\"Tweet\"] = [(BeautifulSoup(tweet,\"lxml\").get_text()) for tweet in X[\"Tweet\"]]\n",
    "    X[\"Tweet\"] = [re.sub(r\"@[A-Za-z0-9]+\",\"\",tweet) for tweet in X[\"Tweet\"]]\n",
    "    X[\"Tweet\"] = [re.sub(\"https?://[A-Za-z0-9./]+\",\"\",tweet) for tweet in X[\"Tweet\"]]\n",
    "    X[\"Tweet\"] = [re.sub(\"www.[A-Za-z0-9./]+\",\"\",tweet) for tweet in X[\"Tweet\"]]\n",
    "    tokenizer = Tokenizer()\n",
    "    tokenizer.fit_on_texts(X[\"Tweet\"])\n",
    "    X[\"Tweet\"] = tokenizer.texts_to_sequences(X[\"Tweet\"])\n",
    "    X[\"Tweet\"] = tokenizer.sequences_to_texts(X[\"Tweet\"])\n",
    "    print(\"Preprocess Complete\")\n",
    "    return X\n",
    "\n",
    "def text_cleaner(X, remove_stopwords=False, stopwords=None, stem_words=False):\n",
    "\n",
    "    # Clean the text, with the option to remove stopwords and to stem words.\n",
    "    print(\"Preprocessing...\")\n",
    "    \n",
    "    X_new = []\n",
    "    # Convert words to lower case and split them\n",
    "    for text in X[\"Tweet\"]:\n",
    "        text = text.lower().split()\n",
    "\n",
    "        # Optionally, remove stop words\n",
    "        if remove_stopwords:\n",
    "            text = [w for w in text if not w in stopwords]\n",
    "\n",
    "        text = \" \".join(text)\n",
    "\n",
    "        # Clean the text\n",
    "        text = re.sub(r\"[^A-Za-z0-9^,!.\\/'+-=]\", \" \", text)\n",
    "        text = re.sub(r\"what's\", \"what is \", text)\n",
    "        text = re.sub(r\"that's\", \"that is \", text)\n",
    "        text = re.sub(r\"\\'s\", \" \", text)\n",
    "        text = re.sub(r\"\\'ve\", \" have \", text)\n",
    "        text = re.sub(r\"can't\", \"cannot \", text)\n",
    "        text = re.sub(r\"n't\", \" not \", text)\n",
    "        text = re.sub(r\"i'm\", \"i am \", text)\n",
    "        text = re.sub(r\"\\'re\", \" are \", text)\n",
    "        text = re.sub(r\"\\'d\", \" would \", text)\n",
    "        text = re.sub(r\"\\'ll\", \" will \", text)\n",
    "        text = re.sub(r\",\", \" \", text)\n",
    "        text = re.sub(r\"\\.\", \" \", text)\n",
    "        text = re.sub(r\"!\", \" ! \", text)\n",
    "        text = re.sub(r\"'\", \" \", text)\n",
    "        text = re.sub(r\"(\\d+)(k)\", r\"\\g<1>000\", text)\n",
    "        text = re.sub(r\":\", \" : \", text)\n",
    "        text = re.sub(r\" e g \", \" eg \", text)\n",
    "        text = re.sub(r\" b g \", \" bg \", text)\n",
    "        text = re.sub(r\" u s \", \" american \", text)\n",
    "        text = re.sub(r\"\\0s\", \"0\", text)\n",
    "        text = re.sub(r\" 9 11 \", \"911\", text)\n",
    "        text = re.sub(r\"e - mail\", \"email\", text)\n",
    "        text = re.sub(r\"\\s{2,}\", \" \", text)\n",
    "\n",
    "        # Optionally, shorten words to their stems\n",
    "        if stem_words:\n",
    "            text = text.split()\n",
    "            stemmer = SnowballStemmer('english')\n",
    "            stemmed_words = [stemmer.stem(word) for word in text]\n",
    "            text = \" \".join(stemmed_words)\n",
    "\n",
    "        X_new.append(text)\n",
    "    \n",
    "    X[\"Tweet\"] = np.array(X_new)\n",
    "    \n",
    "    print(\"Preprocess Complete\")\n",
    "    \n",
    "    return X"
   ]
  },
  {
   "cell_type": "code",
   "execution_count": 7,
   "metadata": {},
   "outputs": [
    {
     "name": "stdout",
     "output_type": "stream",
     "text": [
      "Preprocessing...\n",
      "Preprocess Complete\n"
     ]
    }
   ],
   "source": [
    "X_new = tweet_cleaner(X)"
   ]
  },
  {
   "cell_type": "markdown",
   "metadata": {},
   "source": [
    "# Train-test Split"
   ]
  },
  {
   "cell_type": "code",
   "execution_count": 8,
   "metadata": {
    "scrolled": true
   },
   "outputs": [
    {
     "data": {
      "text/html": [
       "<div>\n",
       "<style scoped>\n",
       "    .dataframe tbody tr th:only-of-type {\n",
       "        vertical-align: middle;\n",
       "    }\n",
       "\n",
       "    .dataframe tbody tr th {\n",
       "        vertical-align: top;\n",
       "    }\n",
       "\n",
       "    .dataframe thead th {\n",
       "        text-align: right;\n",
       "    }\n",
       "</style>\n",
       "<table border=\"1\" class=\"dataframe\">\n",
       "  <thead>\n",
       "    <tr style=\"text-align: right;\">\n",
       "      <th></th>\n",
       "      <th>Tweet</th>\n",
       "    </tr>\n",
       "  </thead>\n",
       "  <tbody>\n",
       "    <tr>\n",
       "      <th>510483</th>\n",
       "      <td>looks like tonight's a bit of a bust</td>\n",
       "    </tr>\n",
       "    <tr>\n",
       "      <th>1595178</th>\n",
       "      <td>you betcha jack wp is easy peasy stuff for me thinking some videos are in order</td>\n",
       "    </tr>\n",
       "    <tr>\n",
       "      <th>10758</th>\n",
       "      <td>twit help how do i remove twitter column from tweet deck i set it to stay signed in it's not budging and i dont want it there anymore</td>\n",
       "    </tr>\n",
       "    <tr>\n",
       "      <th>1258939</th>\n",
       "      <td>i have waited for the right opportunity to think about renting</td>\n",
       "    </tr>\n",
       "    <tr>\n",
       "      <th>61753</th>\n",
       "      <td>something good come on tv</td>\n",
       "    </tr>\n",
       "  </tbody>\n",
       "</table>\n",
       "</div>"
      ],
      "text/plain": [
       "                                                                                                                                         Tweet\n",
       "510483   looks like tonight's a bit of a bust                                                                                                 \n",
       "1595178  you betcha jack wp is easy peasy stuff for me thinking some videos are in order                                                      \n",
       "10758    twit help how do i remove twitter column from tweet deck i set it to stay signed in it's not budging and i dont want it there anymore\n",
       "1258939  i have waited for the right opportunity to think about renting                                                                       \n",
       "61753    something good come on tv                                                                                                            "
      ]
     },
     "metadata": {},
     "output_type": "display_data"
    },
    {
     "data": {
      "text/html": [
       "<div>\n",
       "<style scoped>\n",
       "    .dataframe tbody tr th:only-of-type {\n",
       "        vertical-align: middle;\n",
       "    }\n",
       "\n",
       "    .dataframe tbody tr th {\n",
       "        vertical-align: top;\n",
       "    }\n",
       "\n",
       "    .dataframe thead th {\n",
       "        text-align: right;\n",
       "    }\n",
       "</style>\n",
       "<table border=\"1\" class=\"dataframe\">\n",
       "  <thead>\n",
       "    <tr style=\"text-align: right;\">\n",
       "      <th></th>\n",
       "      <th>Tweet</th>\n",
       "    </tr>\n",
       "  </thead>\n",
       "  <tbody>\n",
       "    <tr>\n",
       "      <th>178253</th>\n",
       "      <td>iphone is doing that not opening downloaded apps thing and i forgot my cord at home</td>\n",
       "    </tr>\n",
       "    <tr>\n",
       "      <th>1592775</th>\n",
       "      <td>day of the tentacle briljant</td>\n",
       "    </tr>\n",
       "    <tr>\n",
       "      <th>673189</th>\n",
       "      <td>who's that girl livin' my life i'm soooo sad why i love u but i want him</td>\n",
       "    </tr>\n",
       "    <tr>\n",
       "      <th>726641</th>\n",
       "      <td>tryna b a gud friend but i dunno if i can keep dis up ne longa</td>\n",
       "    </tr>\n",
       "    <tr>\n",
       "      <th>1161139</th>\n",
       "      <td>ciao teso come stai</td>\n",
       "    </tr>\n",
       "  </tbody>\n",
       "</table>\n",
       "</div>"
      ],
      "text/plain": [
       "                                                                                       Tweet\n",
       "178253   iphone is doing that not opening downloaded apps thing and i forgot my cord at home\n",
       "1592775  day of the tentacle briljant                                                       \n",
       "673189   who's that girl livin' my life i'm soooo sad why i love u but i want him           \n",
       "726641   tryna b a gud friend but i dunno if i can keep dis up ne longa                     \n",
       "1161139  ciao teso come stai                                                                "
      ]
     },
     "metadata": {},
     "output_type": "display_data"
    },
    {
     "data": {
      "text/plain": [
       "array([0, 1, 0, 1, 0], dtype=int64)"
      ]
     },
     "metadata": {},
     "output_type": "display_data"
    },
    {
     "data": {
      "text/plain": [
       "48000"
      ]
     },
     "metadata": {},
     "output_type": "display_data"
    }
   ],
   "source": [
    "## Split data into training and validation sets\n",
    "X_train, X_test, y_train, y_test = train_test_split(X_new, y, test_size=0.3, random_state=42)\n",
    "#display(X_train)\n",
    "\n",
    "display(X_train[:5])\n",
    "display(X_test[:5])\n",
    "display(y_train[:5])\n",
    "display(len(y_test))\n",
    "#display(y_valid)"
   ]
  },
  {
   "cell_type": "code",
   "execution_count": 9,
   "metadata": {},
   "outputs": [],
   "source": [
    "X_train_2, X_valid_2, y_train_2, y_valid_2 = train_test_split(X_new, y, test_size=0.9, random_state=43)"
   ]
  },
  {
   "cell_type": "markdown",
   "metadata": {},
   "source": [
    "# Supervised Learning"
   ]
  },
  {
   "cell_type": "markdown",
   "metadata": {},
   "source": [
    "## Scikit Learn Pipeline Setup"
   ]
  },
  {
   "cell_type": "code",
   "execution_count": 10,
   "metadata": {},
   "outputs": [],
   "source": [
    "# Function to fit a model pipeline\n",
    "def pipeline_fit(X_train, y_train, pipeline, save_name, keras_nn=False, search_method=None,\n",
    "                 n_iter=10, cv=5, verbose_searchcv=0, n_jobs=1):\n",
    "    \n",
    "    \"\"\"\n",
    "    Fits an sklearn machine learning pipeline\n",
    "    \n",
    "    Parameters\n",
    "    ----------\n",
    "    X_train : numpy array\n",
    "        Training data \n",
    "        \n",
    "    y_train : numpy array\n",
    "        Training target data\n",
    "        \n",
    "    pipeline : string\n",
    "        name of the sklearn pipeline to be fitted\n",
    "            \n",
    "    save_name : string\n",
    "        name of saved joblib file\n",
    "    \n",
    "    keras_nn : boolean (default = False)\n",
    "        set to True for Keras models\n",
    "    \n",
    "    search_method : string (default None)\n",
    "        \"randomsearch\" for hyperparameter optimization using sklearn's RandomizedSearchCV\n",
    "        \"gridsearch\" for hyperparameter optimization using sklearn's GridSearchCV\n",
    "        None for no hyperparameter optimization\n",
    "        \n",
    "    n_iter : integer(default 10)\n",
    "        number of parameter settings sampled, applies for randomsearch only\n",
    "        \n",
    "    cv : integer (default 5)\n",
    "        number of cross validation folds for hyperparameter optimization\n",
    "        \n",
    "    verbose_searchcv : integer (default 0)\n",
    "        set verbosity of search cv\n",
    "        \n",
    "    n_jobs : integer (default 1)\n",
    "        number of jobs to run in parallel, -1 for all processors\n",
    "\n",
    "    Returns\n",
    "    -------\n",
    "    sklearn fitted model object\n",
    "    \n",
    "    \"\"\"\n",
    "    \n",
    "    while os.path.exists(\"{}_{}.joblib\".format(save_name,pipeline)):\n",
    "        # Check if a joblib file with that filename already exists, ask user for confirmation of overwrite\n",
    "        skip = input('''A joblib model file already exists with that name, \n",
    "do you wish to retrain the model? (Y/N)''')\n",
    "        if skip.lower().strip() == \"y\":\n",
    "            break\n",
    "        elif skip.lower().strip() == \"n\":\n",
    "            print(\"Loaded pre-existing model:\")\n",
    "            print(\"Param Grid:\", pipe_dict[pipeline][1])\n",
    "            \n",
    "            model_final = joblib.load(\"{}_{}.joblib\".format(save_name,pipeline))\n",
    "            \n",
    "            # Load keras model and append to pipeline\n",
    "            if keras_nn == True:\n",
    "                model_final.named_steps[\"keras_estimator\"].model = load_model(\"{}_{}.h5\".format(save_name,pipeline))\n",
    "                \n",
    "\n",
    "            print(\"Parameters: \", model_final.get_params)\n",
    "\n",
    "            return model_final\n",
    "\n",
    "        else:\n",
    "            print(\"That's not a valid response. Please try again.\")\n",
    "            \n",
    "    \n",
    "    # Do hyperparameter optimization\n",
    "    \n",
    "    # Keras hyperparameter search only works with a single process\n",
    "    if keras_nn == True:\n",
    "        n_jobs = 1\n",
    "    else:\n",
    "        pass\n",
    "\n",
    "    if search_method == \"randomsearch\":\n",
    "        search_cv = RandomizedSearchCV(pipe_dict[pipeline][0], param_distributions=pipe_dict[pipeline][1], n_iter=n_iter,\n",
    "                                       cv=cv, verbose=verbose_searchcv, n_jobs=n_jobs)\n",
    "    elif search_method == \"gridsearch\":\n",
    "        search_cv = GridSearchCV(pipe_dict[pipeline][0], param_grid=pipe_dict[pipeline][1],\n",
    "                                 cv=cv, verbose=verbose_searchcv, n_jobs=n_jobs)\n",
    "    elif search_method == None:\n",
    "        \n",
    "        # No optimization is performed, fit to model only\n",
    "        print(\"No hyperparameter optimization\")\n",
    "        print(\"Training {} on {} samples...\".format(pipeline,str(len(y_train))))\n",
    "        print(pipe_dict[pipeline][0].steps[-1])\n",
    "        model_final = pipe_dict[pipeline][0].fit(X_train, y_train)\n",
    "\n",
    "        # For Keras neural networks, save the sklearn pipeline and Keras model separately\n",
    "        # Use joblib to dump the best estimator to joblib file for persistence purposes\n",
    "        if keras_nn == True:\n",
    "            # print(model_final.named_steps[\"keras_estimator\"].model.summary())            \n",
    "\n",
    "            # Save Keras model and remove it from pipeline\n",
    "            model_final.named_steps[\"keras_estimator\"].model.save(\"{}_{}.h5\".format(save_name,pipeline))\n",
    "            model_final.named_steps[\"keras_estimator\"].model = None\n",
    "\n",
    "            # Save pipeline\n",
    "            joblib.dump(model_final, save_name+\"_\"+pipeline+\".joblib\")\n",
    "\n",
    "            # Rebuild pipeline to return\n",
    "            model_final.named_steps[\"keras_estimator\"].model = load_model(\"{}_{}.h5\".format(save_name,pipeline))\n",
    "\n",
    "            return model_final\n",
    "\n",
    "        # Save the pipeline\n",
    "        joblib.dump(model_final, \"{}_{}.joblib\".format(save_name,pipeline))\n",
    "\n",
    "        return model_final\n",
    "\n",
    "    print(pipe_dict[pipeline][0])\n",
    "    print(\"Param Grid:\", pipe_dict[pipeline][1])\n",
    "    \n",
    "    # Train the model\n",
    "    print()\n",
    "    print(\"Training {} on {} samples...\".format(pipeline,str(len(y_train))))\n",
    "    print(\"Shape of inputs:\",X_train.shape)\n",
    "    print(X_train[:5])\n",
    "    print(\"Shape of outputs:\",y_train.shape)\n",
    "    print(y_train[:5])\n",
    "    print()\n",
    "#     try:\n",
    "    search_cv.fit(X_train, y_train)\n",
    "#     except ValueError:\n",
    "#         ## If X_train is a dataframe with single column, convert y_train to match\n",
    "#         search_cv.fit(X_train, y_train.reshape(-1,1))\n",
    "        \n",
    "    print(\"\")\n",
    "    print(pipeline+\":\")\n",
    "    print(\"Best Score: \", search_cv.best_score_)\n",
    "    print(\"Best Params: \", search_cv.best_params_)\n",
    "\n",
    "    model_final = search_cv.best_estimator_\n",
    "    \n",
    "    # Use joblib to dump the best estimator to joblib file for persistence purposes\n",
    "    # For Keras neural networks, save the sklearn pipeline and Keras model separately\n",
    "    if keras_nn == True:\n",
    "        # print(model_final.named_steps[\"keras_estimator\"].model.summary())\n",
    "        \n",
    "        # Save Keras model and remove it from pipeline\n",
    "        model_final.named_steps[\"keras_estimator\"].model.save(\"{}_{}.h5\".format(save_name,pipeline))\n",
    "        model_final.named_steps[\"keras_estimator\"].model = None\n",
    "        \n",
    "        # Save pipeline\n",
    "        joblib.dump(model_final, save_name+\"_\"+pipeline+\".joblib\")\n",
    "        \n",
    "        # Rebuild pipeline to return\n",
    "        model_final.named_steps[\"keras_estimator\"].model = load_model(\"{}_{}.h5\".format(save_name,pipeline))\n",
    "        \n",
    "        return model_final\n",
    "\n",
    "    else:\n",
    "        # Save the pipeline\n",
    "        joblib.dump(model_final, \"{}_{}.joblib\".format(save_name,pipeline))\n",
    "\n",
    "    return model_final"
   ]
  },
  {
   "cell_type": "code",
   "execution_count": 11,
   "metadata": {},
   "outputs": [],
   "source": [
    "## Initiate a full preprocessing and prediction pipeline\n",
    "\n",
    "# ## RandomizedSearchCV hyperparameter optimization\n",
    "# nb_param_grid = {\n",
    "#     \"nb_classifier__alpha\": [1,1e-1,1e-2,0]\n",
    "#     }\n",
    "\n",
    "# svm_param_grid = {\n",
    "#     \"svm_classifier__C\": [x for x in np.logspace(-5,15,base=2,num=7)],\n",
    "#     \"svm_classifier__gamma\": gamma\n",
    "#     }\n",
    "\n",
    "# lstm_param_grid = {\n",
    "#     \"lstm_classifier__embed_dim\": [128],\n",
    "#     \"lstm_classifier__lstm_out\": [200],\n",
    "#     #\"lstm_classifier__dropout\": [0.2],\n",
    "#     #\"lstm_classifier__dropout_U\": [0.2],\n",
    "#     #\"lstm_classifier__dropout_W\": [0.2],\n",
    "#     \"lstm_classifier__epochs\": [50, 100, 150],\n",
    "#     \"lstm_classifier__batch_size\": [5, 10, 20]\n",
    "#     }"
   ]
  },
  {
   "cell_type": "code",
   "execution_count": 12,
   "metadata": {},
   "outputs": [],
   "source": [
    "# param_grid = {\n",
    "#     #\"preprocessor__tweet_transformer__tfidf_vectorizer__max_df\": np.linspace(0.2, 1, 10),\n",
    "#     \"preprocessor__tweet_transformer__tfidf_vectorizer__binary\": [True],\n",
    "#     \"preprocessor__tweet_transformer__tfidf_vectorizer__token_pattern\": [r\"(?u)\\b\\w\\w+\\b|\\'\"],\n",
    "#     \"preprocessor__tweet_transformer__tfidf_vectorizer__ngram_range\": [(1,2)],\n",
    "#     \"preprocessor__tweet_transformer__tfidf_vectorizer__sop_\": [(1,2)]\n",
    "#     }\n",
    "\n",
    "# nb_param_grid.update(param_grid)\n",
    "# rf_param_grid.update(param_grid)\n",
    "# gb_param_grid.update(param_grid)\n",
    "# lgbm_param_grid.update(param_grid)\n",
    "# xgb_param_grid.update(param_grid)\n",
    "# svm_param_grid.update(param_grid)\n",
    "# lstm_param_grid.update(param_grid)"
   ]
  },
  {
   "cell_type": "code",
   "execution_count": 13,
   "metadata": {},
   "outputs": [],
   "source": [
    "# # Dictionary of pipelines and classifier types for ease of reference\n",
    "# pipe_dict = {\n",
    "#             \"MultinomialNB\" : (nb_clf_fullpipe, nb_param_grid),\n",
    "#             \"RandomForest\" : (rf_clf_fullpipe, rf_param_grid),\n",
    "#             \"GradientBoosting\" : (gb_clf_fullpipe, gb_param_grid),\n",
    "#             \"XGBoost\" : (xgb_clf_fullpipe, xgb_param_grid),\n",
    "#             \"LightGBM\" : (lgbm_clf_fullpipe, lgbm_param_grid),\n",
    "#             \"SVC\" : (svm_clf_fullpipe, svm_param_grid),\n",
    "#             \"LSTM\" : (LSTM_clf_fullpipe, lstm_param_grid)\n",
    "#             }"
   ]
  },
  {
   "cell_type": "code",
   "execution_count": 14,
   "metadata": {},
   "outputs": [],
   "source": [
    "# lstm_clf_final = pipeline_fit(pipeline=\"LSTM\", cv=5, iid=False, verbose=2, n_jobs=1, optimization=True)"
   ]
  },
  {
   "cell_type": "markdown",
   "metadata": {},
   "source": [
    "# Training, Predictions and Evaluation Metrics"
   ]
  },
  {
   "cell_type": "markdown",
   "metadata": {},
   "source": [
    "## Plotting Functions"
   ]
  },
  {
   "cell_type": "code",
   "execution_count": 15,
   "metadata": {},
   "outputs": [],
   "source": [
    "def plot_confusion_matrix(y_test, y_pred, classes, figsize=(8,8), save_name=None, cmap=plt.cm.Blues):\n",
    "    \n",
    "    \"\"\"\n",
    "    Plots a confusion matrix\n",
    "    \n",
    "    Parameters\n",
    "    ----------\n",
    "    y_test : numpy array\n",
    "        Ground truth target values \n",
    "        \n",
    "    y_pred : numpy array\n",
    "        Predicted target values\n",
    "        \n",
    "    classes : numpy array\n",
    "        class names \n",
    "        \n",
    "    figsize : tuple (default = (8,8))\n",
    "        a tuple for matplotlib figsize (x,y)    \n",
    "        \n",
    "    save_name : string (default = None)\n",
    "        name of the plot to be saved, including the file extension\n",
    "        None for no plot saving\n",
    "        \n",
    "    cmap : matplotlib colour map (default = Blue)\n",
    "\n",
    "    Returns\n",
    "    -------\n",
    "    None\n",
    "    \n",
    "    \"\"\"\n",
    "\n",
    "    cm = confusion_matrix(y_test, y_pred)\n",
    "    classes = classes[unique_labels(y_test, y_pred)]\n",
    "    # Get normalized confusion matrix\n",
    "    cm_norm = cm.astype(\"float\") / cm.sum(axis=1)[:, np.newaxis]\n",
    "\n",
    "#     print(\"Confusion Matrix\")\n",
    "#     print(cm)\n",
    "#     print(\"Normalized Confusion Matrix\")\n",
    "#     print(cm_norm)\n",
    "\n",
    "    fig, ax = plt.subplots(figsize=figsize)\n",
    "    im = ax.imshow(cm, interpolation=\"nearest\", cmap=cmap)\n",
    "    ax.figure.colorbar(im, ax=ax)\n",
    "    ax.grid(None)\n",
    "    ax.set(xticks=np.arange(cm.shape[1]),\n",
    "           yticks=np.arange(cm.shape[0]),\n",
    "           xticklabels=classes, yticklabels=classes,\n",
    "           ylabel=\"True Labels\", xlabel=\"Predicted Labels\")\n",
    "\n",
    "    # Loop over data dimensions and create text annotations\n",
    "    # using both normalized and non-normalized confusion matrices\n",
    "    def annotated_text(i, j):\n",
    "        return str(cm[i, j])+\"\\n(\"+str(format(cm_norm[i, j], \".2f\"))+\")\"\n",
    "\n",
    "    # Text color switches to provide contrast\n",
    "    col_switch_thresh = cm.max() / 2.\n",
    "    for i in range(cm.shape[0]):\n",
    "        for j in range(cm.shape[1]):\n",
    "            ax.text(j, i, annotated_text(i, j),\n",
    "                    ha=\"center\", va=\"center\",\n",
    "                    color=\"white\" if cm[i, j] > col_switch_thresh else \"black\")\n",
    "    fig.tight_layout()\n",
    "    \n",
    "    if save_name is not None:\n",
    "        fig = ax.get_figure()\n",
    "        fig.savefig(save_name,bbox_inches=\"tight\",pad_inches=0.2) "
   ]
  },
  {
   "cell_type": "code",
   "execution_count": 16,
   "metadata": {},
   "outputs": [],
   "source": [
    "def plot_roc_curve(y_test, y_score, classes, roc_multilabel_count=3, figsize=(8,8), save_name=None):\n",
    "    \n",
    "    \"\"\"\n",
    "    Plots ROC curves for classification scores\n",
    "    \n",
    "    Parameters\n",
    "    ----------\n",
    "    \n",
    "    y_test : numpy array\n",
    "        Ground truth target values \n",
    "        \n",
    "    y_score : numpy array\n",
    "        Predicted probabilities or decision functions of model of test set\n",
    "        \n",
    "    classes : numpy array\n",
    "        class names \n",
    "        \n",
    "    roc_multilabel_count : integer (default = 3)\n",
    "        how many labels in a multilabel problem to plot\n",
    "        \n",
    "    figsize : tuple (default = (8,8))\n",
    "        a tuple for matplotlib figsize (x,y)    \n",
    "        \n",
    "    save_name : string (default = None)\n",
    "        name of the plot to be saved, including the file extension\n",
    "        None for no plot saving\n",
    "\n",
    "    Returns\n",
    "    -------\n",
    "    None\n",
    "    \n",
    "    \"\"\"\n",
    "\n",
    "    # Compute ROC curve and ROC area for each class\n",
    "    fpr, tpr, roc_auc = {}, {}, {}\n",
    "    n_classes = len(classes)\n",
    "    if n_classes == 2:\n",
    "        fpr, tpr, _ = roc_curve(y_test, y_score)\n",
    "        roc_auc = auc(fpr, tpr)\n",
    "#         print(roc_auc)\n",
    "        \n",
    "        # Plot average and individual class curves\n",
    "        fig, ax = plt.subplots(figsize=figsize)\n",
    "        \n",
    "        ax.plot(fpr, tpr, color=plt.cm.tab10(0), lw=2,\n",
    "                     label=\"ROC curve (area = {0:0.4f})\".format(roc_auc))\n",
    "        \n",
    "        # Plot 50% line\n",
    "        ax.plot([0, 1], [0, 1], \"k--\", lw=2)\n",
    "        ax.set(xlim=[0.0, 1.0], ylim=[0.0, 1.05],\n",
    "               ylabel=\"True Positive Rate\", xlabel=\"False Positive Rate\")\n",
    "        ax.legend(loc=\"lower right\")\n",
    "\n",
    "\n",
    "    else:\n",
    "        for i in range(n_classes):\n",
    "            fpr[i], tpr[i], _ = roc_curve([sublist[i] for sublist in y_test], \n",
    "                              [sublist[i] for sublist in y_score])\n",
    "            roc_auc[i] = auc(fpr[i], tpr[i])\n",
    "\n",
    "        all_fpr = np.unique(np.concatenate([fpr[i] for i in range(n_classes)]))\n",
    "\n",
    "        # Interpolate ROC curves\n",
    "        mean_tpr, all_tpr = np.zeros_like(all_fpr), 0\n",
    "        for i in range(n_classes):\n",
    "            all_tpr += interp(all_fpr, fpr[i], tpr[i])\n",
    "\n",
    "        # Average ROCs and compute AUC\n",
    "        mean_tpr = all_tpr/n_classes\n",
    "\n",
    "        fpr[\"avg\"] = all_fpr\n",
    "        tpr[\"avg\"] = mean_tpr\n",
    "        roc_auc[\"avg\"] = auc(fpr[\"avg\"], tpr[\"avg\"])\n",
    "\n",
    "\n",
    "        # Plot average and individual class curves\n",
    "        fig, ax = plt.subplots(figsize=figsize)\n",
    "\n",
    "        if roc_multilabel_count > 1:\n",
    "            ax.plot(fpr[\"avg\"], tpr[\"avg\"],\n",
    "                     label=\"Average ROC curve (area = {0:0.4f})\".format(roc_auc[\"avg\"]),\n",
    "                     color=\"navy\", linestyle=\":\", linewidth=4)\n",
    "\n",
    "        for i in range(roc_multilabel_count):\n",
    "            ax.plot(fpr[i], tpr[i], color=plt.cm.tab10(i), lw=2,\n",
    "                     label=\"ROC curve of class {0} (area = {1:0.4f})\".format(classes[i], roc_auc[i]))\n",
    "\n",
    "        # Plot 50% line\n",
    "        ax.plot([0, 1], [0, 1], \"k--\", lw=2)\n",
    "        ax.set(xlim=[0.0, 1.0], ylim=[0.0, 1.05],\n",
    "               ylabel=\"True Positive Rate\", xlabel=\"False Positive Rate\")\n",
    "        ax.legend(loc=\"lower right\")\n",
    "    \n",
    "    \n",
    "    if save_name is not None:\n",
    "        fig = ax.get_figure()\n",
    "        fig.savefig(save_name,bbox_inches=\"tight\",pad_inches=0.2) "
   ]
  },
  {
   "cell_type": "markdown",
   "metadata": {},
   "source": [
    "## Preprocessing"
   ]
  },
  {
   "cell_type": "markdown",
   "metadata": {},
   "source": [
    "### Custom transforms and preprocessing pipeline steps"
   ]
  },
  {
   "cell_type": "code",
   "execution_count": 17,
   "metadata": {},
   "outputs": [],
   "source": [
    "## Numeric features if applicable\n",
    "#numeric_features = ['age', 'fare']\n",
    "#numeric_transformer = Pipeline(steps=[\n",
    "#    ('imputer', SimpleImputer(strategy='median')),\n",
    "#    ('scaler', StandardScaler())])\n",
    "\n",
    "## Categorical features if applicable\n",
    "#categorical_features = [\"Sentiment Score\"]\n",
    "#categorical_transformer = Pipeline(steps=[\n",
    "#    ('imputer', SimpleImputer(strategy='constant', fill_value='missing')),\n",
    "#    ('onehot', OneHotEncoder(handle_unknown='ignore'))])\n",
    "\n",
    "#preprocessor = ColumnTransformer(\n",
    "#    transformers=[\n",
    "#        ('num', numeric_transformer, numeric_features),\n",
    "#        (\"cat\", categorical_transformer, categorical_features)])\n",
    "\n",
    "\n",
    "## Create preprocessing pipelines\n",
    "\n",
    "\n",
    "## Column selector (removes non-essential columns as defined by user), X must be a pandas dataframe\n",
    "class ColumnSelector(BaseEstimator, TransformerMixin):\n",
    "    def __init__(self, columns):\n",
    "        self.columns = columns\n",
    "\n",
    "    def fit(self, X, y=None):\n",
    "        return self\n",
    "\n",
    "    def transform(self, X):\n",
    "        assert isinstance(X, pd.DataFrame)\n",
    "\n",
    "        try:\n",
    "            return X[self.columns]\n",
    "        except KeyError:\n",
    "            cols_error = list(set(self.columns) - set(X.columns))\n",
    "            raise KeyError(\"The DataFrame does not include the columns: %s\" % cols_error)\n",
    "\n",
    "## Create custom transformer\n",
    "class Tweet_cleaner(BaseEstimator, TransformerMixin):\n",
    "    def __init__(self, verbose=False, word2vec=False):\n",
    "        self.word2vec = word2vec\n",
    "        self.verbose = verbose\n",
    "        \n",
    "    def fit(self, X, y=None):\n",
    "        if(self.verbose):\n",
    "            print(\"Verbose mode on!\")\n",
    "        return self\n",
    "    \n",
    "    def transform(self, X, y=None):\n",
    "        #display(X)\n",
    "        #Use beautifulsoup to decode HTML code\n",
    "        print(\"Preprocessing...\")\n",
    "        X = [tweet for tweet in X[\"Tweet\"]]\n",
    "#         X = [(BeautifulSoup(tweet,\"lxml\").get_text()) for tweet in X[\"Tweet\"]]\n",
    "#         #X_2 = [re.sub(r\"@[A-Za-z0-9]+\",\"\",tweet) for tweet in X_1]\n",
    "#         X = [re.sub(\"https?://[A-Za-z0-9./]+\",\"\",tweet) for tweet in X]\n",
    "#         X = [re.sub(\"www.[A-Za-z0-9./]+\",\"\",tweet) for tweet in X]\n",
    "        \n",
    "#         if self.word2vec:\n",
    "#             # Concatenate to single string for word2vec embeddings transformation\n",
    "#             X = \" \".join(X)\n",
    "            \n",
    "        #X_5 = [(tweet.decode(\"utf-8-sig\")).replace(u\"\\ufffd\",\"\") for tweet in X_4]\n",
    "        #X_5 = [re.sub(\"[^a-zA-Z]\",\" \", tweet) for tweet in X_4]\n",
    "        #display(X_4)\n",
    "        print(\"Preprocess Complete\")\n",
    "\n",
    "        return X\n",
    "    \n",
    "class Text_cleaner(BaseEstimator, TransformerMixin):\n",
    "    # Clean the text, with the option to remove stopwords and to stem words.\n",
    "    \n",
    "    def __init__(self, verbose=False, remove_stopwords=False, stem_words=False, text_col=None, stopwords=None):\n",
    "        self.verbose = verbose\n",
    "        self.remove_stopwords = remove_stopwords\n",
    "        self.stem_words = stem_words\n",
    "        self.text_col = text_col\n",
    "        self.stopwords = stopwords\n",
    "        \n",
    "    def fit(self, X, y=None):\n",
    "        if(self.verbose):\n",
    "            print(\"Verbose mode on!\")\n",
    "        return self\n",
    "                 \n",
    "    def transform(self, X, y=None):\n",
    "        print(\"Preprocessing...\")\n",
    "        X_new = []\n",
    "                 \n",
    "        # Convert words to lower case and split them\n",
    "        for text in X[self.text_col]:\n",
    "            text = text.lower().split()\n",
    "\n",
    "            # Optionally, remove stop words\n",
    "            if self.remove_stopwords:\n",
    "                text = [w for w in text if not w in self.stopwords]\n",
    "\n",
    "            text = \" \".join(text)\n",
    "\n",
    "            # Clean the text\n",
    "            text = re.sub(r\"[^A-Za-z0-9^,!.\\/'+-=]\", \" \", text)\n",
    "            text = re.sub(r\"what's\", \"what is \", text)\n",
    "            text = re.sub(r\"that's\", \"that is \", text)\n",
    "            text = re.sub(r\"\\'s\", \" \", text)\n",
    "            text = re.sub(r\"\\'ve\", \" have \", text)\n",
    "            text = re.sub(r\"can't\", \"cannot \", text)\n",
    "            text = re.sub(r\"n't\", \" not \", text)\n",
    "            text = re.sub(r\"i'm\", \"i am \", text)\n",
    "            text = re.sub(r\"\\'re\", \" are \", text)\n",
    "            text = re.sub(r\"\\'d\", \" would \", text)\n",
    "            text = re.sub(r\"\\'ll\", \" will \", text)\n",
    "            text = re.sub(r\",\", \" \", text)\n",
    "            text = re.sub(r\"\\.\", \" \", text)\n",
    "            text = re.sub(r\"!\", \" ! \", text)\n",
    "            text = re.sub(r\"'\", \" \", text)\n",
    "            text = re.sub(r\"(\\d+)(k)\", r\"\\g<1>000\", text)\n",
    "            text = re.sub(r\":\", \" : \", text)\n",
    "            text = re.sub(r\" e g \", \" eg \", text)\n",
    "            text = re.sub(r\" b g \", \" bg \", text)\n",
    "            text = re.sub(r\" u s \", \" american \", text)\n",
    "            text = re.sub(r\"\\0s\", \"0\", text)\n",
    "            text = re.sub(r\" 9 11 \", \"911\", text)\n",
    "            text = re.sub(r\"e - mail\", \"email\", text)\n",
    "            text = re.sub(r\"\\s{2,}\", \" \", text)\n",
    "\n",
    "            # Optionally, shorten words to their stems\n",
    "            if self.stem_words:\n",
    "                text = text.split()\n",
    "                stemmer = SnowballStemmer('english')\n",
    "                stemmed_words = [stemmer.stem(word) for word in text]\n",
    "                text = \" \".join(stemmed_words)\n",
    "            \n",
    "            X_new.append(text)\n",
    "    \n",
    "\n",
    "        print(\"Preprocess Complete\")\n",
    "\n",
    "        return X_new\n",
    "    \n",
    "    \n",
    "## Add debug step to retrieve shape \n",
    "class Debug(BaseEstimator, TransformerMixin):\n",
    "    \n",
    "    def __init__(self, verbose=False):\n",
    "        self.verbose = verbose\n",
    "\n",
    "    def fit(self, X, y=None):\n",
    "        if(self.verbose):\n",
    "            print(\"Verbose mode on!\")\n",
    "        return self\n",
    "    \n",
    "    def transform(self, X):\n",
    "#         print(X[:5])\n",
    "        self.shape = X.shape\n",
    "        print(X.shape)\n",
    "        # what other output you want\n",
    "        return X"
   ]
  },
  {
   "cell_type": "markdown",
   "metadata": {},
   "source": [
    "## Define preprocessor param grid"
   ]
  },
  {
   "cell_type": "code",
   "execution_count": 18,
   "metadata": {},
   "outputs": [],
   "source": [
    "tweet_col = [\"Tweet\"]\n",
    "tweet_transformer = Pipeline(steps=[\n",
    "    (\"cleaner\", Tweet_cleaner()),\n",
    "    (\"tfidf_vectorizer\", TfidfVectorizer()),\n",
    "    (\"debug\", Debug())\n",
    "    ])\n",
    "  \n",
    "preprocessor = ColumnTransformer(\n",
    "    transformers=[\n",
    "        (\"tweet_transformer\", tweet_transformer, tweet_col)\n",
    "        ])\n",
    "\n",
    "param_grid = {\n",
    "    \"preprocessor__tweet_transformer__tfidf_vectorizer__max_features\": (1000,5000,15000),\n",
    "    \"preprocessor__tweet_transformer__tfidf_vectorizer__binary\": [True],\n",
    "    \"preprocessor__tweet_transformer__tfidf_vectorizer__token_pattern\": [r\"(?u)\\b\\w\\w+\\b|\\'\"],\n",
    "    \"preprocessor__tweet_transformer__tfidf_vectorizer__ngram_range\": [(1,2)],\n",
    "    }"
   ]
  },
  {
   "cell_type": "markdown",
   "metadata": {},
   "source": [
    "# Support Vector Machines"
   ]
  },
  {
   "cell_type": "markdown",
   "metadata": {},
   "source": [
    "## Linear Support Vector Classifier"
   ]
  },
  {
   "cell_type": "code",
   "execution_count": 15,
   "metadata": {},
   "outputs": [
    {
     "name": "stdout",
     "output_type": "stream",
     "text": [
      "Pipeline(steps=[('preprocessor',\n",
      "                 ColumnTransformer(transformers=[('tweet_transformer',\n",
      "                                                  Pipeline(steps=[('cleaner',\n",
      "                                                                   Tweet_cleaner()),\n",
      "                                                                  ('tfidf_vectorizer',\n",
      "                                                                   TfidfVectorizer()),\n",
      "                                                                  ('debug',\n",
      "                                                                   Debug())]),\n",
      "                                                  ['Tweet'])])),\n",
      "                ('linear_svc_classifier', LinearSVC(dual=False))])\n",
      "\n"
     ]
    }
   ],
   "source": [
    "# Linear support Vector Classification using one-vs-rest classification for multiclass learning\n",
    "linear_svc_clf = LinearSVC(verbose=0, multi_class=\"ovr\", dual=False)\n",
    "linear_svc_clf_fullpipe = Pipeline(steps=[\n",
    "    (\"preprocessor\", preprocessor),\n",
    "    (\"linear_svc_classifier\", linear_svc_clf)\n",
    "])\n",
    "print(linear_svc_clf_fullpipe)\n",
    "print(\"\")"
   ]
  },
  {
   "cell_type": "code",
   "execution_count": 138,
   "metadata": {},
   "outputs": [],
   "source": [
    "# Specify hyperparameter grids for optimization\n",
    "\n",
    "linear_svc_param_grid = {\n",
    "    \"linear_svc_classifier__penalty\": [\"l1\",\"l2\"],\n",
    "    \"linear_svc_classifier__C\": [x for x in np.logspace(-5, 5, base=2, num=5)],\n",
    "}\n",
    "\n",
    "linear_svc_param_grid.update(param_grid)"
   ]
  },
  {
   "cell_type": "code",
   "execution_count": 139,
   "metadata": {},
   "outputs": [],
   "source": [
    "# Dictionary of pipelines and classifier types for ease of reference\n",
    "pipe_dict = {\n",
    "    \"Linear_SVC\": (linear_svc_clf_fullpipe, linear_svc_param_grid),\n",
    "}"
   ]
  },
  {
   "cell_type": "markdown",
   "metadata": {},
   "source": [
    "### Train the linear SVC pipeline model"
   ]
  },
  {
   "cell_type": "code",
   "execution_count": 140,
   "metadata": {},
   "outputs": [
    {
     "name": "stdin",
     "output_type": "stream",
     "text": [
      "A joblib model file already exists with that name, \n",
      "do you wish to retrain the model? (Y/N) y\n"
     ]
    },
    {
     "name": "stdout",
     "output_type": "stream",
     "text": [
      "Pipeline(memory=None,\n",
      "         steps=[('preprocessor',\n",
      "                 ColumnTransformer(n_jobs=None, remainder='drop',\n",
      "                                   sparse_threshold=0.3,\n",
      "                                   transformer_weights=None,\n",
      "                                   transformers=[('tweet_transformer',\n",
      "                                                  Pipeline(memory=None,\n",
      "                                                           steps=[('cleaner',\n",
      "                                                                   Tweet_cleaner(verbose=False,\n",
      "                                                                                 word2vec=False)),\n",
      "                                                                  ('tfidf_vectorizer',\n",
      "                                                                   TfidfVectorizer(analyzer='word',\n",
      "                                                                                   binary=False,\n",
      "                                                                                   decode_error='strict',\n",
      "                                                                                   dtype=<...\n",
      "                                                                                   tokenizer=None,\n",
      "                                                                                   use_idf=True,\n",
      "                                                                                   vocabulary=None)),\n",
      "                                                                  ('debug',\n",
      "                                                                   Debug(verbose=False))],\n",
      "                                                           verbose=False),\n",
      "                                                  ['Tweet'])],\n",
      "                                   verbose=False)),\n",
      "                ('linear_svc_classifier',\n",
      "                 LinearSVC(C=1.0, class_weight=None, dual=False,\n",
      "                           fit_intercept=True, intercept_scaling=1,\n",
      "                           loss='squared_hinge', max_iter=1000,\n",
      "                           multi_class='ovr', penalty='l2', random_state=None,\n",
      "                           tol=0.0001, verbose=0))],\n",
      "         verbose=False)\n",
      "Param Grid: {'linear_svc_classifier__penalty': ['l1', 'l2'], 'linear_svc_classifier__C': [0.03125, 0.1767766952966369, 1.0, 5.656854249492381, 32.0], 'preprocessor__tweet_transformer__tfidf_vectorizer__max_features': (1000, 5000, 15000), 'preprocessor__tweet_transformer__tfidf_vectorizer__binary': [True], 'preprocessor__tweet_transformer__tfidf_vectorizer__token_pattern': [\"(?u)\\\\b\\\\w\\\\w+\\\\b|\\\\'\"], 'preprocessor__tweet_transformer__tfidf_vectorizer__ngram_range': [(1, 2)]}\n",
      "\n",
      "Training Linear_SVC on 112000 samples...\n",
      "Shape of inputs: (112000, 1)\n",
      "                                                                                                                                         Tweet\n",
      "510483   looks like tonight's a bit of a bust                                                                                                 \n",
      "1595178  you betcha jack wp is easy peasy stuff for me thinking some videos are in order                                                      \n",
      "10758    twit help how do i remove twitter column from tweet deck i set it to stay signed in it's not budging and i dont want it there anymore\n",
      "1258939  i have waited for the right opportunity to think about renting                                                                       \n",
      "61753    something good come on tv                                                                                                            \n",
      "Shape of outputs: (112000,)\n",
      "[0 1 0 1 0]\n",
      "\n",
      "Fitting 5 folds for each of 30 candidates, totalling 150 fits\n"
     ]
    },
    {
     "name": "stderr",
     "output_type": "stream",
     "text": [
      "[Parallel(n_jobs=12)]: Using backend LokyBackend with 12 concurrent workers.\n",
      "[Parallel(n_jobs=12)]: Done  17 tasks      | elapsed:   19.5s\n",
      "[Parallel(n_jobs=12)]: Done 150 out of 150 | elapsed:  1.8min finished\n"
     ]
    },
    {
     "name": "stdout",
     "output_type": "stream",
     "text": [
      "Preprocessing...\n",
      "Preprocess Complete\n",
      "(112000, 15000)\n",
      "\n",
      "Linear_SVC:\n",
      "Best Score:  0.7933214285714286\n",
      "Best Params:  {'linear_svc_classifier__C': 0.1767766952966369, 'linear_svc_classifier__penalty': 'l2', 'preprocessor__tweet_transformer__tfidf_vectorizer__binary': True, 'preprocessor__tweet_transformer__tfidf_vectorizer__max_features': 15000, 'preprocessor__tweet_transformer__tfidf_vectorizer__ngram_range': (1, 2), 'preprocessor__tweet_transformer__tfidf_vectorizer__token_pattern': \"(?u)\\\\b\\\\w\\\\w+\\\\b|\\\\'\"}\n"
     ]
    }
   ],
   "source": [
    "linear_svc_clf_final = pipeline_fit(\n",
    "                                        X_train=X_train,\n",
    "                                        y_train=y_train,\n",
    "                                        pipeline=\"Linear_SVC\", \n",
    "                                        search_method=\"gridsearch\", \n",
    "#                                         n_iter=3,\n",
    "                                        verbose_searchcv=2, \n",
    "                                        n_jobs=12, \n",
    "                                        save_name=\"Twitter_test\"\n",
    "                                    )"
   ]
  },
  {
   "cell_type": "markdown",
   "metadata": {},
   "source": [
    "### Evaluation"
   ]
  },
  {
   "cell_type": "code",
   "execution_count": 141,
   "metadata": {},
   "outputs": [
    {
     "name": "stdout",
     "output_type": "stream",
     "text": [
      "Preprocessing...\n",
      "Preprocess Complete\n",
      "(48000, 15000)\n",
      "Preprocessing...\n",
      "Preprocess Complete\n",
      "(48000, 15000)\n"
     ]
    }
   ],
   "source": [
    "y_pred_linear_svc = linear_svc_clf_final.predict(X_test)\n",
    "y_score_linear_svc = linear_svc_clf_final.decision_function(X_test)"
   ]
  },
  {
   "cell_type": "code",
   "execution_count": 142,
   "metadata": {},
   "outputs": [
    {
     "name": "stdout",
     "output_type": "stream",
     "text": [
      "Accuracy Score on Test Set:\n",
      "0.7941875\n"
     ]
    },
    {
     "data": {
      "image/png": "[encoded data removed]",
      "text/plain": [
       "<Figure size 576x576 with 2 Axes>"
      ]
     },
     "metadata": {},
     "output_type": "display_data"
    },
    {
     "data": {
      "image/png": "[encoded data removed]",
      "text/plain": [
       "<Figure size 576x576 with 1 Axes>"
      ]
     },
     "metadata": {},
     "output_type": "display_data"
    }
   ],
   "source": [
    "print(\"Accuracy Score on Test Set:\")\n",
    "# Inverse transform onehot labels using labelbinarizer\n",
    "print(accuracy_score(y_test, y_pred_linear_svc))\n",
    "\n",
    "# np.set_printoptions(precision=2)\n",
    "# print(linear_svc_clf_final.classes_)\n",
    "# Plot confusion matrix\n",
    "plot_confusion_matrix(y_test, y_pred_linear_svc, classes=linear_svc_clf_final.classes_)\n",
    "\n",
    "# Plot ROC curve (requires onehot targets)\n",
    "plot_roc_curve(y_test, y_score_linear_svc, classes=linear_svc_clf_final.classes_, roc_multilabel_count=2)"
   ]
  },
  {
   "cell_type": "markdown",
   "metadata": {},
   "source": [
    "## Nonlinear Support Vector Classifier"
   ]
  },
  {
   "cell_type": "code",
   "execution_count": 143,
   "metadata": {},
   "outputs": [],
   "source": [
    "# Specify hyperparameter grids for optimization\n",
    "\n",
    "gamma = [x for x in np.logspace(-15, 3, base=2, num=7)]\n",
    "gamma.append(\"scale\")\n",
    "gamma.append(\"auto\")\n",
    "\n",
    "svc_param_grid = {\n",
    "    \"svc_classifier__kernel\": [\"rbf\"],#,\"poly\",\"sigmoid\"],\n",
    "#     \"svc_classifier__degree\": [3,4,5],\n",
    "    \"svc_classifier__C\": [x for x in np.logspace(-5, 10, base=2, num=5)],\n",
    "    \"svc_classifier__gamma\": gamma\n",
    "}\n",
    "\n",
    "svc_param_grid.update(param_grid)"
   ]
  },
  {
   "cell_type": "code",
   "execution_count": 144,
   "metadata": {},
   "outputs": [
    {
     "name": "stdout",
     "output_type": "stream",
     "text": [
      "Pipeline(memory=None,\n",
      "         steps=[('preprocessor',\n",
      "                 ColumnTransformer(n_jobs=None, remainder='drop',\n",
      "                                   sparse_threshold=0.3,\n",
      "                                   transformer_weights=None,\n",
      "                                   transformers=[('tweet_transformer',\n",
      "                                                  Pipeline(memory=None,\n",
      "                                                           steps=[('cleaner',\n",
      "                                                                   Tweet_cleaner(verbose=False,\n",
      "                                                                                 word2vec=False)),\n",
      "                                                                  ('tfidf_vectorizer',\n",
      "                                                                   TfidfVectorizer(analyzer='word',\n",
      "                                                                                   binary=False,\n",
      "                                                                                   decode_error='strict',\n",
      "                                                                                   dtype=<...\n",
      "                                                                                   use_idf=True,\n",
      "                                                                                   vocabulary=None)),\n",
      "                                                                  ('debug',\n",
      "                                                                   Debug(verbose=False))],\n",
      "                                                           verbose=False),\n",
      "                                                  ['Tweet'])],\n",
      "                                   verbose=False)),\n",
      "                ('svc_classifier',\n",
      "                 SVC(C=1.0, break_ties=False, cache_size=200, class_weight=None,\n",
      "                     coef0=0.0, decision_function_shape='ovr', degree=3,\n",
      "                     gamma='scale', kernel='rbf', max_iter=-1,\n",
      "                     probability=False, random_state=None, shrinking=True,\n",
      "                     tol=0.001, verbose=3))],\n",
      "         verbose=False)\n",
      "\n"
     ]
    }
   ],
   "source": [
    "# Nonlinear support Vector Classification using one-vs-one classification for multiclass learning\n",
    "svc_clf = SVC(verbose=3)\n",
    "svc_clf_fullpipe = Pipeline(steps=[\n",
    "    (\"preprocessor\", preprocessor),\n",
    "    (\"svc_classifier\", svc_clf)\n",
    "])\n",
    "print(svc_clf_fullpipe)\n",
    "print(\"\")"
   ]
  },
  {
   "cell_type": "code",
   "execution_count": 145,
   "metadata": {},
   "outputs": [],
   "source": [
    "# Dictionary of pipelines and classifier types for ease of reference\n",
    "pipe_dict[\"SVC\"] = (svc_clf_fullpipe, svc_param_grid)"
   ]
  },
  {
   "cell_type": "markdown",
   "metadata": {},
   "source": [
    "### Train the Nonlinear SVC pipeline model"
   ]
  },
  {
   "cell_type": "code",
   "execution_count": 146,
   "metadata": {},
   "outputs": [
    {
     "name": "stdout",
     "output_type": "stream",
     "text": [
      "Pipeline(memory=None,\n",
      "         steps=[('preprocessor',\n",
      "                 ColumnTransformer(n_jobs=None, remainder='drop',\n",
      "                                   sparse_threshold=0.3,\n",
      "                                   transformer_weights=None,\n",
      "                                   transformers=[('tweet_transformer',\n",
      "                                                  Pipeline(memory=None,\n",
      "                                                           steps=[('cleaner',\n",
      "                                                                   Tweet_cleaner(verbose=False,\n",
      "                                                                                 word2vec=False)),\n",
      "                                                                  ('tfidf_vectorizer',\n",
      "                                                                   TfidfVectorizer(analyzer='word',\n",
      "                                                                                   binary=False,\n",
      "                                                                                   decode_error='strict',\n",
      "                                                                                   dtype=<...\n",
      "                                                                                   use_idf=True,\n",
      "                                                                                   vocabulary=None)),\n",
      "                                                                  ('debug',\n",
      "                                                                   Debug(verbose=False))],\n",
      "                                                           verbose=False),\n",
      "                                                  ['Tweet'])],\n",
      "                                   verbose=False)),\n",
      "                ('svc_classifier',\n",
      "                 SVC(C=1.0, break_ties=False, cache_size=200, class_weight=None,\n",
      "                     coef0=0.0, decision_function_shape='ovr', degree=3,\n",
      "                     gamma='scale', kernel='rbf', max_iter=-1,\n",
      "                     probability=False, random_state=None, shrinking=True,\n",
      "                     tol=0.001, verbose=3))],\n",
      "         verbose=False)\n",
      "Param Grid: {'svc_classifier__kernel': ['rbf'], 'svc_classifier__C': [0.03125, 0.42044820762685725, 5.656854249492381, 76.10925536017415, 1024.0], 'svc_classifier__gamma': [3.0517578125e-05, 0.000244140625, 0.001953125, 0.015625, 0.125, 1.0, 8.0, 'scale', 'auto'], 'preprocessor__tweet_transformer__tfidf_vectorizer__max_features': (1000, 5000, 15000), 'preprocessor__tweet_transformer__tfidf_vectorizer__binary': [True], 'preprocessor__tweet_transformer__tfidf_vectorizer__token_pattern': [\"(?u)\\\\b\\\\w\\\\w+\\\\b|\\\\'\"], 'preprocessor__tweet_transformer__tfidf_vectorizer__ngram_range': [(1, 2)]}\n",
      "\n",
      "Training SVC on 112000 samples...\n",
      "Shape of inputs: (112000, 1)\n",
      "                                                                                                                                         Tweet\n",
      "510483   looks like tonight's a bit of a bust                                                                                                 \n",
      "1595178  you betcha jack wp is easy peasy stuff for me thinking some videos are in order                                                      \n",
      "10758    twit help how do i remove twitter column from tweet deck i set it to stay signed in it's not budging and i dont want it there anymore\n",
      "1258939  i have waited for the right opportunity to think about renting                                                                       \n",
      "61753    something good come on tv                                                                                                            \n",
      "Shape of outputs: (112000,)\n",
      "[0 1 0 1 0]\n",
      "\n",
      "Fitting 3 folds for each of 3 candidates, totalling 9 fits\n"
     ]
    },
    {
     "name": "stderr",
     "output_type": "stream",
     "text": [
      "[Parallel(n_jobs=-1)]: Using backend LokyBackend with 24 concurrent workers.\n",
      "[Parallel(n_jobs=-1)]: Done   2 out of   9 | elapsed:   48.6s remaining:  2.8min\n",
      "[Parallel(n_jobs=-1)]: Done   7 out of   9 | elapsed:   48.6s remaining:   13.9s\n"
     ]
    },
    {
     "ename": "KeyboardInterrupt",
     "evalue": "",
     "output_type": "error",
     "traceback": [
      "\u001b[0;31m---------------------------------------------------------------------------\u001b[0m",
      "\u001b[0;31mKeyboardInterrupt\u001b[0m                         Traceback (most recent call last)",
      "\u001b[0;32m~/anaconda3/lib/python3.8/site-packages/joblib/parallel.py\u001b[0m in \u001b[0;36mretrieve\u001b[0;34m(self)\u001b[0m\n\u001b[1;32m    920\u001b[0m                 \u001b[0;32mif\u001b[0m \u001b[0mgetattr\u001b[0m\u001b[0;34m(\u001b[0m\u001b[0mself\u001b[0m\u001b[0;34m.\u001b[0m\u001b[0m_backend\u001b[0m\u001b[0;34m,\u001b[0m \u001b[0;34m'supports_timeout'\u001b[0m\u001b[0;34m,\u001b[0m \u001b[0;32mFalse\u001b[0m\u001b[0;34m)\u001b[0m\u001b[0;34m:\u001b[0m\u001b[0;34m\u001b[0m\u001b[0;34m\u001b[0m\u001b[0m\n\u001b[0;32m--> 921\u001b[0;31m                     \u001b[0mself\u001b[0m\u001b[0;34m.\u001b[0m\u001b[0m_output\u001b[0m\u001b[0;34m.\u001b[0m\u001b[0mextend\u001b[0m\u001b[0;34m(\u001b[0m\u001b[0mjob\u001b[0m\u001b[0;34m.\u001b[0m\u001b[0mget\u001b[0m\u001b[0;34m(\u001b[0m\u001b[0mtimeout\u001b[0m\u001b[0;34m=\u001b[0m\u001b[0mself\u001b[0m\u001b[0;34m.\u001b[0m\u001b[0mtimeout\u001b[0m\u001b[0;34m)\u001b[0m\u001b[0;34m)\u001b[0m\u001b[0;34m\u001b[0m\u001b[0;34m\u001b[0m\u001b[0m\n\u001b[0m\u001b[1;32m    922\u001b[0m                 \u001b[0;32melse\u001b[0m\u001b[0;34m:\u001b[0m\u001b[0;34m\u001b[0m\u001b[0;34m\u001b[0m\u001b[0m\n",
      "\u001b[0;32m~/anaconda3/lib/python3.8/site-packages/joblib/_parallel_backends.py\u001b[0m in \u001b[0;36mwrap_future_result\u001b[0;34m(future, timeout)\u001b[0m\n\u001b[1;32m    541\u001b[0m         \u001b[0;32mtry\u001b[0m\u001b[0;34m:\u001b[0m\u001b[0;34m\u001b[0m\u001b[0;34m\u001b[0m\u001b[0m\n\u001b[0;32m--> 542\u001b[0;31m             \u001b[0;32mreturn\u001b[0m \u001b[0mfuture\u001b[0m\u001b[0;34m.\u001b[0m\u001b[0mresult\u001b[0m\u001b[0;34m(\u001b[0m\u001b[0mtimeout\u001b[0m\u001b[0;34m=\u001b[0m\u001b[0mtimeout\u001b[0m\u001b[0;34m)\u001b[0m\u001b[0;34m\u001b[0m\u001b[0;34m\u001b[0m\u001b[0m\n\u001b[0m\u001b[1;32m    543\u001b[0m         \u001b[0;32mexcept\u001b[0m \u001b[0mCfTimeoutError\u001b[0m \u001b[0;32mas\u001b[0m \u001b[0me\u001b[0m\u001b[0;34m:\u001b[0m\u001b[0;34m\u001b[0m\u001b[0;34m\u001b[0m\u001b[0m\n",
      "\u001b[0;32m~/anaconda3/lib/python3.8/concurrent/futures/_base.py\u001b[0m in \u001b[0;36mresult\u001b[0;34m(self, timeout)\u001b[0m\n\u001b[1;32m    433\u001b[0m \u001b[0;34m\u001b[0m\u001b[0m\n\u001b[0;32m--> 434\u001b[0;31m             \u001b[0mself\u001b[0m\u001b[0;34m.\u001b[0m\u001b[0m_condition\u001b[0m\u001b[0;34m.\u001b[0m\u001b[0mwait\u001b[0m\u001b[0;34m(\u001b[0m\u001b[0mtimeout\u001b[0m\u001b[0;34m)\u001b[0m\u001b[0;34m\u001b[0m\u001b[0;34m\u001b[0m\u001b[0m\n\u001b[0m\u001b[1;32m    435\u001b[0m \u001b[0;34m\u001b[0m\u001b[0m\n",
      "\u001b[0;32m~/anaconda3/lib/python3.8/threading.py\u001b[0m in \u001b[0;36mwait\u001b[0;34m(self, timeout)\u001b[0m\n\u001b[1;32m    301\u001b[0m             \u001b[0;32mif\u001b[0m \u001b[0mtimeout\u001b[0m \u001b[0;32mis\u001b[0m \u001b[0;32mNone\u001b[0m\u001b[0;34m:\u001b[0m\u001b[0;34m\u001b[0m\u001b[0;34m\u001b[0m\u001b[0m\n\u001b[0;32m--> 302\u001b[0;31m                 \u001b[0mwaiter\u001b[0m\u001b[0;34m.\u001b[0m\u001b[0macquire\u001b[0m\u001b[0;34m(\u001b[0m\u001b[0;34m)\u001b[0m\u001b[0;34m\u001b[0m\u001b[0;34m\u001b[0m\u001b[0m\n\u001b[0m\u001b[1;32m    303\u001b[0m                 \u001b[0mgotit\u001b[0m \u001b[0;34m=\u001b[0m \u001b[0;32mTrue\u001b[0m\u001b[0;34m\u001b[0m\u001b[0;34m\u001b[0m\u001b[0m\n",
      "\u001b[0;31mKeyboardInterrupt\u001b[0m: ",
      "\nDuring handling of the above exception, another exception occurred:\n",
      "\u001b[0;31mKeyboardInterrupt\u001b[0m                         Traceback (most recent call last)",
      "\u001b[0;32m<ipython-input-146-446d5e4342ab>\u001b[0m in \u001b[0;36m<module>\u001b[0;34m\u001b[0m\n\u001b[0;32m----> 1\u001b[0;31m svc_clf_final = pipeline_fit(\n\u001b[0m\u001b[1;32m      2\u001b[0m                                 \u001b[0mX_train\u001b[0m\u001b[0;34m=\u001b[0m\u001b[0mX_train\u001b[0m\u001b[0;34m,\u001b[0m\u001b[0;34m\u001b[0m\u001b[0;34m\u001b[0m\u001b[0m\n\u001b[1;32m      3\u001b[0m                                 \u001b[0my_train\u001b[0m\u001b[0;34m=\u001b[0m\u001b[0my_train\u001b[0m\u001b[0;34m,\u001b[0m\u001b[0;34m\u001b[0m\u001b[0;34m\u001b[0m\u001b[0m\n\u001b[1;32m      4\u001b[0m                                 \u001b[0mpipeline\u001b[0m\u001b[0;34m=\u001b[0m\u001b[0;34m\"SVC\"\u001b[0m\u001b[0;34m,\u001b[0m\u001b[0;34m\u001b[0m\u001b[0;34m\u001b[0m\u001b[0m\n\u001b[1;32m      5\u001b[0m                                 \u001b[0msearch_method\u001b[0m\u001b[0;34m=\u001b[0m\u001b[0;34m\"randomsearch\"\u001b[0m\u001b[0;34m,\u001b[0m\u001b[0;34m\u001b[0m\u001b[0;34m\u001b[0m\u001b[0m\n",
      "\u001b[0;32m<ipython-input-72-5d86c75a298f>\u001b[0m in \u001b[0;36mpipeline_fit\u001b[0;34m(X_train, y_train, pipeline, save_name, keras_nn, search_method, n_iter, cv, verbose_searchcv, n_jobs)\u001b[0m\n\u001b[1;32m    127\u001b[0m     \u001b[0mprint\u001b[0m\u001b[0;34m(\u001b[0m\u001b[0;34m)\u001b[0m\u001b[0;34m\u001b[0m\u001b[0;34m\u001b[0m\u001b[0m\n\u001b[1;32m    128\u001b[0m \u001b[0;31m#     try:\u001b[0m\u001b[0;34m\u001b[0m\u001b[0;34m\u001b[0m\u001b[0;34m\u001b[0m\u001b[0m\n\u001b[0;32m--> 129\u001b[0;31m     \u001b[0msearch_cv\u001b[0m\u001b[0;34m.\u001b[0m\u001b[0mfit\u001b[0m\u001b[0;34m(\u001b[0m\u001b[0mX_train\u001b[0m\u001b[0;34m,\u001b[0m \u001b[0my_train\u001b[0m\u001b[0;34m)\u001b[0m\u001b[0;34m\u001b[0m\u001b[0;34m\u001b[0m\u001b[0m\n\u001b[0m\u001b[1;32m    130\u001b[0m \u001b[0;31m#     except ValueError:\u001b[0m\u001b[0;34m\u001b[0m\u001b[0;34m\u001b[0m\u001b[0;34m\u001b[0m\u001b[0m\n\u001b[1;32m    131\u001b[0m \u001b[0;31m#         ## If X_train is a dataframe with single column, convert y_train to match\u001b[0m\u001b[0;34m\u001b[0m\u001b[0;34m\u001b[0m\u001b[0;34m\u001b[0m\u001b[0m\n",
      "\u001b[0;32m~/anaconda3/lib/python3.8/site-packages/sklearn/model_selection/_search.py\u001b[0m in \u001b[0;36mfit\u001b[0;34m(self, X, y, groups, **fit_params)\u001b[0m\n\u001b[1;32m    708\u001b[0m                 \u001b[0;32mreturn\u001b[0m \u001b[0mresults\u001b[0m\u001b[0;34m\u001b[0m\u001b[0;34m\u001b[0m\u001b[0m\n\u001b[1;32m    709\u001b[0m \u001b[0;34m\u001b[0m\u001b[0m\n\u001b[0;32m--> 710\u001b[0;31m             \u001b[0mself\u001b[0m\u001b[0;34m.\u001b[0m\u001b[0m_run_search\u001b[0m\u001b[0;34m(\u001b[0m\u001b[0mevaluate_candidates\u001b[0m\u001b[0;34m)\u001b[0m\u001b[0;34m\u001b[0m\u001b[0;34m\u001b[0m\u001b[0m\n\u001b[0m\u001b[1;32m    711\u001b[0m \u001b[0;34m\u001b[0m\u001b[0m\n\u001b[1;32m    712\u001b[0m         \u001b[0;31m# For multi-metric evaluation, store the best_index_, best_params_ and\u001b[0m\u001b[0;34m\u001b[0m\u001b[0;34m\u001b[0m\u001b[0;34m\u001b[0m\u001b[0m\n",
      "\u001b[0;32m~/anaconda3/lib/python3.8/site-packages/sklearn/model_selection/_search.py\u001b[0m in \u001b[0;36m_run_search\u001b[0;34m(self, evaluate_candidates)\u001b[0m\n\u001b[1;32m   1480\u001b[0m     \u001b[0;32mdef\u001b[0m \u001b[0m_run_search\u001b[0m\u001b[0;34m(\u001b[0m\u001b[0mself\u001b[0m\u001b[0;34m,\u001b[0m \u001b[0mevaluate_candidates\u001b[0m\u001b[0;34m)\u001b[0m\u001b[0;34m:\u001b[0m\u001b[0;34m\u001b[0m\u001b[0;34m\u001b[0m\u001b[0m\n\u001b[1;32m   1481\u001b[0m         \u001b[0;34m\"\"\"Search n_iter candidates from param_distributions\"\"\"\u001b[0m\u001b[0;34m\u001b[0m\u001b[0;34m\u001b[0m\u001b[0m\n\u001b[0;32m-> 1482\u001b[0;31m         evaluate_candidates(ParameterSampler(\n\u001b[0m\u001b[1;32m   1483\u001b[0m             \u001b[0mself\u001b[0m\u001b[0;34m.\u001b[0m\u001b[0mparam_distributions\u001b[0m\u001b[0;34m,\u001b[0m \u001b[0mself\u001b[0m\u001b[0;34m.\u001b[0m\u001b[0mn_iter\u001b[0m\u001b[0;34m,\u001b[0m\u001b[0;34m\u001b[0m\u001b[0;34m\u001b[0m\u001b[0m\n\u001b[1;32m   1484\u001b[0m             random_state=self.random_state))\n",
      "\u001b[0;32m~/anaconda3/lib/python3.8/site-packages/sklearn/model_selection/_search.py\u001b[0m in \u001b[0;36mevaluate_candidates\u001b[0;34m(candidate_params)\u001b[0m\n\u001b[1;32m    680\u001b[0m                               n_splits, n_candidates, n_candidates * n_splits))\n\u001b[1;32m    681\u001b[0m \u001b[0;34m\u001b[0m\u001b[0m\n\u001b[0;32m--> 682\u001b[0;31m                 out = parallel(delayed(_fit_and_score)(clone(base_estimator),\n\u001b[0m\u001b[1;32m    683\u001b[0m                                                        \u001b[0mX\u001b[0m\u001b[0;34m,\u001b[0m \u001b[0my\u001b[0m\u001b[0;34m,\u001b[0m\u001b[0;34m\u001b[0m\u001b[0;34m\u001b[0m\u001b[0m\n\u001b[1;32m    684\u001b[0m                                                        \u001b[0mtrain\u001b[0m\u001b[0;34m=\u001b[0m\u001b[0mtrain\u001b[0m\u001b[0;34m,\u001b[0m \u001b[0mtest\u001b[0m\u001b[0;34m=\u001b[0m\u001b[0mtest\u001b[0m\u001b[0;34m,\u001b[0m\u001b[0;34m\u001b[0m\u001b[0;34m\u001b[0m\u001b[0m\n",
      "\u001b[0;32m~/anaconda3/lib/python3.8/site-packages/joblib/parallel.py\u001b[0m in \u001b[0;36m__call__\u001b[0;34m(self, iterable)\u001b[0m\n\u001b[1;32m   1040\u001b[0m \u001b[0;34m\u001b[0m\u001b[0m\n\u001b[1;32m   1041\u001b[0m             \u001b[0;32mwith\u001b[0m \u001b[0mself\u001b[0m\u001b[0;34m.\u001b[0m\u001b[0m_backend\u001b[0m\u001b[0;34m.\u001b[0m\u001b[0mretrieval_context\u001b[0m\u001b[0;34m(\u001b[0m\u001b[0;34m)\u001b[0m\u001b[0;34m:\u001b[0m\u001b[0;34m\u001b[0m\u001b[0;34m\u001b[0m\u001b[0m\n\u001b[0;32m-> 1042\u001b[0;31m                 \u001b[0mself\u001b[0m\u001b[0;34m.\u001b[0m\u001b[0mretrieve\u001b[0m\u001b[0;34m(\u001b[0m\u001b[0;34m)\u001b[0m\u001b[0;34m\u001b[0m\u001b[0;34m\u001b[0m\u001b[0m\n\u001b[0m\u001b[1;32m   1043\u001b[0m             \u001b[0;31m# Make sure that we get a last message telling us we are done\u001b[0m\u001b[0;34m\u001b[0m\u001b[0;34m\u001b[0m\u001b[0;34m\u001b[0m\u001b[0m\n\u001b[1;32m   1044\u001b[0m             \u001b[0melapsed_time\u001b[0m \u001b[0;34m=\u001b[0m \u001b[0mtime\u001b[0m\u001b[0;34m.\u001b[0m\u001b[0mtime\u001b[0m\u001b[0;34m(\u001b[0m\u001b[0;34m)\u001b[0m \u001b[0;34m-\u001b[0m \u001b[0mself\u001b[0m\u001b[0;34m.\u001b[0m\u001b[0m_start_time\u001b[0m\u001b[0;34m\u001b[0m\u001b[0;34m\u001b[0m\u001b[0m\n",
      "\u001b[0;32m~/anaconda3/lib/python3.8/site-packages/joblib/parallel.py\u001b[0m in \u001b[0;36mretrieve\u001b[0;34m(self)\u001b[0m\n\u001b[1;32m    941\u001b[0m                     \u001b[0;31m# scheduling.\u001b[0m\u001b[0;34m\u001b[0m\u001b[0;34m\u001b[0m\u001b[0;34m\u001b[0m\u001b[0m\n\u001b[1;32m    942\u001b[0m                     \u001b[0mensure_ready\u001b[0m \u001b[0;34m=\u001b[0m \u001b[0mself\u001b[0m\u001b[0;34m.\u001b[0m\u001b[0m_managed_backend\u001b[0m\u001b[0;34m\u001b[0m\u001b[0;34m\u001b[0m\u001b[0m\n\u001b[0;32m--> 943\u001b[0;31m                     \u001b[0mbackend\u001b[0m\u001b[0;34m.\u001b[0m\u001b[0mabort_everything\u001b[0m\u001b[0;34m(\u001b[0m\u001b[0mensure_ready\u001b[0m\u001b[0;34m=\u001b[0m\u001b[0mensure_ready\u001b[0m\u001b[0;34m)\u001b[0m\u001b[0;34m\u001b[0m\u001b[0;34m\u001b[0m\u001b[0m\n\u001b[0m\u001b[1;32m    944\u001b[0m                 \u001b[0;32mraise\u001b[0m\u001b[0;34m\u001b[0m\u001b[0;34m\u001b[0m\u001b[0m\n\u001b[1;32m    945\u001b[0m \u001b[0;34m\u001b[0m\u001b[0m\n",
      "\u001b[0;32m~/anaconda3/lib/python3.8/site-packages/joblib/_parallel_backends.py\u001b[0m in \u001b[0;36mabort_everything\u001b[0;34m(self, ensure_ready)\u001b[0m\n\u001b[1;32m    559\u001b[0m         \"\"\"Shutdown the workers and restart a new one with the same parameters\n\u001b[1;32m    560\u001b[0m         \"\"\"\n\u001b[0;32m--> 561\u001b[0;31m         \u001b[0mself\u001b[0m\u001b[0;34m.\u001b[0m\u001b[0m_workers\u001b[0m\u001b[0;34m.\u001b[0m\u001b[0mterminate\u001b[0m\u001b[0;34m(\u001b[0m\u001b[0mkill_workers\u001b[0m\u001b[0;34m=\u001b[0m\u001b[0;32mTrue\u001b[0m\u001b[0;34m)\u001b[0m\u001b[0;34m\u001b[0m\u001b[0;34m\u001b[0m\u001b[0m\n\u001b[0m\u001b[1;32m    562\u001b[0m         \u001b[0mself\u001b[0m\u001b[0;34m.\u001b[0m\u001b[0m_workers\u001b[0m \u001b[0;34m=\u001b[0m \u001b[0;32mNone\u001b[0m\u001b[0;34m\u001b[0m\u001b[0;34m\u001b[0m\u001b[0m\n\u001b[1;32m    563\u001b[0m \u001b[0;34m\u001b[0m\u001b[0m\n",
      "\u001b[0;32m~/anaconda3/lib/python3.8/site-packages/joblib/executor.py\u001b[0m in \u001b[0;36mterminate\u001b[0;34m(self, kill_workers)\u001b[0m\n\u001b[1;32m     72\u001b[0m \u001b[0;34m\u001b[0m\u001b[0m\n\u001b[1;32m     73\u001b[0m     \u001b[0;32mdef\u001b[0m \u001b[0mterminate\u001b[0m\u001b[0;34m(\u001b[0m\u001b[0mself\u001b[0m\u001b[0;34m,\u001b[0m \u001b[0mkill_workers\u001b[0m\u001b[0;34m=\u001b[0m\u001b[0;32mFalse\u001b[0m\u001b[0;34m)\u001b[0m\u001b[0;34m:\u001b[0m\u001b[0;34m\u001b[0m\u001b[0;34m\u001b[0m\u001b[0m\n\u001b[0;32m---> 74\u001b[0;31m         \u001b[0mself\u001b[0m\u001b[0;34m.\u001b[0m\u001b[0mshutdown\u001b[0m\u001b[0;34m(\u001b[0m\u001b[0mkill_workers\u001b[0m\u001b[0;34m=\u001b[0m\u001b[0mkill_workers\u001b[0m\u001b[0;34m)\u001b[0m\u001b[0;34m\u001b[0m\u001b[0;34m\u001b[0m\u001b[0m\n\u001b[0m\u001b[1;32m     75\u001b[0m         \u001b[0;32mif\u001b[0m \u001b[0mkill_workers\u001b[0m\u001b[0;34m:\u001b[0m\u001b[0;34m\u001b[0m\u001b[0;34m\u001b[0m\u001b[0m\n\u001b[1;32m     76\u001b[0m             \u001b[0;31m# When workers are killed in such a brutal manner, they cannot\u001b[0m\u001b[0;34m\u001b[0m\u001b[0;34m\u001b[0m\u001b[0;34m\u001b[0m\u001b[0m\n",
      "\u001b[0;32m~/anaconda3/lib/python3.8/site-packages/joblib/externals/loky/process_executor.py\u001b[0m in \u001b[0;36mshutdown\u001b[0;34m(self, wait, kill_workers)\u001b[0m\n\u001b[1;32m   1169\u001b[0m \u001b[0;34m\u001b[0m\u001b[0m\n\u001b[1;32m   1170\u001b[0m         \u001b[0;32mif\u001b[0m \u001b[0mexecutor_manager_thread\u001b[0m \u001b[0;32mis\u001b[0m \u001b[0;32mnot\u001b[0m \u001b[0;32mNone\u001b[0m \u001b[0;32mand\u001b[0m \u001b[0mwait\u001b[0m\u001b[0;34m:\u001b[0m\u001b[0;34m\u001b[0m\u001b[0;34m\u001b[0m\u001b[0m\n\u001b[0;32m-> 1171\u001b[0;31m             \u001b[0mexecutor_manager_thread\u001b[0m\u001b[0;34m.\u001b[0m\u001b[0mjoin\u001b[0m\u001b[0;34m(\u001b[0m\u001b[0;34m)\u001b[0m\u001b[0;34m\u001b[0m\u001b[0;34m\u001b[0m\u001b[0m\n\u001b[0m\u001b[1;32m   1172\u001b[0m \u001b[0;34m\u001b[0m\u001b[0m\n\u001b[1;32m   1173\u001b[0m         \u001b[0;31m# To reduce the risk of opening too many files, remove references to\u001b[0m\u001b[0;34m\u001b[0m\u001b[0;34m\u001b[0m\u001b[0;34m\u001b[0m\u001b[0m\n",
      "\u001b[0;32m~/anaconda3/lib/python3.8/threading.py\u001b[0m in \u001b[0;36mjoin\u001b[0;34m(self, timeout)\u001b[0m\n\u001b[1;32m   1009\u001b[0m \u001b[0;34m\u001b[0m\u001b[0m\n\u001b[1;32m   1010\u001b[0m         \u001b[0;32mif\u001b[0m \u001b[0mtimeout\u001b[0m \u001b[0;32mis\u001b[0m \u001b[0;32mNone\u001b[0m\u001b[0;34m:\u001b[0m\u001b[0;34m\u001b[0m\u001b[0;34m\u001b[0m\u001b[0m\n\u001b[0;32m-> 1011\u001b[0;31m             \u001b[0mself\u001b[0m\u001b[0;34m.\u001b[0m\u001b[0m_wait_for_tstate_lock\u001b[0m\u001b[0;34m(\u001b[0m\u001b[0;34m)\u001b[0m\u001b[0;34m\u001b[0m\u001b[0;34m\u001b[0m\u001b[0m\n\u001b[0m\u001b[1;32m   1012\u001b[0m         \u001b[0;32melse\u001b[0m\u001b[0;34m:\u001b[0m\u001b[0;34m\u001b[0m\u001b[0;34m\u001b[0m\u001b[0m\n\u001b[1;32m   1013\u001b[0m             \u001b[0;31m# the behavior of a negative timeout isn't documented, but\u001b[0m\u001b[0;34m\u001b[0m\u001b[0;34m\u001b[0m\u001b[0;34m\u001b[0m\u001b[0m\n",
      "\u001b[0;32m~/anaconda3/lib/python3.8/threading.py\u001b[0m in \u001b[0;36m_wait_for_tstate_lock\u001b[0;34m(self, block, timeout)\u001b[0m\n\u001b[1;32m   1025\u001b[0m         \u001b[0;32mif\u001b[0m \u001b[0mlock\u001b[0m \u001b[0;32mis\u001b[0m \u001b[0;32mNone\u001b[0m\u001b[0;34m:\u001b[0m  \u001b[0;31m# already determined that the C code is done\u001b[0m\u001b[0;34m\u001b[0m\u001b[0;34m\u001b[0m\u001b[0m\n\u001b[1;32m   1026\u001b[0m             \u001b[0;32massert\u001b[0m \u001b[0mself\u001b[0m\u001b[0;34m.\u001b[0m\u001b[0m_is_stopped\u001b[0m\u001b[0;34m\u001b[0m\u001b[0;34m\u001b[0m\u001b[0m\n\u001b[0;32m-> 1027\u001b[0;31m         \u001b[0;32melif\u001b[0m \u001b[0mlock\u001b[0m\u001b[0;34m.\u001b[0m\u001b[0macquire\u001b[0m\u001b[0;34m(\u001b[0m\u001b[0mblock\u001b[0m\u001b[0;34m,\u001b[0m \u001b[0mtimeout\u001b[0m\u001b[0;34m)\u001b[0m\u001b[0;34m:\u001b[0m\u001b[0;34m\u001b[0m\u001b[0;34m\u001b[0m\u001b[0m\n\u001b[0m\u001b[1;32m   1028\u001b[0m             \u001b[0mlock\u001b[0m\u001b[0;34m.\u001b[0m\u001b[0mrelease\u001b[0m\u001b[0;34m(\u001b[0m\u001b[0;34m)\u001b[0m\u001b[0;34m\u001b[0m\u001b[0;34m\u001b[0m\u001b[0m\n\u001b[1;32m   1029\u001b[0m             \u001b[0mself\u001b[0m\u001b[0;34m.\u001b[0m\u001b[0m_stop\u001b[0m\u001b[0;34m(\u001b[0m\u001b[0;34m)\u001b[0m\u001b[0;34m\u001b[0m\u001b[0;34m\u001b[0m\u001b[0m\n",
      "\u001b[0;31mKeyboardInterrupt\u001b[0m: "
     ]
    }
   ],
   "source": [
    "svc_clf_final = pipeline_fit(\n",
    "                                X_train=X_train,\n",
    "                                y_train=y_train,\n",
    "                                pipeline=\"SVC\", \n",
    "                                search_method=\"randomsearch\", \n",
    "                                n_iter=3,\n",
    "                                cv=3,\n",
    "                                verbose_searchcv=2, \n",
    "                                n_jobs=-1, \n",
    "                                save_name=None\n",
    "                            )"
   ]
  },
  {
   "cell_type": "markdown",
   "metadata": {},
   "source": [
    "### Evaluation"
   ]
  },
  {
   "cell_type": "code",
   "execution_count": null,
   "metadata": {},
   "outputs": [],
   "source": [
    "y_pred_svc = svc_clf_final.predict(X_test)\n",
    "y_score_svc = svc_clf_final.decision_function(X_test)"
   ]
  },
  {
   "cell_type": "code",
   "execution_count": null,
   "metadata": {},
   "outputs": [],
   "source": [
    "print(\"Accuracy Score on Test Set:\")\n",
    "print(accuracy_score(y_test, y_pred_svc))\n",
    "\n",
    "# np.set_printoptions(precision=2)\n",
    "\n",
    "# Plot confusion matrix\n",
    "plot_confusion_matrix(y_test, y_pred_svc, classes=svc_clf_final.classes_)\n",
    "\n",
    "# Plot ROC curve (requires onehot targets)\n",
    "plot_roc_curve(y_test_onehot, y_score_svc, classes=svc_clf_final.classes_, roc_multilabel_count=2)"
   ]
  },
  {
   "cell_type": "markdown",
   "metadata": {},
   "source": [
    "# Random Forest Classifier"
   ]
  },
  {
   "cell_type": "code",
   "execution_count": 19,
   "metadata": {},
   "outputs": [
    {
     "name": "stdout",
     "output_type": "stream",
     "text": [
      "Pipeline(memory=None,\n",
      "         steps=[('preprocessor',\n",
      "                 ColumnTransformer(n_jobs=None, remainder='drop',\n",
      "                                   sparse_threshold=0.3,\n",
      "                                   transformer_weights=None,\n",
      "                                   transformers=[('tweet_transformer',\n",
      "                                                  Pipeline(memory=None,\n",
      "                                                           steps=[('cleaner',\n",
      "                                                                   Tweet_cleaner(verbose=False,\n",
      "                                                                                 word2vec=False)),\n",
      "                                                                  ('tfidf_vectorizer',\n",
      "                                                                   TfidfVectorizer(analyzer='word',\n",
      "                                                                                   binary=False,\n",
      "                                                                                   decode_error='strict',\n",
      "                                                                                   dtype=<...\n",
      "                 RandomForestClassifier(bootstrap=True, ccp_alpha=0.0,\n",
      "                                        class_weight=None, criterion='gini',\n",
      "                                        max_depth=None, max_features='auto',\n",
      "                                        max_leaf_nodes=None, max_samples=None,\n",
      "                                        min_impurity_decrease=0.0,\n",
      "                                        min_impurity_split=None,\n",
      "                                        min_samples_leaf=1, min_samples_split=2,\n",
      "                                        min_weight_fraction_leaf=0.0,\n",
      "                                        n_estimators=100, n_jobs=None,\n",
      "                                        oob_score=False, random_state=None,\n",
      "                                        verbose=0, warm_start=False))],\n",
      "         verbose=False)\n",
      "\n"
     ]
    }
   ],
   "source": [
    "# Linear support Vector Classification using one-vs-rest classification for multiclass learning\n",
    "rf_clf = RandomForestClassifier(verbose=0)\n",
    "rf_clf_fullpipe = Pipeline(steps=[\n",
    "    (\"preprocessor\", preprocessor),\n",
    "    (\"rf_classifier\", rf_clf)\n",
    "])\n",
    "print(rf_clf_fullpipe)\n",
    "print(\"\")"
   ]
  },
  {
   "cell_type": "code",
   "execution_count": 20,
   "metadata": {},
   "outputs": [],
   "source": [
    "# Specify hyperparameter grids for optimization\n",
    "\n",
    "max_depth = [int(x) for x in np.linspace(10,110,11)]\n",
    "max_depth.append(None)\n",
    "\n",
    "gamma = [x for x in np.logspace(-15,3,base=2,num=7)]\n",
    "gamma.append(\"scale\")\n",
    "gamma.append(\"auto\")\n",
    "\n",
    "rf_param_grid = {\n",
    "    \"rf_classifier__n_estimators\": [int(x) for x in np.linspace(50,500,11)],\n",
    "    \"rf_classifier__max_depth\": max_depth,\n",
    "    \"rf_classifier__max_features\": [\"auto\"],\n",
    "    \"rf_classifier__min_samples_split\": [2, 10, 100],\n",
    "    \"rf_classifier__min_samples_leaf\": [1, 2, 4, 10],\n",
    "    }\n",
    "\n",
    "\n",
    "rf_param_grid.update(param_grid)"
   ]
  },
  {
   "cell_type": "code",
   "execution_count": 21,
   "metadata": {},
   "outputs": [],
   "source": [
    "# Dictionary of pipelines and classifier types for ease of reference\n",
    "pipe_dict = {\n",
    "    \"RandomForest\": (rf_clf_fullpipe, rf_param_grid),\n",
    "}"
   ]
  },
  {
   "cell_type": "markdown",
   "metadata": {},
   "source": [
    "### Train the random forest pipeline model"
   ]
  },
  {
   "cell_type": "code",
   "execution_count": 22,
   "metadata": {},
   "outputs": [
    {
     "name": "stdout",
     "output_type": "stream",
     "text": [
      "                                                                                                                                         Tweet\n",
      "510483   looks like tonight's a bit of a bust                                                                                                 \n",
      "1595178  you betcha jack wp is easy peasy stuff for me thinking some videos are in order                                                      \n",
      "10758    twit help how do i remove twitter column from tweet deck i set it to stay signed in it's not budging and i dont want it there anymore\n",
      "1258939  i have waited for the right opportunity to think about renting                                                                       \n",
      "61753    something good come on tv                                                                                                            \n",
      "...                            ...                                                                                                            \n",
      "1137013  hi i'm well thank you and yourself hope you're having a good sunday so far                                                           \n",
      "1285366  tired from everything today had loads of fun though now i havta get ready for church                                                 \n",
      "317531   blahh well the bus s really cold today and i don't have a jacket haha and more people need to txt me                                 \n",
      "961795   good morning everyone                                                                                                                \n",
      "1165120                                                                                                                                       \n",
      "\n",
      "[112000 rows x 1 columns]\n",
      "[0 1 0 ... 0 1 1]\n"
     ]
    }
   ],
   "source": [
    "print(X_train)\n",
    "print(y_train)"
   ]
  },
  {
   "cell_type": "code",
   "execution_count": 23,
   "metadata": {},
   "outputs": [
    {
     "name": "stdout",
     "output_type": "stream",
     "text": [
      "Pipeline(memory=None,\n",
      "         steps=[('preprocessor',\n",
      "                 ColumnTransformer(n_jobs=None, remainder='drop',\n",
      "                                   sparse_threshold=0.3,\n",
      "                                   transformer_weights=None,\n",
      "                                   transformers=[('tweet_transformer',\n",
      "                                                  Pipeline(memory=None,\n",
      "                                                           steps=[('cleaner',\n",
      "                                                                   Tweet_cleaner(verbose=False,\n",
      "                                                                                 word2vec=False)),\n",
      "                                                                  ('tfidf_vectorizer',\n",
      "                                                                   TfidfVectorizer(analyzer='word',\n",
      "                                                                                   binary=False,\n",
      "                                                                                   decode_error='strict',\n",
      "                                                                                   dtype=<...\n",
      "                 RandomForestClassifier(bootstrap=True, ccp_alpha=0.0,\n",
      "                                        class_weight=None, criterion='gini',\n",
      "                                        max_depth=None, max_features='auto',\n",
      "                                        max_leaf_nodes=None, max_samples=None,\n",
      "                                        min_impurity_decrease=0.0,\n",
      "                                        min_impurity_split=None,\n",
      "                                        min_samples_leaf=1, min_samples_split=2,\n",
      "                                        min_weight_fraction_leaf=0.0,\n",
      "                                        n_estimators=100, n_jobs=None,\n",
      "                                        oob_score=False, random_state=None,\n",
      "                                        verbose=0, warm_start=False))],\n",
      "         verbose=False)\n",
      "Param Grid: {'rf_classifier__n_estimators': [50, 95, 140, 185, 230, 275, 320, 365, 410, 455, 500], 'rf_classifier__max_depth': [10, 20, 30, 40, 50, 60, 70, 80, 90, 100, 110, None], 'rf_classifier__max_features': ['auto'], 'rf_classifier__min_samples_split': [2, 10, 100], 'rf_classifier__min_samples_leaf': [1, 2, 4, 10], 'preprocessor__tweet_transformer__tfidf_vectorizer__max_features': (1000, 5000, 15000), 'preprocessor__tweet_transformer__tfidf_vectorizer__binary': [True], 'preprocessor__tweet_transformer__tfidf_vectorizer__token_pattern': [\"(?u)\\\\b\\\\w\\\\w+\\\\b|\\\\'\"], 'preprocessor__tweet_transformer__tfidf_vectorizer__ngram_range': [(1, 2)]}\n",
      "\n",
      "Training RandomForest on 112000 samples...\n",
      "Shape of inputs: (112000, 1)\n",
      "                                                                                                                                         Tweet\n",
      "510483   looks like tonight's a bit of a bust                                                                                                 \n",
      "1595178  you betcha jack wp is easy peasy stuff for me thinking some videos are in order                                                      \n",
      "10758    twit help how do i remove twitter column from tweet deck i set it to stay signed in it's not budging and i dont want it there anymore\n",
      "1258939  i have waited for the right opportunity to think about renting                                                                       \n",
      "61753    something good come on tv                                                                                                            \n",
      "Shape of outputs: (112000,)\n",
      "[0 1 0 1 0]\n",
      "\n",
      "Fitting 5 folds for each of 10 candidates, totalling 50 fits\n"
     ]
    },
    {
     "name": "stderr",
     "output_type": "stream",
     "text": [
      "[Parallel(n_jobs=6)]: Using backend LokyBackend with 6 concurrent workers.\n",
      "exception calling callback for <Future at 0x7fa1b53dc250 state=finished raised BrokenProcessPool>\n",
      "joblib.externals.loky.process_executor._RemoteTraceback: \n",
      "\"\"\"\n",
      "Traceback (most recent call last):\n",
      "  File \"/home/ataralyxius/anaconda3/lib/python3.8/site-packages/joblib/externals/loky/process_executor.py\", line 404, in _process_worker\n",
      "    call_item = call_queue.get(block=True, timeout=timeout)\n",
      "  File \"/home/ataralyxius/anaconda3/lib/python3.8/multiprocessing/queues.py\", line 116, in get\n",
      "    return _ForkingPickler.loads(res)\n",
      "  File \"/home/ataralyxius/anaconda3/lib/python3.8/site-packages/ipykernel/__init__.py\", line 2, in <module>\n",
      "    from .connect import *\n",
      "  File \"/home/ataralyxius/anaconda3/lib/python3.8/site-packages/ipykernel/connect.py\", line 13, in <module>\n",
      "    from IPython.core.profiledir import ProfileDir\n",
      "  File \"/home/ataralyxius/anaconda3/lib/python3.8/site-packages/IPython/__init__.py\", line 56, in <module>\n",
      "    from .terminal.embed import embed\n",
      "  File \"/home/ataralyxius/anaconda3/lib/python3.8/site-packages/IPython/terminal/embed.py\", line 16, in <module>\n",
      "    from IPython.terminal.interactiveshell import TerminalInteractiveShell\n",
      "  File \"/home/ataralyxius/anaconda3/lib/python3.8/site-packages/IPython/terminal/interactiveshell.py\", line 21, in <module>\n",
      "    from prompt_toolkit.formatted_text import PygmentsTokens\n",
      "ModuleNotFoundError: No module named 'prompt_toolkit.formatted_text'\n",
      "\"\"\"\n",
      "\n",
      "The above exception was the direct cause of the following exception:\n",
      "\n",
      "Traceback (most recent call last):\n",
      "  File \"/home/ataralyxius/anaconda3/lib/python3.8/site-packages/joblib/externals/loky/_base.py\", line 625, in _invoke_callbacks\n",
      "    callback(self)\n",
      "  File \"/home/ataralyxius/anaconda3/lib/python3.8/site-packages/joblib/parallel.py\", line 347, in __call__\n",
      "    self.parallel.dispatch_next()\n",
      "  File \"/home/ataralyxius/anaconda3/lib/python3.8/site-packages/joblib/parallel.py\", line 780, in dispatch_next\n",
      "    if not self.dispatch_one_batch(self._original_iterator):\n",
      "  File \"/home/ataralyxius/anaconda3/lib/python3.8/site-packages/joblib/parallel.py\", line 847, in dispatch_one_batch\n",
      "    self._dispatch(tasks)\n",
      "  File \"/home/ataralyxius/anaconda3/lib/python3.8/site-packages/joblib/parallel.py\", line 765, in _dispatch\n",
      "    job = self._backend.apply_async(batch, callback=cb)\n",
      "  File \"/home/ataralyxius/anaconda3/lib/python3.8/site-packages/joblib/_parallel_backends.py\", line 531, in apply_async\n",
      "    future = self._workers.submit(SafeFunction(func))\n",
      "  File \"/home/ataralyxius/anaconda3/lib/python3.8/site-packages/joblib/externals/loky/reusable_executor.py\", line 177, in submit\n",
      "    return super(_ReusablePoolExecutor, self).submit(\n",
      "  File \"/home/ataralyxius/anaconda3/lib/python3.8/site-packages/joblib/externals/loky/process_executor.py\", line 1102, in submit\n",
      "    raise self._flags.broken\n",
      "joblib.externals.loky.process_executor.BrokenProcessPool: A task has failed to un-serialize. Please ensure that the arguments of the function are all picklable.\n"
     ]
    },
    {
     "ename": "BrokenProcessPool",
     "evalue": "A task has failed to un-serialize. Please ensure that the arguments of the function are all picklable.",
     "output_type": "error",
     "traceback": [
      "\u001b[0;31m---------------------------------------------------------------------------\u001b[0m",
      "\u001b[0;31m_RemoteTraceback\u001b[0m                          Traceback (most recent call last)",
      "\u001b[0;31m_RemoteTraceback\u001b[0m: \n\"\"\"\nTraceback (most recent call last):\n  File \"/home/ataralyxius/anaconda3/lib/python3.8/site-packages/joblib/externals/loky/process_executor.py\", line 404, in _process_worker\n    call_item = call_queue.get(block=True, timeout=timeout)\n  File \"/home/ataralyxius/anaconda3/lib/python3.8/multiprocessing/queues.py\", line 116, in get\n    return _ForkingPickler.loads(res)\n  File \"/home/ataralyxius/anaconda3/lib/python3.8/site-packages/ipykernel/__init__.py\", line 2, in <module>\n    from .connect import *\n  File \"/home/ataralyxius/anaconda3/lib/python3.8/site-packages/ipykernel/connect.py\", line 13, in <module>\n    from IPython.core.profiledir import ProfileDir\n  File \"/home/ataralyxius/anaconda3/lib/python3.8/site-packages/IPython/__init__.py\", line 56, in <module>\n    from .terminal.embed import embed\n  File \"/home/ataralyxius/anaconda3/lib/python3.8/site-packages/IPython/terminal/embed.py\", line 16, in <module>\n    from IPython.terminal.interactiveshell import TerminalInteractiveShell\n  File \"/home/ataralyxius/anaconda3/lib/python3.8/site-packages/IPython/terminal/interactiveshell.py\", line 21, in <module>\n    from prompt_toolkit.formatted_text import PygmentsTokens\nModuleNotFoundError: No module named 'prompt_toolkit.formatted_text'\n\"\"\"",
      "\nThe above exception was the direct cause of the following exception:\n",
      "\u001b[0;31mBrokenProcessPool\u001b[0m                         Traceback (most recent call last)",
      "\u001b[0;32m<ipython-input-23-ff6b3f8686f0>\u001b[0m in \u001b[0;36m<module>\u001b[0;34m\u001b[0m\n\u001b[0;32m----> 1\u001b[0;31m rf_clf_final = pipeline_fit(\n\u001b[0m\u001b[1;32m      2\u001b[0m                                 \u001b[0mX_train\u001b[0m\u001b[0;34m=\u001b[0m\u001b[0mX_train\u001b[0m\u001b[0;34m,\u001b[0m\u001b[0;34m\u001b[0m\u001b[0;34m\u001b[0m\u001b[0m\n\u001b[1;32m      3\u001b[0m                                 \u001b[0my_train\u001b[0m\u001b[0;34m=\u001b[0m\u001b[0my_train\u001b[0m\u001b[0;34m,\u001b[0m\u001b[0;34m\u001b[0m\u001b[0;34m\u001b[0m\u001b[0m\n\u001b[1;32m      4\u001b[0m                                 \u001b[0mpipeline\u001b[0m\u001b[0;34m=\u001b[0m\u001b[0;34m\"RandomForest\"\u001b[0m\u001b[0;34m,\u001b[0m\u001b[0;34m\u001b[0m\u001b[0;34m\u001b[0m\u001b[0m\n\u001b[1;32m      5\u001b[0m                                 \u001b[0msearch_method\u001b[0m\u001b[0;34m=\u001b[0m\u001b[0;34m\"randomsearch\"\u001b[0m\u001b[0;34m,\u001b[0m\u001b[0;34m\u001b[0m\u001b[0;34m\u001b[0m\u001b[0m\n",
      "\u001b[0;32m<ipython-input-10-5d86c75a298f>\u001b[0m in \u001b[0;36mpipeline_fit\u001b[0;34m(X_train, y_train, pipeline, save_name, keras_nn, search_method, n_iter, cv, verbose_searchcv, n_jobs)\u001b[0m\n\u001b[1;32m    127\u001b[0m     \u001b[0mprint\u001b[0m\u001b[0;34m(\u001b[0m\u001b[0;34m)\u001b[0m\u001b[0;34m\u001b[0m\u001b[0;34m\u001b[0m\u001b[0m\n\u001b[1;32m    128\u001b[0m \u001b[0;31m#     try:\u001b[0m\u001b[0;34m\u001b[0m\u001b[0;34m\u001b[0m\u001b[0;34m\u001b[0m\u001b[0m\n\u001b[0;32m--> 129\u001b[0;31m     \u001b[0msearch_cv\u001b[0m\u001b[0;34m.\u001b[0m\u001b[0mfit\u001b[0m\u001b[0;34m(\u001b[0m\u001b[0mX_train\u001b[0m\u001b[0;34m,\u001b[0m \u001b[0my_train\u001b[0m\u001b[0;34m)\u001b[0m\u001b[0;34m\u001b[0m\u001b[0;34m\u001b[0m\u001b[0m\n\u001b[0m\u001b[1;32m    130\u001b[0m \u001b[0;31m#     except ValueError:\u001b[0m\u001b[0;34m\u001b[0m\u001b[0;34m\u001b[0m\u001b[0;34m\u001b[0m\u001b[0m\n\u001b[1;32m    131\u001b[0m \u001b[0;31m#         ## If X_train is a dataframe with single column, convert y_train to match\u001b[0m\u001b[0;34m\u001b[0m\u001b[0;34m\u001b[0m\u001b[0;34m\u001b[0m\u001b[0m\n",
      "\u001b[0;32m~/anaconda3/lib/python3.8/site-packages/sklearn/model_selection/_search.py\u001b[0m in \u001b[0;36mfit\u001b[0;34m(self, X, y, groups, **fit_params)\u001b[0m\n\u001b[1;32m    708\u001b[0m                 \u001b[0;32mreturn\u001b[0m \u001b[0mresults\u001b[0m\u001b[0;34m\u001b[0m\u001b[0;34m\u001b[0m\u001b[0m\n\u001b[1;32m    709\u001b[0m \u001b[0;34m\u001b[0m\u001b[0m\n\u001b[0;32m--> 710\u001b[0;31m             \u001b[0mself\u001b[0m\u001b[0;34m.\u001b[0m\u001b[0m_run_search\u001b[0m\u001b[0;34m(\u001b[0m\u001b[0mevaluate_candidates\u001b[0m\u001b[0;34m)\u001b[0m\u001b[0;34m\u001b[0m\u001b[0;34m\u001b[0m\u001b[0m\n\u001b[0m\u001b[1;32m    711\u001b[0m \u001b[0;34m\u001b[0m\u001b[0m\n\u001b[1;32m    712\u001b[0m         \u001b[0;31m# For multi-metric evaluation, store the best_index_, best_params_ and\u001b[0m\u001b[0;34m\u001b[0m\u001b[0;34m\u001b[0m\u001b[0;34m\u001b[0m\u001b[0m\n",
      "\u001b[0;32m~/anaconda3/lib/python3.8/site-packages/sklearn/model_selection/_search.py\u001b[0m in \u001b[0;36m_run_search\u001b[0;34m(self, evaluate_candidates)\u001b[0m\n\u001b[1;32m   1480\u001b[0m     \u001b[0;32mdef\u001b[0m \u001b[0m_run_search\u001b[0m\u001b[0;34m(\u001b[0m\u001b[0mself\u001b[0m\u001b[0;34m,\u001b[0m \u001b[0mevaluate_candidates\u001b[0m\u001b[0;34m)\u001b[0m\u001b[0;34m:\u001b[0m\u001b[0;34m\u001b[0m\u001b[0;34m\u001b[0m\u001b[0m\n\u001b[1;32m   1481\u001b[0m         \u001b[0;34m\"\"\"Search n_iter candidates from param_distributions\"\"\"\u001b[0m\u001b[0;34m\u001b[0m\u001b[0;34m\u001b[0m\u001b[0m\n\u001b[0;32m-> 1482\u001b[0;31m         evaluate_candidates(ParameterSampler(\n\u001b[0m\u001b[1;32m   1483\u001b[0m             \u001b[0mself\u001b[0m\u001b[0;34m.\u001b[0m\u001b[0mparam_distributions\u001b[0m\u001b[0;34m,\u001b[0m \u001b[0mself\u001b[0m\u001b[0;34m.\u001b[0m\u001b[0mn_iter\u001b[0m\u001b[0;34m,\u001b[0m\u001b[0;34m\u001b[0m\u001b[0;34m\u001b[0m\u001b[0m\n\u001b[1;32m   1484\u001b[0m             random_state=self.random_state))\n",
      "\u001b[0;32m~/anaconda3/lib/python3.8/site-packages/sklearn/model_selection/_search.py\u001b[0m in \u001b[0;36mevaluate_candidates\u001b[0;34m(candidate_params)\u001b[0m\n\u001b[1;32m    680\u001b[0m                               n_splits, n_candidates, n_candidates * n_splits))\n\u001b[1;32m    681\u001b[0m \u001b[0;34m\u001b[0m\u001b[0m\n\u001b[0;32m--> 682\u001b[0;31m                 out = parallel(delayed(_fit_and_score)(clone(base_estimator),\n\u001b[0m\u001b[1;32m    683\u001b[0m                                                        \u001b[0mX\u001b[0m\u001b[0;34m,\u001b[0m \u001b[0my\u001b[0m\u001b[0;34m,\u001b[0m\u001b[0;34m\u001b[0m\u001b[0;34m\u001b[0m\u001b[0m\n\u001b[1;32m    684\u001b[0m                                                        \u001b[0mtrain\u001b[0m\u001b[0;34m=\u001b[0m\u001b[0mtrain\u001b[0m\u001b[0;34m,\u001b[0m \u001b[0mtest\u001b[0m\u001b[0;34m=\u001b[0m\u001b[0mtest\u001b[0m\u001b[0;34m,\u001b[0m\u001b[0;34m\u001b[0m\u001b[0;34m\u001b[0m\u001b[0m\n",
      "\u001b[0;32m~/anaconda3/lib/python3.8/site-packages/joblib/parallel.py\u001b[0m in \u001b[0;36m__call__\u001b[0;34m(self, iterable)\u001b[0m\n\u001b[1;32m   1040\u001b[0m \u001b[0;34m\u001b[0m\u001b[0m\n\u001b[1;32m   1041\u001b[0m             \u001b[0;32mwith\u001b[0m \u001b[0mself\u001b[0m\u001b[0;34m.\u001b[0m\u001b[0m_backend\u001b[0m\u001b[0;34m.\u001b[0m\u001b[0mretrieval_context\u001b[0m\u001b[0;34m(\u001b[0m\u001b[0;34m)\u001b[0m\u001b[0;34m:\u001b[0m\u001b[0;34m\u001b[0m\u001b[0;34m\u001b[0m\u001b[0m\n\u001b[0;32m-> 1042\u001b[0;31m                 \u001b[0mself\u001b[0m\u001b[0;34m.\u001b[0m\u001b[0mretrieve\u001b[0m\u001b[0;34m(\u001b[0m\u001b[0;34m)\u001b[0m\u001b[0;34m\u001b[0m\u001b[0;34m\u001b[0m\u001b[0m\n\u001b[0m\u001b[1;32m   1043\u001b[0m             \u001b[0;31m# Make sure that we get a last message telling us we are done\u001b[0m\u001b[0;34m\u001b[0m\u001b[0;34m\u001b[0m\u001b[0;34m\u001b[0m\u001b[0m\n\u001b[1;32m   1044\u001b[0m             \u001b[0melapsed_time\u001b[0m \u001b[0;34m=\u001b[0m \u001b[0mtime\u001b[0m\u001b[0;34m.\u001b[0m\u001b[0mtime\u001b[0m\u001b[0;34m(\u001b[0m\u001b[0;34m)\u001b[0m \u001b[0;34m-\u001b[0m \u001b[0mself\u001b[0m\u001b[0;34m.\u001b[0m\u001b[0m_start_time\u001b[0m\u001b[0;34m\u001b[0m\u001b[0;34m\u001b[0m\u001b[0m\n",
      "\u001b[0;32m~/anaconda3/lib/python3.8/site-packages/joblib/parallel.py\u001b[0m in \u001b[0;36mretrieve\u001b[0;34m(self)\u001b[0m\n\u001b[1;32m    919\u001b[0m             \u001b[0;32mtry\u001b[0m\u001b[0;34m:\u001b[0m\u001b[0;34m\u001b[0m\u001b[0;34m\u001b[0m\u001b[0m\n\u001b[1;32m    920\u001b[0m                 \u001b[0;32mif\u001b[0m \u001b[0mgetattr\u001b[0m\u001b[0;34m(\u001b[0m\u001b[0mself\u001b[0m\u001b[0;34m.\u001b[0m\u001b[0m_backend\u001b[0m\u001b[0;34m,\u001b[0m \u001b[0;34m'supports_timeout'\u001b[0m\u001b[0;34m,\u001b[0m \u001b[0;32mFalse\u001b[0m\u001b[0;34m)\u001b[0m\u001b[0;34m:\u001b[0m\u001b[0;34m\u001b[0m\u001b[0;34m\u001b[0m\u001b[0m\n\u001b[0;32m--> 921\u001b[0;31m                     \u001b[0mself\u001b[0m\u001b[0;34m.\u001b[0m\u001b[0m_output\u001b[0m\u001b[0;34m.\u001b[0m\u001b[0mextend\u001b[0m\u001b[0;34m(\u001b[0m\u001b[0mjob\u001b[0m\u001b[0;34m.\u001b[0m\u001b[0mget\u001b[0m\u001b[0;34m(\u001b[0m\u001b[0mtimeout\u001b[0m\u001b[0;34m=\u001b[0m\u001b[0mself\u001b[0m\u001b[0;34m.\u001b[0m\u001b[0mtimeout\u001b[0m\u001b[0;34m)\u001b[0m\u001b[0;34m)\u001b[0m\u001b[0;34m\u001b[0m\u001b[0;34m\u001b[0m\u001b[0m\n\u001b[0m\u001b[1;32m    922\u001b[0m                 \u001b[0;32melse\u001b[0m\u001b[0;34m:\u001b[0m\u001b[0;34m\u001b[0m\u001b[0;34m\u001b[0m\u001b[0m\n\u001b[1;32m    923\u001b[0m                     \u001b[0mself\u001b[0m\u001b[0;34m.\u001b[0m\u001b[0m_output\u001b[0m\u001b[0;34m.\u001b[0m\u001b[0mextend\u001b[0m\u001b[0;34m(\u001b[0m\u001b[0mjob\u001b[0m\u001b[0;34m.\u001b[0m\u001b[0mget\u001b[0m\u001b[0;34m(\u001b[0m\u001b[0;34m)\u001b[0m\u001b[0;34m)\u001b[0m\u001b[0;34m\u001b[0m\u001b[0;34m\u001b[0m\u001b[0m\n",
      "\u001b[0;32m~/anaconda3/lib/python3.8/site-packages/joblib/_parallel_backends.py\u001b[0m in \u001b[0;36mwrap_future_result\u001b[0;34m(future, timeout)\u001b[0m\n\u001b[1;32m    540\u001b[0m         AsyncResults.get from multiprocessing.\"\"\"\n\u001b[1;32m    541\u001b[0m         \u001b[0;32mtry\u001b[0m\u001b[0;34m:\u001b[0m\u001b[0;34m\u001b[0m\u001b[0;34m\u001b[0m\u001b[0m\n\u001b[0;32m--> 542\u001b[0;31m             \u001b[0;32mreturn\u001b[0m \u001b[0mfuture\u001b[0m\u001b[0;34m.\u001b[0m\u001b[0mresult\u001b[0m\u001b[0;34m(\u001b[0m\u001b[0mtimeout\u001b[0m\u001b[0;34m=\u001b[0m\u001b[0mtimeout\u001b[0m\u001b[0;34m)\u001b[0m\u001b[0;34m\u001b[0m\u001b[0;34m\u001b[0m\u001b[0m\n\u001b[0m\u001b[1;32m    543\u001b[0m         \u001b[0;32mexcept\u001b[0m \u001b[0mCfTimeoutError\u001b[0m \u001b[0;32mas\u001b[0m \u001b[0me\u001b[0m\u001b[0;34m:\u001b[0m\u001b[0;34m\u001b[0m\u001b[0;34m\u001b[0m\u001b[0m\n\u001b[1;32m    544\u001b[0m             \u001b[0;32mraise\u001b[0m \u001b[0mTimeoutError\u001b[0m \u001b[0;32mfrom\u001b[0m \u001b[0me\u001b[0m\u001b[0;34m\u001b[0m\u001b[0;34m\u001b[0m\u001b[0m\n",
      "\u001b[0;32m~/anaconda3/lib/python3.8/concurrent/futures/_base.py\u001b[0m in \u001b[0;36mresult\u001b[0;34m(self, timeout)\u001b[0m\n\u001b[1;32m    437\u001b[0m                 \u001b[0;32mraise\u001b[0m \u001b[0mCancelledError\u001b[0m\u001b[0;34m(\u001b[0m\u001b[0;34m)\u001b[0m\u001b[0;34m\u001b[0m\u001b[0;34m\u001b[0m\u001b[0m\n\u001b[1;32m    438\u001b[0m             \u001b[0;32melif\u001b[0m \u001b[0mself\u001b[0m\u001b[0;34m.\u001b[0m\u001b[0m_state\u001b[0m \u001b[0;34m==\u001b[0m \u001b[0mFINISHED\u001b[0m\u001b[0;34m:\u001b[0m\u001b[0;34m\u001b[0m\u001b[0;34m\u001b[0m\u001b[0m\n\u001b[0;32m--> 439\u001b[0;31m                 \u001b[0;32mreturn\u001b[0m \u001b[0mself\u001b[0m\u001b[0;34m.\u001b[0m\u001b[0m__get_result\u001b[0m\u001b[0;34m(\u001b[0m\u001b[0;34m)\u001b[0m\u001b[0;34m\u001b[0m\u001b[0;34m\u001b[0m\u001b[0m\n\u001b[0m\u001b[1;32m    440\u001b[0m             \u001b[0;32melse\u001b[0m\u001b[0;34m:\u001b[0m\u001b[0;34m\u001b[0m\u001b[0;34m\u001b[0m\u001b[0m\n\u001b[1;32m    441\u001b[0m                 \u001b[0;32mraise\u001b[0m \u001b[0mTimeoutError\u001b[0m\u001b[0;34m(\u001b[0m\u001b[0;34m)\u001b[0m\u001b[0;34m\u001b[0m\u001b[0;34m\u001b[0m\u001b[0m\n",
      "\u001b[0;32m~/anaconda3/lib/python3.8/concurrent/futures/_base.py\u001b[0m in \u001b[0;36m__get_result\u001b[0;34m(self)\u001b[0m\n\u001b[1;32m    386\u001b[0m     \u001b[0;32mdef\u001b[0m \u001b[0m__get_result\u001b[0m\u001b[0;34m(\u001b[0m\u001b[0mself\u001b[0m\u001b[0;34m)\u001b[0m\u001b[0;34m:\u001b[0m\u001b[0;34m\u001b[0m\u001b[0;34m\u001b[0m\u001b[0m\n\u001b[1;32m    387\u001b[0m         \u001b[0;32mif\u001b[0m \u001b[0mself\u001b[0m\u001b[0;34m.\u001b[0m\u001b[0m_exception\u001b[0m\u001b[0;34m:\u001b[0m\u001b[0;34m\u001b[0m\u001b[0;34m\u001b[0m\u001b[0m\n\u001b[0;32m--> 388\u001b[0;31m             \u001b[0;32mraise\u001b[0m \u001b[0mself\u001b[0m\u001b[0;34m.\u001b[0m\u001b[0m_exception\u001b[0m\u001b[0;34m\u001b[0m\u001b[0;34m\u001b[0m\u001b[0m\n\u001b[0m\u001b[1;32m    389\u001b[0m         \u001b[0;32melse\u001b[0m\u001b[0;34m:\u001b[0m\u001b[0;34m\u001b[0m\u001b[0;34m\u001b[0m\u001b[0m\n\u001b[1;32m    390\u001b[0m             \u001b[0;32mreturn\u001b[0m \u001b[0mself\u001b[0m\u001b[0;34m.\u001b[0m\u001b[0m_result\u001b[0m\u001b[0;34m\u001b[0m\u001b[0;34m\u001b[0m\u001b[0m\n",
      "\u001b[0;32m~/anaconda3/lib/python3.8/site-packages/joblib/externals/loky/_base.py\u001b[0m in \u001b[0;36m_invoke_callbacks\u001b[0;34m(self)\u001b[0m\n\u001b[1;32m    623\u001b[0m         \u001b[0;32mfor\u001b[0m \u001b[0mcallback\u001b[0m \u001b[0;32min\u001b[0m \u001b[0mself\u001b[0m\u001b[0;34m.\u001b[0m\u001b[0m_done_callbacks\u001b[0m\u001b[0;34m:\u001b[0m\u001b[0;34m\u001b[0m\u001b[0;34m\u001b[0m\u001b[0m\n\u001b[1;32m    624\u001b[0m             \u001b[0;32mtry\u001b[0m\u001b[0;34m:\u001b[0m\u001b[0;34m\u001b[0m\u001b[0;34m\u001b[0m\u001b[0m\n\u001b[0;32m--> 625\u001b[0;31m                 \u001b[0mcallback\u001b[0m\u001b[0;34m(\u001b[0m\u001b[0mself\u001b[0m\u001b[0;34m)\u001b[0m\u001b[0;34m\u001b[0m\u001b[0;34m\u001b[0m\u001b[0m\n\u001b[0m\u001b[1;32m    626\u001b[0m             \u001b[0;32mexcept\u001b[0m \u001b[0mBaseException\u001b[0m\u001b[0;34m:\u001b[0m\u001b[0;34m\u001b[0m\u001b[0;34m\u001b[0m\u001b[0m\n\u001b[1;32m    627\u001b[0m                 \u001b[0mLOGGER\u001b[0m\u001b[0;34m.\u001b[0m\u001b[0mexception\u001b[0m\u001b[0;34m(\u001b[0m\u001b[0;34m'exception calling callback for %r'\u001b[0m\u001b[0;34m,\u001b[0m \u001b[0mself\u001b[0m\u001b[0;34m)\u001b[0m\u001b[0;34m\u001b[0m\u001b[0;34m\u001b[0m\u001b[0m\n",
      "\u001b[0;32m~/anaconda3/lib/python3.8/site-packages/joblib/parallel.py\u001b[0m in \u001b[0;36m__call__\u001b[0;34m(self, out)\u001b[0m\n\u001b[1;32m    345\u001b[0m         \u001b[0;32mwith\u001b[0m \u001b[0mself\u001b[0m\u001b[0;34m.\u001b[0m\u001b[0mparallel\u001b[0m\u001b[0;34m.\u001b[0m\u001b[0m_lock\u001b[0m\u001b[0;34m:\u001b[0m\u001b[0;34m\u001b[0m\u001b[0;34m\u001b[0m\u001b[0m\n\u001b[1;32m    346\u001b[0m             \u001b[0;32mif\u001b[0m \u001b[0mself\u001b[0m\u001b[0;34m.\u001b[0m\u001b[0mparallel\u001b[0m\u001b[0;34m.\u001b[0m\u001b[0m_original_iterator\u001b[0m \u001b[0;32mis\u001b[0m \u001b[0;32mnot\u001b[0m \u001b[0;32mNone\u001b[0m\u001b[0;34m:\u001b[0m\u001b[0;34m\u001b[0m\u001b[0;34m\u001b[0m\u001b[0m\n\u001b[0;32m--> 347\u001b[0;31m                 \u001b[0mself\u001b[0m\u001b[0;34m.\u001b[0m\u001b[0mparallel\u001b[0m\u001b[0;34m.\u001b[0m\u001b[0mdispatch_next\u001b[0m\u001b[0;34m(\u001b[0m\u001b[0;34m)\u001b[0m\u001b[0;34m\u001b[0m\u001b[0;34m\u001b[0m\u001b[0m\n\u001b[0m\u001b[1;32m    348\u001b[0m \u001b[0;34m\u001b[0m\u001b[0m\n\u001b[1;32m    349\u001b[0m \u001b[0;34m\u001b[0m\u001b[0m\n",
      "\u001b[0;32m~/anaconda3/lib/python3.8/site-packages/joblib/parallel.py\u001b[0m in \u001b[0;36mdispatch_next\u001b[0;34m(self)\u001b[0m\n\u001b[1;32m    778\u001b[0m \u001b[0;34m\u001b[0m\u001b[0m\n\u001b[1;32m    779\u001b[0m         \"\"\"\n\u001b[0;32m--> 780\u001b[0;31m         \u001b[0;32mif\u001b[0m \u001b[0;32mnot\u001b[0m \u001b[0mself\u001b[0m\u001b[0;34m.\u001b[0m\u001b[0mdispatch_one_batch\u001b[0m\u001b[0;34m(\u001b[0m\u001b[0mself\u001b[0m\u001b[0;34m.\u001b[0m\u001b[0m_original_iterator\u001b[0m\u001b[0;34m)\u001b[0m\u001b[0;34m:\u001b[0m\u001b[0;34m\u001b[0m\u001b[0;34m\u001b[0m\u001b[0m\n\u001b[0m\u001b[1;32m    781\u001b[0m             \u001b[0mself\u001b[0m\u001b[0;34m.\u001b[0m\u001b[0m_iterating\u001b[0m \u001b[0;34m=\u001b[0m \u001b[0;32mFalse\u001b[0m\u001b[0;34m\u001b[0m\u001b[0;34m\u001b[0m\u001b[0m\n\u001b[1;32m    782\u001b[0m             \u001b[0mself\u001b[0m\u001b[0;34m.\u001b[0m\u001b[0m_original_iterator\u001b[0m \u001b[0;34m=\u001b[0m \u001b[0;32mNone\u001b[0m\u001b[0;34m\u001b[0m\u001b[0;34m\u001b[0m\u001b[0m\n",
      "\u001b[0;32m~/anaconda3/lib/python3.8/site-packages/joblib/parallel.py\u001b[0m in \u001b[0;36mdispatch_one_batch\u001b[0;34m(self, iterator)\u001b[0m\n\u001b[1;32m    845\u001b[0m                 \u001b[0;32mreturn\u001b[0m \u001b[0;32mFalse\u001b[0m\u001b[0;34m\u001b[0m\u001b[0;34m\u001b[0m\u001b[0m\n\u001b[1;32m    846\u001b[0m             \u001b[0;32melse\u001b[0m\u001b[0;34m:\u001b[0m\u001b[0;34m\u001b[0m\u001b[0;34m\u001b[0m\u001b[0m\n\u001b[0;32m--> 847\u001b[0;31m                 \u001b[0mself\u001b[0m\u001b[0;34m.\u001b[0m\u001b[0m_dispatch\u001b[0m\u001b[0;34m(\u001b[0m\u001b[0mtasks\u001b[0m\u001b[0;34m)\u001b[0m\u001b[0;34m\u001b[0m\u001b[0;34m\u001b[0m\u001b[0m\n\u001b[0m\u001b[1;32m    848\u001b[0m                 \u001b[0;32mreturn\u001b[0m \u001b[0;32mTrue\u001b[0m\u001b[0;34m\u001b[0m\u001b[0;34m\u001b[0m\u001b[0m\n\u001b[1;32m    849\u001b[0m \u001b[0;34m\u001b[0m\u001b[0m\n",
      "\u001b[0;32m~/anaconda3/lib/python3.8/site-packages/joblib/parallel.py\u001b[0m in \u001b[0;36m_dispatch\u001b[0;34m(self, batch)\u001b[0m\n\u001b[1;32m    763\u001b[0m         \u001b[0;32mwith\u001b[0m \u001b[0mself\u001b[0m\u001b[0;34m.\u001b[0m\u001b[0m_lock\u001b[0m\u001b[0;34m:\u001b[0m\u001b[0;34m\u001b[0m\u001b[0;34m\u001b[0m\u001b[0m\n\u001b[1;32m    764\u001b[0m             \u001b[0mjob_idx\u001b[0m \u001b[0;34m=\u001b[0m \u001b[0mlen\u001b[0m\u001b[0;34m(\u001b[0m\u001b[0mself\u001b[0m\u001b[0;34m.\u001b[0m\u001b[0m_jobs\u001b[0m\u001b[0;34m)\u001b[0m\u001b[0;34m\u001b[0m\u001b[0;34m\u001b[0m\u001b[0m\n\u001b[0;32m--> 765\u001b[0;31m             \u001b[0mjob\u001b[0m \u001b[0;34m=\u001b[0m \u001b[0mself\u001b[0m\u001b[0;34m.\u001b[0m\u001b[0m_backend\u001b[0m\u001b[0;34m.\u001b[0m\u001b[0mapply_async\u001b[0m\u001b[0;34m(\u001b[0m\u001b[0mbatch\u001b[0m\u001b[0;34m,\u001b[0m \u001b[0mcallback\u001b[0m\u001b[0;34m=\u001b[0m\u001b[0mcb\u001b[0m\u001b[0;34m)\u001b[0m\u001b[0;34m\u001b[0m\u001b[0;34m\u001b[0m\u001b[0m\n\u001b[0m\u001b[1;32m    766\u001b[0m             \u001b[0;31m# A job can complete so quickly than its callback is\u001b[0m\u001b[0;34m\u001b[0m\u001b[0;34m\u001b[0m\u001b[0;34m\u001b[0m\u001b[0m\n\u001b[1;32m    767\u001b[0m             \u001b[0;31m# called before we get here, causing self._jobs to\u001b[0m\u001b[0;34m\u001b[0m\u001b[0;34m\u001b[0m\u001b[0;34m\u001b[0m\u001b[0m\n",
      "\u001b[0;32m~/anaconda3/lib/python3.8/site-packages/joblib/_parallel_backends.py\u001b[0m in \u001b[0;36mapply_async\u001b[0;34m(self, func, callback)\u001b[0m\n\u001b[1;32m    529\u001b[0m     \u001b[0;32mdef\u001b[0m \u001b[0mapply_async\u001b[0m\u001b[0;34m(\u001b[0m\u001b[0mself\u001b[0m\u001b[0;34m,\u001b[0m \u001b[0mfunc\u001b[0m\u001b[0;34m,\u001b[0m \u001b[0mcallback\u001b[0m\u001b[0;34m=\u001b[0m\u001b[0;32mNone\u001b[0m\u001b[0;34m)\u001b[0m\u001b[0;34m:\u001b[0m\u001b[0;34m\u001b[0m\u001b[0;34m\u001b[0m\u001b[0m\n\u001b[1;32m    530\u001b[0m         \u001b[0;34m\"\"\"Schedule a func to be run\"\"\"\u001b[0m\u001b[0;34m\u001b[0m\u001b[0;34m\u001b[0m\u001b[0m\n\u001b[0;32m--> 531\u001b[0;31m         \u001b[0mfuture\u001b[0m \u001b[0;34m=\u001b[0m \u001b[0mself\u001b[0m\u001b[0;34m.\u001b[0m\u001b[0m_workers\u001b[0m\u001b[0;34m.\u001b[0m\u001b[0msubmit\u001b[0m\u001b[0;34m(\u001b[0m\u001b[0mSafeFunction\u001b[0m\u001b[0;34m(\u001b[0m\u001b[0mfunc\u001b[0m\u001b[0;34m)\u001b[0m\u001b[0;34m)\u001b[0m\u001b[0;34m\u001b[0m\u001b[0;34m\u001b[0m\u001b[0m\n\u001b[0m\u001b[1;32m    532\u001b[0m         \u001b[0mfuture\u001b[0m\u001b[0;34m.\u001b[0m\u001b[0mget\u001b[0m \u001b[0;34m=\u001b[0m \u001b[0mfunctools\u001b[0m\u001b[0;34m.\u001b[0m\u001b[0mpartial\u001b[0m\u001b[0;34m(\u001b[0m\u001b[0mself\u001b[0m\u001b[0;34m.\u001b[0m\u001b[0mwrap_future_result\u001b[0m\u001b[0;34m,\u001b[0m \u001b[0mfuture\u001b[0m\u001b[0;34m)\u001b[0m\u001b[0;34m\u001b[0m\u001b[0;34m\u001b[0m\u001b[0m\n\u001b[1;32m    533\u001b[0m         \u001b[0;32mif\u001b[0m \u001b[0mcallback\u001b[0m \u001b[0;32mis\u001b[0m \u001b[0;32mnot\u001b[0m \u001b[0;32mNone\u001b[0m\u001b[0;34m:\u001b[0m\u001b[0;34m\u001b[0m\u001b[0;34m\u001b[0m\u001b[0m\n",
      "\u001b[0;32m~/anaconda3/lib/python3.8/site-packages/joblib/externals/loky/reusable_executor.py\u001b[0m in \u001b[0;36msubmit\u001b[0;34m(self, fn, *args, **kwargs)\u001b[0m\n\u001b[1;32m    175\u001b[0m     \u001b[0;32mdef\u001b[0m \u001b[0msubmit\u001b[0m\u001b[0;34m(\u001b[0m\u001b[0mself\u001b[0m\u001b[0;34m,\u001b[0m \u001b[0mfn\u001b[0m\u001b[0;34m,\u001b[0m \u001b[0;34m*\u001b[0m\u001b[0margs\u001b[0m\u001b[0;34m,\u001b[0m \u001b[0;34m**\u001b[0m\u001b[0mkwargs\u001b[0m\u001b[0;34m)\u001b[0m\u001b[0;34m:\u001b[0m\u001b[0;34m\u001b[0m\u001b[0;34m\u001b[0m\u001b[0m\n\u001b[1;32m    176\u001b[0m         \u001b[0;32mwith\u001b[0m \u001b[0mself\u001b[0m\u001b[0;34m.\u001b[0m\u001b[0m_submit_resize_lock\u001b[0m\u001b[0;34m:\u001b[0m\u001b[0;34m\u001b[0m\u001b[0;34m\u001b[0m\u001b[0m\n\u001b[0;32m--> 177\u001b[0;31m             return super(_ReusablePoolExecutor, self).submit(\n\u001b[0m\u001b[1;32m    178\u001b[0m                 fn, *args, **kwargs)\n\u001b[1;32m    179\u001b[0m \u001b[0;34m\u001b[0m\u001b[0m\n",
      "\u001b[0;32m~/anaconda3/lib/python3.8/site-packages/joblib/externals/loky/process_executor.py\u001b[0m in \u001b[0;36msubmit\u001b[0;34m(self, fn, *args, **kwargs)\u001b[0m\n\u001b[1;32m   1100\u001b[0m         \u001b[0;32mwith\u001b[0m \u001b[0mself\u001b[0m\u001b[0;34m.\u001b[0m\u001b[0m_flags\u001b[0m\u001b[0;34m.\u001b[0m\u001b[0mshutdown_lock\u001b[0m\u001b[0;34m:\u001b[0m\u001b[0;34m\u001b[0m\u001b[0;34m\u001b[0m\u001b[0m\n\u001b[1;32m   1101\u001b[0m             \u001b[0;32mif\u001b[0m \u001b[0mself\u001b[0m\u001b[0;34m.\u001b[0m\u001b[0m_flags\u001b[0m\u001b[0;34m.\u001b[0m\u001b[0mbroken\u001b[0m \u001b[0;32mis\u001b[0m \u001b[0;32mnot\u001b[0m \u001b[0;32mNone\u001b[0m\u001b[0;34m:\u001b[0m\u001b[0;34m\u001b[0m\u001b[0;34m\u001b[0m\u001b[0m\n\u001b[0;32m-> 1102\u001b[0;31m                 \u001b[0;32mraise\u001b[0m \u001b[0mself\u001b[0m\u001b[0;34m.\u001b[0m\u001b[0m_flags\u001b[0m\u001b[0;34m.\u001b[0m\u001b[0mbroken\u001b[0m\u001b[0;34m\u001b[0m\u001b[0;34m\u001b[0m\u001b[0m\n\u001b[0m\u001b[1;32m   1103\u001b[0m             \u001b[0;32mif\u001b[0m \u001b[0mself\u001b[0m\u001b[0;34m.\u001b[0m\u001b[0m_flags\u001b[0m\u001b[0;34m.\u001b[0m\u001b[0mshutdown\u001b[0m\u001b[0;34m:\u001b[0m\u001b[0;34m\u001b[0m\u001b[0;34m\u001b[0m\u001b[0m\n\u001b[1;32m   1104\u001b[0m                 raise ShutdownExecutorError(\n",
      "\u001b[0;31mBrokenProcessPool\u001b[0m: A task has failed to un-serialize. Please ensure that the arguments of the function are all picklable."
     ]
    }
   ],
   "source": [
    "rf_clf_final = pipeline_fit(\n",
    "                                X_train=X_train,\n",
    "                                y_train=y_train,\n",
    "                                pipeline=\"RandomForest\", \n",
    "                                search_method=\"randomsearch\", \n",
    "                                n_iter=10,\n",
    "                                verbose_searchcv=2, \n",
    "                                n_jobs=6, \n",
    "                                save_name=\"Twitter_test\"\n",
    "                            )"
   ]
  },
  {
   "cell_type": "markdown",
   "metadata": {},
   "source": [
    "### Evaluation"
   ]
  },
  {
   "cell_type": "code",
   "execution_count": null,
   "metadata": {},
   "outputs": [],
   "source": [
    "y_pred_linear_svc = rf_clf_final.predict(X_test)\n",
    "y_score_linear_svc = rf_clf_final.decision_function(X_test)"
   ]
  },
  {
   "cell_type": "code",
   "execution_count": 142,
   "metadata": {},
   "outputs": [
    {
     "name": "stdout",
     "output_type": "stream",
     "text": [
      "Accuracy Score on Test Set:\n",
      "0.7941875\n"
     ]
    },
    {
     "data": {
      "image/png": "[encoded data removed]",
      "text/plain": [
       "<Figure size 576x576 with 2 Axes>"
      ]
     },
     "metadata": {},
     "output_type": "display_data"
    },
    {
     "data": {
      "image/png": "[encoded data removed]",
      "text/plain": [
       "<Figure size 576x576 with 1 Axes>"
      ]
     },
     "metadata": {},
     "output_type": "display_data"
    }
   ],
   "source": [
    "print(\"Accuracy Score on Test Set:\")\n",
    "# Inverse transform onehot labels using labelbinarizer\n",
    "print(accuracy_score(y_test, y_pred_linear_svc))\n",
    "\n",
    "# np.set_printoptions(precision=2)\n",
    "# print(linear_svc_clf_final.classes_)\n",
    "# Plot confusion matrix\n",
    "plot_confusion_matrix(y_test, y_pred_linear_svc, classes=rf_clf_final.classes_)\n",
    "\n",
    "# Plot ROC curve (requires onehot targets)\n",
    "plot_roc_curve(y_test, y_score_linear_svc, classes=rf_clf_final.classes_, roc_multilabel_count=2)"
   ]
  },
  {
   "cell_type": "markdown",
   "metadata": {},
   "source": [
    "# Gradient Boosting Classifiers"
   ]
  },
  {
   "cell_type": "markdown",
   "metadata": {},
   "source": [
    "## Sklearn Gradient Boosting"
   ]
  },
  {
   "cell_type": "code",
   "execution_count": 26,
   "metadata": {},
   "outputs": [
    {
     "name": "stdout",
     "output_type": "stream",
     "text": [
      "Pipeline(memory=None,\n",
      "         steps=[('preprocessor',\n",
      "                 ColumnTransformer(n_jobs=None, remainder='drop',\n",
      "                                   sparse_threshold=0.3,\n",
      "                                   transformer_weights=None,\n",
      "                                   transformers=[('tweet_transformer',\n",
      "                                                  Pipeline(memory=None,\n",
      "                                                           steps=[('cleaner',\n",
      "                                                                   Tweet_cleaner(verbose=False,\n",
      "                                                                                 word2vec=False)),\n",
      "                                                                  ('tfidf_vectorizer',\n",
      "                                                                   TfidfVectorizer(analyzer='word',\n",
      "                                                                                   binary=False,\n",
      "                                                                                   decode_error='strict',\n",
      "                                                                                   dtype=<...\n",
      "                                            learning_rate=0.1, loss='deviance',\n",
      "                                            max_depth=3, max_features=None,\n",
      "                                            max_leaf_nodes=None,\n",
      "                                            min_impurity_decrease=0.0,\n",
      "                                            min_impurity_split=None,\n",
      "                                            min_samples_leaf=1,\n",
      "                                            min_samples_split=2,\n",
      "                                            min_weight_fraction_leaf=0.0,\n",
      "                                            n_estimators=100,\n",
      "                                            n_iter_no_change=None,\n",
      "                                            presort='deprecated',\n",
      "                                            random_state=None, subsample=1.0,\n",
      "                                            tol=0.0001, validation_fraction=0.1,\n",
      "                                            verbose=0, warm_start=False))],\n",
      "         verbose=False)\n",
      "\n"
     ]
    }
   ],
   "source": [
    "# Linear support Vector Classification using one-vs-rest classification for multiclass learning\n",
    "gb_clf = GradientBoostingClassifier(verbose=0)\n",
    "gb_clf_fullpipe = Pipeline(steps=[\n",
    "    (\"preprocessor\", preprocessor),\n",
    "    (\"gb_classifier\", gb_clf)\n",
    "])\n",
    "print(gb_clf_fullpipe)\n",
    "print(\"\")"
   ]
  },
  {
   "cell_type": "code",
   "execution_count": 27,
   "metadata": {},
   "outputs": [],
   "source": [
    "# Specify hyperparameter grids for optimization\n",
    "\n",
    "gb_param_grid = {\n",
    "    \"gb_classifier__n_estimators\": [int(x) for x in np.linspace(50,500,11)],\n",
    "    \"gb_classifier__max_depth\": max_depth\n",
    "    }\n",
    "\n",
    "gb_param_grid.update(param_grid)"
   ]
  },
  {
   "cell_type": "code",
   "execution_count": 28,
   "metadata": {},
   "outputs": [],
   "source": [
    "# Dictionary of pipelines and classifier types for ease of reference\n",
    "pipe_dict = {\n",
    "    \"GradientBoost\": (gb_clf_fullpipe, gb_param_grid),\n",
    "}"
   ]
  },
  {
   "cell_type": "markdown",
   "metadata": {},
   "source": [
    "### Train the gradient boosting pipeline model"
   ]
  },
  {
   "cell_type": "code",
   "execution_count": 29,
   "metadata": {},
   "outputs": [
    {
     "name": "stdout",
     "output_type": "stream",
     "text": [
      "Pipeline(memory=None,\n",
      "         steps=[('preprocessor',\n",
      "                 ColumnTransformer(n_jobs=None, remainder='drop',\n",
      "                                   sparse_threshold=0.3,\n",
      "                                   transformer_weights=None,\n",
      "                                   transformers=[('tweet_transformer',\n",
      "                                                  Pipeline(memory=None,\n",
      "                                                           steps=[('cleaner',\n",
      "                                                                   Tweet_cleaner(verbose=False,\n",
      "                                                                                 word2vec=False)),\n",
      "                                                                  ('tfidf_vectorizer',\n",
      "                                                                   TfidfVectorizer(analyzer='word',\n",
      "                                                                                   binary=False,\n",
      "                                                                                   decode_error='strict',\n",
      "                                                                                   dtype=<...\n",
      "                                            learning_rate=0.1, loss='deviance',\n",
      "                                            max_depth=3, max_features=None,\n",
      "                                            max_leaf_nodes=None,\n",
      "                                            min_impurity_decrease=0.0,\n",
      "                                            min_impurity_split=None,\n",
      "                                            min_samples_leaf=1,\n",
      "                                            min_samples_split=2,\n",
      "                                            min_weight_fraction_leaf=0.0,\n",
      "                                            n_estimators=100,\n",
      "                                            n_iter_no_change=None,\n",
      "                                            presort='deprecated',\n",
      "                                            random_state=None, subsample=1.0,\n",
      "                                            tol=0.0001, validation_fraction=0.1,\n",
      "                                            verbose=0, warm_start=False))],\n",
      "         verbose=False)\n",
      "Param Grid: {'gb_classifier__n_estimators': [50, 95, 140, 185, 230, 275, 320, 365, 410, 455, 500], 'gb_classifier__max_depth': [10, 20, 30, 40, 50, 60, 70, 80, 90, 100, 110, None], 'preprocessor__tweet_transformer__tfidf_vectorizer__max_features': (1000, 5000, 15000), 'preprocessor__tweet_transformer__tfidf_vectorizer__binary': [True], 'preprocessor__tweet_transformer__tfidf_vectorizer__token_pattern': [\"(?u)\\\\b\\\\w\\\\w+\\\\b|\\\\'\"], 'preprocessor__tweet_transformer__tfidf_vectorizer__ngram_range': [(1, 2)]}\n",
      "\n",
      "Training GradientBoost on 112000 samples...\n",
      "Shape of inputs: (112000, 1)\n",
      "                                                                                                                                         Tweet\n",
      "510483   looks like tonight's a bit of a bust                                                                                                 \n",
      "1595178  you betcha jack wp is easy peasy stuff for me thinking some videos are in order                                                      \n",
      "10758    twit help how do i remove twitter column from tweet deck i set it to stay signed in it's not budging and i dont want it there anymore\n",
      "1258939  i have waited for the right opportunity to think about renting                                                                       \n",
      "61753    something good come on tv                                                                                                            \n",
      "Shape of outputs: (112000,)\n",
      "[0 1 0 1 0]\n",
      "\n",
      "Fitting 5 folds for each of 396 candidates, totalling 1980 fits\n"
     ]
    },
    {
     "name": "stderr",
     "output_type": "stream",
     "text": [
      "[Parallel(n_jobs=12)]: Using backend LokyBackend with 12 concurrent workers.\n"
     ]
    },
    {
     "ename": "BrokenProcessPool",
     "evalue": "A task has failed to un-serialize. Please ensure that the arguments of the function are all picklable.",
     "output_type": "error",
     "traceback": [
      "\u001b[0;31m---------------------------------------------------------------------------\u001b[0m",
      "\u001b[0;31m_RemoteTraceback\u001b[0m                          Traceback (most recent call last)",
      "\u001b[0;31m_RemoteTraceback\u001b[0m: \n\"\"\"\nTraceback (most recent call last):\n  File \"/home/ataralyxius/anaconda3/lib/python3.8/site-packages/joblib/externals/loky/process_executor.py\", line 404, in _process_worker\n    call_item = call_queue.get(block=True, timeout=timeout)\n  File \"/home/ataralyxius/anaconda3/lib/python3.8/multiprocessing/queues.py\", line 116, in get\n    return _ForkingPickler.loads(res)\n  File \"/home/ataralyxius/anaconda3/lib/python3.8/site-packages/ipykernel/__init__.py\", line 2, in <module>\n    from .connect import *\n  File \"/home/ataralyxius/anaconda3/lib/python3.8/site-packages/ipykernel/connect.py\", line 13, in <module>\n    from IPython.core.profiledir import ProfileDir\n  File \"/home/ataralyxius/anaconda3/lib/python3.8/site-packages/IPython/__init__.py\", line 56, in <module>\n    from .terminal.embed import embed\n  File \"/home/ataralyxius/anaconda3/lib/python3.8/site-packages/IPython/terminal/embed.py\", line 16, in <module>\n    from IPython.terminal.interactiveshell import TerminalInteractiveShell\n  File \"/home/ataralyxius/anaconda3/lib/python3.8/site-packages/IPython/terminal/interactiveshell.py\", line 21, in <module>\n    from prompt_toolkit.formatted_text import PygmentsTokens\nModuleNotFoundError: No module named 'prompt_toolkit.formatted_text'\n\"\"\"",
      "\nThe above exception was the direct cause of the following exception:\n",
      "\u001b[0;31mBrokenProcessPool\u001b[0m                         Traceback (most recent call last)",
      "\u001b[0;32m<ipython-input-29-a399933c5b4a>\u001b[0m in \u001b[0;36m<module>\u001b[0;34m\u001b[0m\n\u001b[0;32m----> 1\u001b[0;31m gb_clf_final = pipeline_fit(\n\u001b[0m\u001b[1;32m      2\u001b[0m                                 \u001b[0mX_train\u001b[0m\u001b[0;34m=\u001b[0m\u001b[0mX_train\u001b[0m\u001b[0;34m,\u001b[0m\u001b[0;34m\u001b[0m\u001b[0;34m\u001b[0m\u001b[0m\n\u001b[1;32m      3\u001b[0m                                 \u001b[0my_train\u001b[0m\u001b[0;34m=\u001b[0m\u001b[0my_train\u001b[0m\u001b[0;34m,\u001b[0m\u001b[0;34m\u001b[0m\u001b[0;34m\u001b[0m\u001b[0m\n\u001b[1;32m      4\u001b[0m                                 \u001b[0mpipeline\u001b[0m\u001b[0;34m=\u001b[0m\u001b[0;34m\"GradientBoost\"\u001b[0m\u001b[0;34m,\u001b[0m\u001b[0;34m\u001b[0m\u001b[0;34m\u001b[0m\u001b[0m\n\u001b[1;32m      5\u001b[0m                                 \u001b[0msearch_method\u001b[0m\u001b[0;34m=\u001b[0m\u001b[0;34m\"gridsearch\"\u001b[0m\u001b[0;34m,\u001b[0m\u001b[0;34m\u001b[0m\u001b[0;34m\u001b[0m\u001b[0m\n",
      "\u001b[0;32m<ipython-input-10-5d86c75a298f>\u001b[0m in \u001b[0;36mpipeline_fit\u001b[0;34m(X_train, y_train, pipeline, save_name, keras_nn, search_method, n_iter, cv, verbose_searchcv, n_jobs)\u001b[0m\n\u001b[1;32m    127\u001b[0m     \u001b[0mprint\u001b[0m\u001b[0;34m(\u001b[0m\u001b[0;34m)\u001b[0m\u001b[0;34m\u001b[0m\u001b[0;34m\u001b[0m\u001b[0m\n\u001b[1;32m    128\u001b[0m \u001b[0;31m#     try:\u001b[0m\u001b[0;34m\u001b[0m\u001b[0;34m\u001b[0m\u001b[0;34m\u001b[0m\u001b[0m\n\u001b[0;32m--> 129\u001b[0;31m     \u001b[0msearch_cv\u001b[0m\u001b[0;34m.\u001b[0m\u001b[0mfit\u001b[0m\u001b[0;34m(\u001b[0m\u001b[0mX_train\u001b[0m\u001b[0;34m,\u001b[0m \u001b[0my_train\u001b[0m\u001b[0;34m)\u001b[0m\u001b[0;34m\u001b[0m\u001b[0;34m\u001b[0m\u001b[0m\n\u001b[0m\u001b[1;32m    130\u001b[0m \u001b[0;31m#     except ValueError:\u001b[0m\u001b[0;34m\u001b[0m\u001b[0;34m\u001b[0m\u001b[0;34m\u001b[0m\u001b[0m\n\u001b[1;32m    131\u001b[0m \u001b[0;31m#         ## If X_train is a dataframe with single column, convert y_train to match\u001b[0m\u001b[0;34m\u001b[0m\u001b[0;34m\u001b[0m\u001b[0;34m\u001b[0m\u001b[0m\n",
      "\u001b[0;32m~/anaconda3/lib/python3.8/site-packages/sklearn/model_selection/_search.py\u001b[0m in \u001b[0;36mfit\u001b[0;34m(self, X, y, groups, **fit_params)\u001b[0m\n\u001b[1;32m    708\u001b[0m                 \u001b[0;32mreturn\u001b[0m \u001b[0mresults\u001b[0m\u001b[0;34m\u001b[0m\u001b[0;34m\u001b[0m\u001b[0m\n\u001b[1;32m    709\u001b[0m \u001b[0;34m\u001b[0m\u001b[0m\n\u001b[0;32m--> 710\u001b[0;31m             \u001b[0mself\u001b[0m\u001b[0;34m.\u001b[0m\u001b[0m_run_search\u001b[0m\u001b[0;34m(\u001b[0m\u001b[0mevaluate_candidates\u001b[0m\u001b[0;34m)\u001b[0m\u001b[0;34m\u001b[0m\u001b[0;34m\u001b[0m\u001b[0m\n\u001b[0m\u001b[1;32m    711\u001b[0m \u001b[0;34m\u001b[0m\u001b[0m\n\u001b[1;32m    712\u001b[0m         \u001b[0;31m# For multi-metric evaluation, store the best_index_, best_params_ and\u001b[0m\u001b[0;34m\u001b[0m\u001b[0;34m\u001b[0m\u001b[0;34m\u001b[0m\u001b[0m\n",
      "\u001b[0;32m~/anaconda3/lib/python3.8/site-packages/sklearn/model_selection/_search.py\u001b[0m in \u001b[0;36m_run_search\u001b[0;34m(self, evaluate_candidates)\u001b[0m\n\u001b[1;32m   1149\u001b[0m     \u001b[0;32mdef\u001b[0m \u001b[0m_run_search\u001b[0m\u001b[0;34m(\u001b[0m\u001b[0mself\u001b[0m\u001b[0;34m,\u001b[0m \u001b[0mevaluate_candidates\u001b[0m\u001b[0;34m)\u001b[0m\u001b[0;34m:\u001b[0m\u001b[0;34m\u001b[0m\u001b[0;34m\u001b[0m\u001b[0m\n\u001b[1;32m   1150\u001b[0m         \u001b[0;34m\"\"\"Search all candidates in param_grid\"\"\"\u001b[0m\u001b[0;34m\u001b[0m\u001b[0;34m\u001b[0m\u001b[0m\n\u001b[0;32m-> 1151\u001b[0;31m         \u001b[0mevaluate_candidates\u001b[0m\u001b[0;34m(\u001b[0m\u001b[0mParameterGrid\u001b[0m\u001b[0;34m(\u001b[0m\u001b[0mself\u001b[0m\u001b[0;34m.\u001b[0m\u001b[0mparam_grid\u001b[0m\u001b[0;34m)\u001b[0m\u001b[0;34m)\u001b[0m\u001b[0;34m\u001b[0m\u001b[0;34m\u001b[0m\u001b[0m\n\u001b[0m\u001b[1;32m   1152\u001b[0m \u001b[0;34m\u001b[0m\u001b[0m\n\u001b[1;32m   1153\u001b[0m \u001b[0;34m\u001b[0m\u001b[0m\n",
      "\u001b[0;32m~/anaconda3/lib/python3.8/site-packages/sklearn/model_selection/_search.py\u001b[0m in \u001b[0;36mevaluate_candidates\u001b[0;34m(candidate_params)\u001b[0m\n\u001b[1;32m    680\u001b[0m                               n_splits, n_candidates, n_candidates * n_splits))\n\u001b[1;32m    681\u001b[0m \u001b[0;34m\u001b[0m\u001b[0m\n\u001b[0;32m--> 682\u001b[0;31m                 out = parallel(delayed(_fit_and_score)(clone(base_estimator),\n\u001b[0m\u001b[1;32m    683\u001b[0m                                                        \u001b[0mX\u001b[0m\u001b[0;34m,\u001b[0m \u001b[0my\u001b[0m\u001b[0;34m,\u001b[0m\u001b[0;34m\u001b[0m\u001b[0;34m\u001b[0m\u001b[0m\n\u001b[1;32m    684\u001b[0m                                                        \u001b[0mtrain\u001b[0m\u001b[0;34m=\u001b[0m\u001b[0mtrain\u001b[0m\u001b[0;34m,\u001b[0m \u001b[0mtest\u001b[0m\u001b[0;34m=\u001b[0m\u001b[0mtest\u001b[0m\u001b[0;34m,\u001b[0m\u001b[0;34m\u001b[0m\u001b[0;34m\u001b[0m\u001b[0m\n",
      "\u001b[0;32m~/anaconda3/lib/python3.8/site-packages/joblib/parallel.py\u001b[0m in \u001b[0;36m__call__\u001b[0;34m(self, iterable)\u001b[0m\n\u001b[1;32m   1040\u001b[0m \u001b[0;34m\u001b[0m\u001b[0m\n\u001b[1;32m   1041\u001b[0m             \u001b[0;32mwith\u001b[0m \u001b[0mself\u001b[0m\u001b[0;34m.\u001b[0m\u001b[0m_backend\u001b[0m\u001b[0;34m.\u001b[0m\u001b[0mretrieval_context\u001b[0m\u001b[0;34m(\u001b[0m\u001b[0;34m)\u001b[0m\u001b[0;34m:\u001b[0m\u001b[0;34m\u001b[0m\u001b[0;34m\u001b[0m\u001b[0m\n\u001b[0;32m-> 1042\u001b[0;31m                 \u001b[0mself\u001b[0m\u001b[0;34m.\u001b[0m\u001b[0mretrieve\u001b[0m\u001b[0;34m(\u001b[0m\u001b[0;34m)\u001b[0m\u001b[0;34m\u001b[0m\u001b[0;34m\u001b[0m\u001b[0m\n\u001b[0m\u001b[1;32m   1043\u001b[0m             \u001b[0;31m# Make sure that we get a last message telling us we are done\u001b[0m\u001b[0;34m\u001b[0m\u001b[0;34m\u001b[0m\u001b[0;34m\u001b[0m\u001b[0m\n\u001b[1;32m   1044\u001b[0m             \u001b[0melapsed_time\u001b[0m \u001b[0;34m=\u001b[0m \u001b[0mtime\u001b[0m\u001b[0;34m.\u001b[0m\u001b[0mtime\u001b[0m\u001b[0;34m(\u001b[0m\u001b[0;34m)\u001b[0m \u001b[0;34m-\u001b[0m \u001b[0mself\u001b[0m\u001b[0;34m.\u001b[0m\u001b[0m_start_time\u001b[0m\u001b[0;34m\u001b[0m\u001b[0;34m\u001b[0m\u001b[0m\n",
      "\u001b[0;32m~/anaconda3/lib/python3.8/site-packages/joblib/parallel.py\u001b[0m in \u001b[0;36mretrieve\u001b[0;34m(self)\u001b[0m\n\u001b[1;32m    919\u001b[0m             \u001b[0;32mtry\u001b[0m\u001b[0;34m:\u001b[0m\u001b[0;34m\u001b[0m\u001b[0;34m\u001b[0m\u001b[0m\n\u001b[1;32m    920\u001b[0m                 \u001b[0;32mif\u001b[0m \u001b[0mgetattr\u001b[0m\u001b[0;34m(\u001b[0m\u001b[0mself\u001b[0m\u001b[0;34m.\u001b[0m\u001b[0m_backend\u001b[0m\u001b[0;34m,\u001b[0m \u001b[0;34m'supports_timeout'\u001b[0m\u001b[0;34m,\u001b[0m \u001b[0;32mFalse\u001b[0m\u001b[0;34m)\u001b[0m\u001b[0;34m:\u001b[0m\u001b[0;34m\u001b[0m\u001b[0;34m\u001b[0m\u001b[0m\n\u001b[0;32m--> 921\u001b[0;31m                     \u001b[0mself\u001b[0m\u001b[0;34m.\u001b[0m\u001b[0m_output\u001b[0m\u001b[0;34m.\u001b[0m\u001b[0mextend\u001b[0m\u001b[0;34m(\u001b[0m\u001b[0mjob\u001b[0m\u001b[0;34m.\u001b[0m\u001b[0mget\u001b[0m\u001b[0;34m(\u001b[0m\u001b[0mtimeout\u001b[0m\u001b[0;34m=\u001b[0m\u001b[0mself\u001b[0m\u001b[0;34m.\u001b[0m\u001b[0mtimeout\u001b[0m\u001b[0;34m)\u001b[0m\u001b[0;34m)\u001b[0m\u001b[0;34m\u001b[0m\u001b[0;34m\u001b[0m\u001b[0m\n\u001b[0m\u001b[1;32m    922\u001b[0m                 \u001b[0;32melse\u001b[0m\u001b[0;34m:\u001b[0m\u001b[0;34m\u001b[0m\u001b[0;34m\u001b[0m\u001b[0m\n\u001b[1;32m    923\u001b[0m                     \u001b[0mself\u001b[0m\u001b[0;34m.\u001b[0m\u001b[0m_output\u001b[0m\u001b[0;34m.\u001b[0m\u001b[0mextend\u001b[0m\u001b[0;34m(\u001b[0m\u001b[0mjob\u001b[0m\u001b[0;34m.\u001b[0m\u001b[0mget\u001b[0m\u001b[0;34m(\u001b[0m\u001b[0;34m)\u001b[0m\u001b[0;34m)\u001b[0m\u001b[0;34m\u001b[0m\u001b[0;34m\u001b[0m\u001b[0m\n",
      "\u001b[0;32m~/anaconda3/lib/python3.8/site-packages/joblib/_parallel_backends.py\u001b[0m in \u001b[0;36mwrap_future_result\u001b[0;34m(future, timeout)\u001b[0m\n\u001b[1;32m    540\u001b[0m         AsyncResults.get from multiprocessing.\"\"\"\n\u001b[1;32m    541\u001b[0m         \u001b[0;32mtry\u001b[0m\u001b[0;34m:\u001b[0m\u001b[0;34m\u001b[0m\u001b[0;34m\u001b[0m\u001b[0m\n\u001b[0;32m--> 542\u001b[0;31m             \u001b[0;32mreturn\u001b[0m \u001b[0mfuture\u001b[0m\u001b[0;34m.\u001b[0m\u001b[0mresult\u001b[0m\u001b[0;34m(\u001b[0m\u001b[0mtimeout\u001b[0m\u001b[0;34m=\u001b[0m\u001b[0mtimeout\u001b[0m\u001b[0;34m)\u001b[0m\u001b[0;34m\u001b[0m\u001b[0;34m\u001b[0m\u001b[0m\n\u001b[0m\u001b[1;32m    543\u001b[0m         \u001b[0;32mexcept\u001b[0m \u001b[0mCfTimeoutError\u001b[0m \u001b[0;32mas\u001b[0m \u001b[0me\u001b[0m\u001b[0;34m:\u001b[0m\u001b[0;34m\u001b[0m\u001b[0;34m\u001b[0m\u001b[0m\n\u001b[1;32m    544\u001b[0m             \u001b[0;32mraise\u001b[0m \u001b[0mTimeoutError\u001b[0m \u001b[0;32mfrom\u001b[0m \u001b[0me\u001b[0m\u001b[0;34m\u001b[0m\u001b[0;34m\u001b[0m\u001b[0m\n",
      "\u001b[0;32m~/anaconda3/lib/python3.8/concurrent/futures/_base.py\u001b[0m in \u001b[0;36mresult\u001b[0;34m(self, timeout)\u001b[0m\n\u001b[1;32m    437\u001b[0m                 \u001b[0;32mraise\u001b[0m \u001b[0mCancelledError\u001b[0m\u001b[0;34m(\u001b[0m\u001b[0;34m)\u001b[0m\u001b[0;34m\u001b[0m\u001b[0;34m\u001b[0m\u001b[0m\n\u001b[1;32m    438\u001b[0m             \u001b[0;32melif\u001b[0m \u001b[0mself\u001b[0m\u001b[0;34m.\u001b[0m\u001b[0m_state\u001b[0m \u001b[0;34m==\u001b[0m \u001b[0mFINISHED\u001b[0m\u001b[0;34m:\u001b[0m\u001b[0;34m\u001b[0m\u001b[0;34m\u001b[0m\u001b[0m\n\u001b[0;32m--> 439\u001b[0;31m                 \u001b[0;32mreturn\u001b[0m \u001b[0mself\u001b[0m\u001b[0;34m.\u001b[0m\u001b[0m__get_result\u001b[0m\u001b[0;34m(\u001b[0m\u001b[0;34m)\u001b[0m\u001b[0;34m\u001b[0m\u001b[0;34m\u001b[0m\u001b[0m\n\u001b[0m\u001b[1;32m    440\u001b[0m             \u001b[0;32melse\u001b[0m\u001b[0;34m:\u001b[0m\u001b[0;34m\u001b[0m\u001b[0;34m\u001b[0m\u001b[0m\n\u001b[1;32m    441\u001b[0m                 \u001b[0;32mraise\u001b[0m \u001b[0mTimeoutError\u001b[0m\u001b[0;34m(\u001b[0m\u001b[0;34m)\u001b[0m\u001b[0;34m\u001b[0m\u001b[0;34m\u001b[0m\u001b[0m\n",
      "\u001b[0;32m~/anaconda3/lib/python3.8/concurrent/futures/_base.py\u001b[0m in \u001b[0;36m__get_result\u001b[0;34m(self)\u001b[0m\n\u001b[1;32m    386\u001b[0m     \u001b[0;32mdef\u001b[0m \u001b[0m__get_result\u001b[0m\u001b[0;34m(\u001b[0m\u001b[0mself\u001b[0m\u001b[0;34m)\u001b[0m\u001b[0;34m:\u001b[0m\u001b[0;34m\u001b[0m\u001b[0;34m\u001b[0m\u001b[0m\n\u001b[1;32m    387\u001b[0m         \u001b[0;32mif\u001b[0m \u001b[0mself\u001b[0m\u001b[0;34m.\u001b[0m\u001b[0m_exception\u001b[0m\u001b[0;34m:\u001b[0m\u001b[0;34m\u001b[0m\u001b[0;34m\u001b[0m\u001b[0m\n\u001b[0;32m--> 388\u001b[0;31m             \u001b[0;32mraise\u001b[0m \u001b[0mself\u001b[0m\u001b[0;34m.\u001b[0m\u001b[0m_exception\u001b[0m\u001b[0;34m\u001b[0m\u001b[0;34m\u001b[0m\u001b[0m\n\u001b[0m\u001b[1;32m    389\u001b[0m         \u001b[0;32melse\u001b[0m\u001b[0;34m:\u001b[0m\u001b[0;34m\u001b[0m\u001b[0;34m\u001b[0m\u001b[0m\n\u001b[1;32m    390\u001b[0m             \u001b[0;32mreturn\u001b[0m \u001b[0mself\u001b[0m\u001b[0;34m.\u001b[0m\u001b[0m_result\u001b[0m\u001b[0;34m\u001b[0m\u001b[0;34m\u001b[0m\u001b[0m\n",
      "\u001b[0;31mBrokenProcessPool\u001b[0m: A task has failed to un-serialize. Please ensure that the arguments of the function are all picklable."
     ]
    }
   ],
   "source": [
    "gb_clf_final = pipeline_fit(\n",
    "                                X_train=X_train,\n",
    "                                y_train=y_train,\n",
    "                                pipeline=\"GradientBoost\", \n",
    "                                search_method=\"gridsearch\", \n",
    "#                                         n_iter=3,\n",
    "                                verbose_searchcv=2, \n",
    "                                n_jobs=12, \n",
    "                                save_name=\"Twitter_test\"\n",
    "                            )"
   ]
  },
  {
   "cell_type": "markdown",
   "metadata": {},
   "source": [
    "### Evaluation"
   ]
  },
  {
   "cell_type": "code",
   "execution_count": 141,
   "metadata": {},
   "outputs": [
    {
     "name": "stdout",
     "output_type": "stream",
     "text": [
      "Preprocessing...\n",
      "Preprocess Complete\n",
      "(48000, 15000)\n",
      "Preprocessing...\n",
      "Preprocess Complete\n",
      "(48000, 15000)\n"
     ]
    }
   ],
   "source": [
    "y_pred_linear_svc = gb_clf_final.predict(X_test)\n",
    "y_score_linear_svc = gb_clf_final.decision_function(X_test)"
   ]
  },
  {
   "cell_type": "code",
   "execution_count": 142,
   "metadata": {},
   "outputs": [
    {
     "name": "stdout",
     "output_type": "stream",
     "text": [
      "Accuracy Score on Test Set:\n",
      "0.7941875\n"
     ]
    },
    {
     "data": {
      "image/png": "[encoded data removed]",
      "text/plain": [
       "<Figure size 576x576 with 2 Axes>"
      ]
     },
     "metadata": {},
     "output_type": "display_data"
    },
    {
     "data": {
      "image/png": "[encoded data removed]",
      "text/plain": [
       "<Figure size 576x576 with 1 Axes>"
      ]
     },
     "metadata": {},
     "output_type": "display_data"
    }
   ],
   "source": [
    "print(\"Accuracy Score on Test Set:\")\n",
    "# Inverse transform onehot labels using labelbinarizer\n",
    "print(accuracy_score(y_test, y_pred_linear_svc))\n",
    "\n",
    "# np.set_printoptions(precision=2)\n",
    "# print(linear_svc_clf_final.classes_)\n",
    "# Plot confusion matrix\n",
    "plot_confusion_matrix(y_test, y_pred_linear_svc, classes=gb_clf_final.classes_)\n",
    "\n",
    "# Plot ROC curve (requires onehot targets)\n",
    "plot_roc_curve(y_test, y_score_linear_svc, classes=gb_clf_final.classes_, roc_multilabel_count=2)"
   ]
  },
  {
   "cell_type": "markdown",
   "metadata": {},
   "source": [
    "## XGBoost Classifier"
   ]
  },
  {
   "cell_type": "code",
   "execution_count": 1,
   "metadata": {},
   "outputs": [
    {
     "ename": "NameError",
     "evalue": "name 'RandomForestClassifier' is not defined",
     "output_type": "error",
     "traceback": [
      "\u001b[0;31m---------------------------------------------------------------------------\u001b[0m",
      "\u001b[0;31mNameError\u001b[0m                                 Traceback (most recent call last)",
      "\u001b[0;32m<ipython-input-1-638b2b571ed6>\u001b[0m in \u001b[0;36m<module>\u001b[0;34m\u001b[0m\n\u001b[1;32m      1\u001b[0m \u001b[0;31m# Linear support Vector Classification using one-vs-rest classification for multiclass learning\u001b[0m\u001b[0;34m\u001b[0m\u001b[0;34m\u001b[0m\u001b[0;34m\u001b[0m\u001b[0m\n\u001b[0;32m----> 2\u001b[0;31m \u001b[0mrf_clf\u001b[0m \u001b[0;34m=\u001b[0m \u001b[0mRandomForestClassifier\u001b[0m\u001b[0;34m(\u001b[0m\u001b[0mverbose\u001b[0m\u001b[0;34m=\u001b[0m\u001b[0;36m0\u001b[0m\u001b[0;34m)\u001b[0m\u001b[0;34m\u001b[0m\u001b[0;34m\u001b[0m\u001b[0m\n\u001b[0m\u001b[1;32m      3\u001b[0m rf_clf_fullpipe = Pipeline(steps=[\n\u001b[1;32m      4\u001b[0m     \u001b[0;34m(\u001b[0m\u001b[0;34m\"preprocessor\"\u001b[0m\u001b[0;34m,\u001b[0m \u001b[0mpreprocessor\u001b[0m\u001b[0;34m)\u001b[0m\u001b[0;34m,\u001b[0m\u001b[0;34m\u001b[0m\u001b[0;34m\u001b[0m\u001b[0m\n\u001b[1;32m      5\u001b[0m     \u001b[0;34m(\u001b[0m\u001b[0;34m\"rf_classifier\"\u001b[0m\u001b[0;34m,\u001b[0m \u001b[0mrf_clf\u001b[0m\u001b[0;34m)\u001b[0m\u001b[0;34m\u001b[0m\u001b[0;34m\u001b[0m\u001b[0m\n",
      "\u001b[0;31mNameError\u001b[0m: name 'RandomForestClassifier' is not defined"
     ]
    }
   ],
   "source": [
    "# Linear support Vector Classification using one-vs-rest classification for multiclass learning\n",
    "xgb_clf = XGBClassifier()\n",
    "xgb_clf_fullpipe = Pipeline(steps=[\n",
    "    (\"preprocessor\", preprocessor),\n",
    "    (\"xgb_classifier\", xgb_clf)\n",
    "])\n",
    "print(xgb_clf_fullpipe)\n",
    "print(\"\")"
   ]
  },
  {
   "cell_type": "code",
   "execution_count": 138,
   "metadata": {},
   "outputs": [],
   "source": [
    "# Specify hyperparameter grids for optimization\n",
    "\n",
    "xgb_param_grid = {\n",
    "    \"xgb_classifier__n_estimators\": [int(x) for x in np.linspace(50,550,11)],\n",
    "    \"xgb_classifier__max_depth\": max_depth,  \n",
    "    }\n",
    "\n",
    "xgb_param_grid.update(param_grid)"
   ]
  },
  {
   "cell_type": "code",
   "execution_count": 139,
   "metadata": {},
   "outputs": [],
   "source": [
    "# Dictionary of pipelines and classifier types for ease of reference\n",
    "pipe_dict = {\n",
    "    \"GradientBoost\": (xgb_clf_fullpipe, xgb_param_grid),\n",
    "}"
   ]
  },
  {
   "cell_type": "markdown",
   "metadata": {},
   "source": [
    "### Train the gradient boosting pipeline model"
   ]
  },
  {
   "cell_type": "code",
   "execution_count": 140,
   "metadata": {},
   "outputs": [
    {
     "name": "stdin",
     "output_type": "stream",
     "text": [
      "A joblib model file already exists with that name, \n",
      "do you wish to retrain the model? (Y/N) y\n"
     ]
    },
    {
     "name": "stdout",
     "output_type": "stream",
     "text": [
      "Pipeline(memory=None,\n",
      "         steps=[('preprocessor',\n",
      "                 ColumnTransformer(n_jobs=None, remainder='drop',\n",
      "                                   sparse_threshold=0.3,\n",
      "                                   transformer_weights=None,\n",
      "                                   transformers=[('tweet_transformer',\n",
      "                                                  Pipeline(memory=None,\n",
      "                                                           steps=[('cleaner',\n",
      "                                                                   Tweet_cleaner(verbose=False,\n",
      "                                                                                 word2vec=False)),\n",
      "                                                                  ('tfidf_vectorizer',\n",
      "                                                                   TfidfVectorizer(analyzer='word',\n",
      "                                                                                   binary=False,\n",
      "                                                                                   decode_error='strict',\n",
      "                                                                                   dtype=<...\n",
      "                                                                                   tokenizer=None,\n",
      "                                                                                   use_idf=True,\n",
      "                                                                                   vocabulary=None)),\n",
      "                                                                  ('debug',\n",
      "                                                                   Debug(verbose=False))],\n",
      "                                                           verbose=False),\n",
      "                                                  ['Tweet'])],\n",
      "                                   verbose=False)),\n",
      "                ('linear_svc_classifier',\n",
      "                 LinearSVC(C=1.0, class_weight=None, dual=False,\n",
      "                           fit_intercept=True, intercept_scaling=1,\n",
      "                           loss='squared_hinge', max_iter=1000,\n",
      "                           multi_class='ovr', penalty='l2', random_state=None,\n",
      "                           tol=0.0001, verbose=0))],\n",
      "         verbose=False)\n",
      "Param Grid: {'linear_svc_classifier__penalty': ['l1', 'l2'], 'linear_svc_classifier__C': [0.03125, 0.1767766952966369, 1.0, 5.656854249492381, 32.0], 'preprocessor__tweet_transformer__tfidf_vectorizer__max_features': (1000, 5000, 15000), 'preprocessor__tweet_transformer__tfidf_vectorizer__binary': [True], 'preprocessor__tweet_transformer__tfidf_vectorizer__token_pattern': [\"(?u)\\\\b\\\\w\\\\w+\\\\b|\\\\'\"], 'preprocessor__tweet_transformer__tfidf_vectorizer__ngram_range': [(1, 2)]}\n",
      "\n",
      "Training Linear_SVC on 112000 samples...\n",
      "Shape of inputs: (112000, 1)\n",
      "                                                                                                                                         Tweet\n",
      "510483   looks like tonight's a bit of a bust                                                                                                 \n",
      "1595178  you betcha jack wp is easy peasy stuff for me thinking some videos are in order                                                      \n",
      "10758    twit help how do i remove twitter column from tweet deck i set it to stay signed in it's not budging and i dont want it there anymore\n",
      "1258939  i have waited for the right opportunity to think about renting                                                                       \n",
      "61753    something good come on tv                                                                                                            \n",
      "Shape of outputs: (112000,)\n",
      "[0 1 0 1 0]\n",
      "\n",
      "Fitting 5 folds for each of 30 candidates, totalling 150 fits\n"
     ]
    },
    {
     "name": "stderr",
     "output_type": "stream",
     "text": [
      "[Parallel(n_jobs=12)]: Using backend LokyBackend with 12 concurrent workers.\n",
      "[Parallel(n_jobs=12)]: Done  17 tasks      | elapsed:   19.5s\n",
      "[Parallel(n_jobs=12)]: Done 150 out of 150 | elapsed:  1.8min finished\n"
     ]
    },
    {
     "name": "stdout",
     "output_type": "stream",
     "text": [
      "Preprocessing...\n",
      "Preprocess Complete\n",
      "(112000, 15000)\n",
      "\n",
      "Linear_SVC:\n",
      "Best Score:  0.7933214285714286\n",
      "Best Params:  {'linear_svc_classifier__C': 0.1767766952966369, 'linear_svc_classifier__penalty': 'l2', 'preprocessor__tweet_transformer__tfidf_vectorizer__binary': True, 'preprocessor__tweet_transformer__tfidf_vectorizer__max_features': 15000, 'preprocessor__tweet_transformer__tfidf_vectorizer__ngram_range': (1, 2), 'preprocessor__tweet_transformer__tfidf_vectorizer__token_pattern': \"(?u)\\\\b\\\\w\\\\w+\\\\b|\\\\'\"}\n"
     ]
    }
   ],
   "source": [
    "xgb_clf_final = pipeline_fit(\n",
    "                                X_train=X_train,\n",
    "                                y_train=y_train,\n",
    "                                pipeline=\"XGBoost\", \n",
    "                                search_method=\"gridsearch\", \n",
    "#                                         n_iter=3,\n",
    "                                verbose_searchcv=2, \n",
    "                                n_jobs=12, \n",
    "                                save_name=\"Twitter_test\"\n",
    "                            )"
   ]
  },
  {
   "cell_type": "markdown",
   "metadata": {},
   "source": [
    "### Evaluation"
   ]
  },
  {
   "cell_type": "code",
   "execution_count": 141,
   "metadata": {},
   "outputs": [
    {
     "name": "stdout",
     "output_type": "stream",
     "text": [
      "Preprocessing...\n",
      "Preprocess Complete\n",
      "(48000, 15000)\n",
      "Preprocessing...\n",
      "Preprocess Complete\n",
      "(48000, 15000)\n"
     ]
    }
   ],
   "source": [
    "y_pred_linear_svc = xgb_clf_final.predict(X_test)\n",
    "y_score_linear_svc = xgb_clf_final.decision_function(X_test)"
   ]
  },
  {
   "cell_type": "code",
   "execution_count": 142,
   "metadata": {},
   "outputs": [
    {
     "name": "stdout",
     "output_type": "stream",
     "text": [
      "Accuracy Score on Test Set:\n",
      "0.7941875\n"
     ]
    },
    {
     "data": {
      "image/png": "[encoded data removed]",
      "text/plain": [
       "<Figure size 576x576 with 2 Axes>"
      ]
     },
     "metadata": {},
     "output_type": "display_data"
    },
    {
     "data": {
      "image/png": "[encoded data removed]",
      "text/plain": [
       "<Figure size 576x576 with 1 Axes>"
      ]
     },
     "metadata": {},
     "output_type": "display_data"
    }
   ],
   "source": [
    "print(\"Accuracy Score on Test Set:\")\n",
    "# Inverse transform onehot labels using labelbinarizer\n",
    "print(accuracy_score(y_test, y_pred_linear_svc))\n",
    "\n",
    "# np.set_printoptions(precision=2)\n",
    "# print(linear_svc_clf_final.classes_)\n",
    "# Plot confusion matrix\n",
    "plot_confusion_matrix(y_test, y_pred_linear_svc, classes=xgb_clf_final.classes_)\n",
    "\n",
    "# Plot ROC curve (requires onehot targets)\n",
    "plot_roc_curve(y_test, y_score_linear_svc, classes=xgb_clf_final.classes_, roc_multilabel_count=2)"
   ]
  },
  {
   "cell_type": "markdown",
   "metadata": {},
   "source": [
    "## LightGBM Classifier"
   ]
  },
  {
   "cell_type": "code",
   "execution_count": 1,
   "metadata": {},
   "outputs": [
    {
     "ename": "NameError",
     "evalue": "name 'RandomForestClassifier' is not defined",
     "output_type": "error",
     "traceback": [
      "\u001b[0;31m---------------------------------------------------------------------------\u001b[0m",
      "\u001b[0;31mNameError\u001b[0m                                 Traceback (most recent call last)",
      "\u001b[0;32m<ipython-input-1-638b2b571ed6>\u001b[0m in \u001b[0;36m<module>\u001b[0;34m\u001b[0m\n\u001b[1;32m      1\u001b[0m \u001b[0;31m# Linear support Vector Classification using one-vs-rest classification for multiclass learning\u001b[0m\u001b[0;34m\u001b[0m\u001b[0;34m\u001b[0m\u001b[0;34m\u001b[0m\u001b[0m\n\u001b[0;32m----> 2\u001b[0;31m \u001b[0mrf_clf\u001b[0m \u001b[0;34m=\u001b[0m \u001b[0mRandomForestClassifier\u001b[0m\u001b[0;34m(\u001b[0m\u001b[0mverbose\u001b[0m\u001b[0;34m=\u001b[0m\u001b[0;36m0\u001b[0m\u001b[0;34m)\u001b[0m\u001b[0;34m\u001b[0m\u001b[0;34m\u001b[0m\u001b[0m\n\u001b[0m\u001b[1;32m      3\u001b[0m rf_clf_fullpipe = Pipeline(steps=[\n\u001b[1;32m      4\u001b[0m     \u001b[0;34m(\u001b[0m\u001b[0;34m\"preprocessor\"\u001b[0m\u001b[0;34m,\u001b[0m \u001b[0mpreprocessor\u001b[0m\u001b[0;34m)\u001b[0m\u001b[0;34m,\u001b[0m\u001b[0;34m\u001b[0m\u001b[0;34m\u001b[0m\u001b[0m\n\u001b[1;32m      5\u001b[0m     \u001b[0;34m(\u001b[0m\u001b[0;34m\"rf_classifier\"\u001b[0m\u001b[0;34m,\u001b[0m \u001b[0mrf_clf\u001b[0m\u001b[0;34m)\u001b[0m\u001b[0;34m\u001b[0m\u001b[0;34m\u001b[0m\u001b[0m\n",
      "\u001b[0;31mNameError\u001b[0m: name 'RandomForestClassifier' is not defined"
     ]
    }
   ],
   "source": [
    "# Linear support Vector Classification using one-vs-rest classification for multiclass learning\n",
    "lgbm_clf = XGBClassifier()\n",
    "lgbm_clf_fullpipe = Pipeline(steps=[\n",
    "    (\"preprocessor\", preprocessor),\n",
    "    (\"lgbm_classifier\", lgbm_clf)\n",
    "])\n",
    "print(lgbm_clf_fullpipe)\n",
    "print(\"\")"
   ]
  },
  {
   "cell_type": "code",
   "execution_count": 138,
   "metadata": {},
   "outputs": [],
   "source": [
    "# Specify hyperparameter grids for optimization\n",
    "\n",
    "lgbm_param_grid = {\n",
    "    \"lgbm_classifier__n_estimators\": [int(x) for x in np.linspace(50,550,11)],\n",
    "    \"lgbm_classifier__max_depth\": max_depth,\n",
    "    }\n",
    "\n",
    "lgbm_param_grid.update(param_grid)"
   ]
  },
  {
   "cell_type": "code",
   "execution_count": 139,
   "metadata": {},
   "outputs": [],
   "source": [
    "# Dictionary of pipelines and classifier types for ease of reference\n",
    "pipe_dict = {\n",
    "    \"LightGBM\": (lgbm_clf_fullpipe, lgbm_param_grid),\n",
    "}"
   ]
  },
  {
   "cell_type": "markdown",
   "metadata": {},
   "source": [
    "### Train the gradient boosting pipeline model"
   ]
  },
  {
   "cell_type": "code",
   "execution_count": 140,
   "metadata": {},
   "outputs": [
    {
     "name": "stdin",
     "output_type": "stream",
     "text": [
      "A joblib model file already exists with that name, \n",
      "do you wish to retrain the model? (Y/N) y\n"
     ]
    },
    {
     "name": "stdout",
     "output_type": "stream",
     "text": [
      "Pipeline(memory=None,\n",
      "         steps=[('preprocessor',\n",
      "                 ColumnTransformer(n_jobs=None, remainder='drop',\n",
      "                                   sparse_threshold=0.3,\n",
      "                                   transformer_weights=None,\n",
      "                                   transformers=[('tweet_transformer',\n",
      "                                                  Pipeline(memory=None,\n",
      "                                                           steps=[('cleaner',\n",
      "                                                                   Tweet_cleaner(verbose=False,\n",
      "                                                                                 word2vec=False)),\n",
      "                                                                  ('tfidf_vectorizer',\n",
      "                                                                   TfidfVectorizer(analyzer='word',\n",
      "                                                                                   binary=False,\n",
      "                                                                                   decode_error='strict',\n",
      "                                                                                   dtype=<...\n",
      "                                                                                   tokenizer=None,\n",
      "                                                                                   use_idf=True,\n",
      "                                                                                   vocabulary=None)),\n",
      "                                                                  ('debug',\n",
      "                                                                   Debug(verbose=False))],\n",
      "                                                           verbose=False),\n",
      "                                                  ['Tweet'])],\n",
      "                                   verbose=False)),\n",
      "                ('linear_svc_classifier',\n",
      "                 LinearSVC(C=1.0, class_weight=None, dual=False,\n",
      "                           fit_intercept=True, intercept_scaling=1,\n",
      "                           loss='squared_hinge', max_iter=1000,\n",
      "                           multi_class='ovr', penalty='l2', random_state=None,\n",
      "                           tol=0.0001, verbose=0))],\n",
      "         verbose=False)\n",
      "Param Grid: {'linear_svc_classifier__penalty': ['l1', 'l2'], 'linear_svc_classifier__C': [0.03125, 0.1767766952966369, 1.0, 5.656854249492381, 32.0], 'preprocessor__tweet_transformer__tfidf_vectorizer__max_features': (1000, 5000, 15000), 'preprocessor__tweet_transformer__tfidf_vectorizer__binary': [True], 'preprocessor__tweet_transformer__tfidf_vectorizer__token_pattern': [\"(?u)\\\\b\\\\w\\\\w+\\\\b|\\\\'\"], 'preprocessor__tweet_transformer__tfidf_vectorizer__ngram_range': [(1, 2)]}\n",
      "\n",
      "Training Linear_SVC on 112000 samples...\n",
      "Shape of inputs: (112000, 1)\n",
      "                                                                                                                                         Tweet\n",
      "510483   looks like tonight's a bit of a bust                                                                                                 \n",
      "1595178  you betcha jack wp is easy peasy stuff for me thinking some videos are in order                                                      \n",
      "10758    twit help how do i remove twitter column from tweet deck i set it to stay signed in it's not budging and i dont want it there anymore\n",
      "1258939  i have waited for the right opportunity to think about renting                                                                       \n",
      "61753    something good come on tv                                                                                                            \n",
      "Shape of outputs: (112000,)\n",
      "[0 1 0 1 0]\n",
      "\n",
      "Fitting 5 folds for each of 30 candidates, totalling 150 fits\n"
     ]
    },
    {
     "name": "stderr",
     "output_type": "stream",
     "text": [
      "[Parallel(n_jobs=12)]: Using backend LokyBackend with 12 concurrent workers.\n",
      "[Parallel(n_jobs=12)]: Done  17 tasks      | elapsed:   19.5s\n",
      "[Parallel(n_jobs=12)]: Done 150 out of 150 | elapsed:  1.8min finished\n"
     ]
    },
    {
     "name": "stdout",
     "output_type": "stream",
     "text": [
      "Preprocessing...\n",
      "Preprocess Complete\n",
      "(112000, 15000)\n",
      "\n",
      "Linear_SVC:\n",
      "Best Score:  0.7933214285714286\n",
      "Best Params:  {'linear_svc_classifier__C': 0.1767766952966369, 'linear_svc_classifier__penalty': 'l2', 'preprocessor__tweet_transformer__tfidf_vectorizer__binary': True, 'preprocessor__tweet_transformer__tfidf_vectorizer__max_features': 15000, 'preprocessor__tweet_transformer__tfidf_vectorizer__ngram_range': (1, 2), 'preprocessor__tweet_transformer__tfidf_vectorizer__token_pattern': \"(?u)\\\\b\\\\w\\\\w+\\\\b|\\\\'\"}\n"
     ]
    }
   ],
   "source": [
    "lgbm_clf_final = pipeline_fit(\n",
    "                                X_train=X_train,\n",
    "                                y_train=y_train,\n",
    "                                pipeline=\"LightGBM\", \n",
    "                                search_method=\"gridsearch\", \n",
    "#                                         n_iter=3,\n",
    "                                verbose_searchcv=2, \n",
    "                                n_jobs=12, \n",
    "                                save_name=\"Twitter_test\"\n",
    "                            )"
   ]
  },
  {
   "cell_type": "markdown",
   "metadata": {},
   "source": [
    "### Evaluation"
   ]
  },
  {
   "cell_type": "code",
   "execution_count": 141,
   "metadata": {},
   "outputs": [
    {
     "name": "stdout",
     "output_type": "stream",
     "text": [
      "Preprocessing...\n",
      "Preprocess Complete\n",
      "(48000, 15000)\n",
      "Preprocessing...\n",
      "Preprocess Complete\n",
      "(48000, 15000)\n"
     ]
    }
   ],
   "source": [
    "y_pred_linear_svc = lgbm_clf_final.predict(X_test)\n",
    "y_score_linear_svc = lgbm_clf_final.decision_function(X_test)"
   ]
  },
  {
   "cell_type": "code",
   "execution_count": 142,
   "metadata": {},
   "outputs": [
    {
     "name": "stdout",
     "output_type": "stream",
     "text": [
      "Accuracy Score on Test Set:\n",
      "0.7941875\n"
     ]
    },
    {
     "data": {
      "image/png": "[encoded data removed]",
      "text/plain": [
       "<Figure size 576x576 with 2 Axes>"
      ]
     },
     "metadata": {},
     "output_type": "display_data"
    },
    {
     "data": {
      "image/png": "[encoded data removed]",
      "text/plain": [
       "<Figure size 576x576 with 1 Axes>"
      ]
     },
     "metadata": {},
     "output_type": "display_data"
    }
   ],
   "source": [
    "print(\"Accuracy Score on Test Set:\")\n",
    "# Inverse transform onehot labels using labelbinarizer\n",
    "print(accuracy_score(y_test, y_pred_linear_svc))\n",
    "\n",
    "# np.set_printoptions(precision=2)\n",
    "# print(linear_svc_clf_final.classes_)\n",
    "# Plot confusion matrix\n",
    "plot_confusion_matrix(y_test, y_pred_linear_svc, classes=lgbm_clf_final.classes_)\n",
    "\n",
    "# Plot ROC curve (requires onehot targets)\n",
    "plot_roc_curve(y_test, y_score_linear_svc, classes=lgbm_clf_final.classes_, roc_multilabel_count=2)"
   ]
  },
  {
   "cell_type": "markdown",
   "metadata": {},
   "source": [
    "# Neural Networks"
   ]
  },
  {
   "cell_type": "markdown",
   "metadata": {},
   "source": [
    "## Tokenizer and embedding pipeline transformer"
   ]
  },
  {
   "cell_type": "code",
   "execution_count": 16,
   "metadata": {},
   "outputs": [],
   "source": [
    "## Keras tokenizing function and optional word2vec embedding transformer\n",
    "class Keras_tokenizer_embedding_transfomer(BaseEstimator, TransformerMixin):\n",
    "    \n",
    "    def __init__(self, verbose=False, word2vec=None, text_col=None, max_words=None, max_seq_len=None, vector_size=None):\n",
    "        self.verbose = verbose\n",
    "        self.word2vec = word2vec\n",
    "        self.text_col = text_col\n",
    "        self.max_words = max_words\n",
    "        self.max_seq_len = max_seq_len\n",
    "        self.vector_size = vector_size\n",
    "        \n",
    "    def fit(self, X, y=None):\n",
    "        if(self.verbose):\n",
    "            print(\"Verbose mode on!\")\n",
    "        return self\n",
    "    \n",
    "    \n",
    "#     def preprocess_text(self, text: Union[Iterable, str]) -> List[str]:\n",
    "# #         \"\"\" Prepare text for the model, excluding unknown words\"\"\"\n",
    "# #         if not isinstance(raw_text, list):\n",
    "# #             if not isinstance(raw_text, str):\n",
    "# #                 raise TypeError(\n",
    "# #                     f\"Input should be a str or a list of str, got {type(raw_text)}\"\n",
    "# #                 )\n",
    "# #             raw_tokens = raw_text.split()\n",
    "#         for token in text:\n",
    "#             return list(filter(lambda x: x in self.word2vec.vocab, token))\n",
    "    \n",
    "    \n",
    "    \n",
    "    ## Slight modification of zeugma source code\n",
    "    def transform_text(self, text: Union[Iterable, str]) -> np.array:\n",
    "        \"\"\" Compute an aggregate embedding vector for an input str or iterable of str.\n",
    "        \"\"\"\n",
    "#         tokens = self.preprocess_text(text)\n",
    "        embedding = []\n",
    "        for token in text:\n",
    "#             print(token)\n",
    "            try:\n",
    "                embedding.append(self.word2vec[token])\n",
    "            except: \n",
    "                embedding.append(np.zeros(self.vector_size, dtype=np.float32))\n",
    "        \n",
    "        return embedding\n",
    "\n",
    "#         if not tokens:\n",
    "#             return np.zeros(self.vector_size, dtype=np.float32)\n",
    "\n",
    "#         return self.word2vec[tokens]\n",
    "    \n",
    "    \n",
    "    \n",
    "    def transform(self, X, y=None):\n",
    "        X = X[\"Tweet\"].values\n",
    "        self.text_count = len(X)\n",
    "        #display(X)\n",
    "        ## Use Keras tokenizer and padding for neural net inputs        \n",
    "        if self.word2vec is not None:\n",
    "            print(\"Transforming texts...\")\n",
    "            print(X.shape)\n",
    "            \n",
    "#             print(X[:5])\n",
    "            \n",
    "            X = [list(text.split()) for text in X]\n",
    "#             print(X[:5])\n",
    "\n",
    "            X = pad_sequences(X, maxlen=self.max_seq_len, padding=\"post\", truncating=\"post\", value=\" \", dtype=object)\n",
    "            print(X[:5])\n",
    "            \n",
    "            ## Conversion to word vectors, modification of Zeugma\n",
    "            X = np.reshape([self.transform_text(text) for text in X], (self.text_count, self.max_seq_len, self.vector_size))\n",
    "#             print(embeddings[0])\n",
    "#             print(embeddings.shape)\n",
    "            \n",
    "            ## Pad each text array to the same length (post), a modification of keras pad_sequences\n",
    "#             num_samples = len(embeddings)\n",
    "#             lengths = []\n",
    "#             sample_shape = ()\n",
    "#             flag = True\n",
    "            \n",
    "#             for text in embeddings:\n",
    "#                 try:\n",
    "#                     lengths.append(len(embeddings))\n",
    "#                     if flag and len(embeddings):\n",
    "#                         sample_shape = np.asarray(embeddings).shape[1:]\n",
    "#                         flag = False\n",
    "#                 except TypeError:\n",
    "#                     raise ValueError('`sequences` must be a list of iterables. '\n",
    "#                                      'Found non-iterable: ' + str(embeddings))\n",
    "\n",
    "#             embeddings = np.full((num_samples, self.vector_size) + sample_shape, np.zeros(self.vector_size,))\n",
    "            \n",
    "#             for idx, s in enumerate(embeddings):\n",
    "#                 trunc = s[:self.vector_size]\n",
    "                \n",
    "#                 # check `trunc` has expected shape\n",
    "#                 trunc = np.asarray(trunc)\n",
    "#                 if trunc.shape[1:] != sample_shape:\n",
    "#                     raise ValueError('Shape of sample %s of sequence at position %s '\n",
    "#                                      'is different from expected shape %s' %\n",
    "#                                      (trunc.shape[1:], idx, sample_shape))\n",
    "#                 embeddings[idx, :len(trunc)] = trunc \n",
    "            \n",
    "#             print(embeddings[:5])\n",
    "            \n",
    "#             print(embeddings.shape)\n",
    "            print(\"Texts transformed\")\n",
    "            \n",
    "            ## Stack arrays into large three-dimensional array\n",
    "#             X = np.vstack(embeddings)\n",
    "#             del embeddings\n",
    "            \n",
    "            print(\"Shape of transformed text data:\", X.shape)\n",
    "            print(X[0])\n",
    "            print(X[0].shape)\n",
    "            \n",
    "        else:\n",
    "            print(\"Tokenizing...\")\n",
    "    #         X = X[self.text_col].to_numpy()\n",
    "            tokenizer = Tokenizer(num_words=self.max_words)\n",
    "            tokenizer.fit_on_texts(X)\n",
    "\n",
    "            sequences = tokenizer.texts_to_sequences(X)\n",
    "            word_index = tokenizer.word_index\n",
    "            print(\"%s unique tokens\" % len(word_index))\n",
    "\n",
    "            X = pad_sequences(sequences, maxlen=self.max_seq_len)\n",
    "            print(\"Shape of tokenized text data:\", X.shape)\n",
    "            print(\"Tokenization Complete\")\n",
    "            \n",
    "            \n",
    "#             print(\"Preparing embedding matrix...\")\n",
    "            \n",
    "#             nb_words = min(max_words, len(word_index))+1\n",
    "\n",
    "#             embedding_matrix = np.zeros((nb_words, embedding_dim))\n",
    "#             for word, i in word_index.items():\n",
    "#                 if word in word2vec.vocab:\n",
    "#                     embedding_matrix[i] = word2vec.word_vec(word)\n",
    "#             print(\"Null word embeddings: %d\" % np.sum(np.sum(embedding_matrix, axis=1) == 0))\n",
    "#             print(\"Embedding matrix formation complete\")\n",
    "            \n",
    "            \n",
    "\n",
    "        return X"
   ]
  },
  {
   "cell_type": "markdown",
   "metadata": {},
   "source": [
    "## Get pretrained word vectors and set param grid"
   ]
  },
  {
   "cell_type": "code",
   "execution_count": 15,
   "metadata": {},
   "outputs": [
    {
     "name": "stdout",
     "output_type": "stream",
     "text": [
      "Loading word2vec model...\n",
      "<class 'gensim.models.keyedvectors.Word2VecKeyedVectors'>\n",
      "Found 3000000 word vectors of word2vec\n"
     ]
    }
   ],
   "source": [
    "## Load word vectors\n",
    "while \"word2vec\" in globals():\n",
    "    # Check if word2vec model is already loaded, ask user for confirmation of overwrite\n",
    "    skip = input('''A word2vec model is already loaded, \n",
    "do you reload the model? (Y/N)''')\n",
    "    if skip.lower().strip() == \"y\":\n",
    "        print(\"Loading word2vec model...\")\n",
    "        word2vec = KeyedVectors.load_word2vec_format(\"GoogleNews-vectors-negative300.bin\", binary=True)\n",
    "        print(type(word2vec))\n",
    "        print(\"Found %s word vectors of word2vec\" % len(word2vec.vocab))\n",
    "    elif skip.lower().strip() == \"n\":\n",
    "        print(type(word2vec))\n",
    "        print(\"Found %s word vectors of word2vec\" % len(word2vec.vocab))\n",
    "        break\n",
    "else:\n",
    "    print(\"Loading word2vec model...\")\n",
    "    word2vec = KeyedVectors.load_word2vec_format(\"GoogleNews-vectors-negative300.bin\", binary=True)\n",
    "    print(type(word2vec))\n",
    "    print(\"Found %s word vectors of word2vec\" % len(word2vec.vocab))"
   ]
  },
  {
   "cell_type": "code",
   "execution_count": 16,
   "metadata": {},
   "outputs": [
    {
     "name": "stdout",
     "output_type": "stream",
     "text": [
      "300\n"
     ]
    }
   ],
   "source": [
    "## Get the length of a word vector\n",
    "vector_size = word2vec.vector_size\n",
    "print(vector_size)\n",
    "# len(word2vec[\"computer\"])"
   ]
  },
  {
   "cell_type": "code",
   "execution_count": 17,
   "metadata": {},
   "outputs": [],
   "source": [
    "max_seq_len = 30\n",
    "max_words = None\n",
    "\n",
    "tweet_transformer_keras = Pipeline(steps=[\n",
    "#    (\"cleaner\", Tweet_cleaner(word2vec=word2vec)),\n",
    "#    (\"keras_tokenizer\", Keras_tokenizer(max_seq_len=max_seq_len)),\n",
    "   (\"keras_tokenizer_embedding_transfomer\", Keras_tokenizer_embedding_transfomer(word2vec=word2vec, max_words=max_words, max_seq_len=max_seq_len, vector_size=vector_size))\n",
    "   ])\n",
    "\n",
    "preprocessor_keras = ColumnTransformer(\n",
    "   transformers=[\n",
    "       (\"tweet_transformer_keras\", tweet_transformer_keras, tweet_col)\n",
    "       ])"
   ]
  },
  {
   "cell_type": "markdown",
   "metadata": {},
   "source": [
    "## Keras Dense Neural Network"
   ]
  },
  {
   "cell_type": "code",
   "execution_count": 18,
   "metadata": {},
   "outputs": [],
   "source": [
    "## Set callbacks for Keras model\n",
    "es = EarlyStopping(monitor=\"val_loss\", mode=\"min\", verbose=1, patience=15)\n",
    "\n",
    "## Keras sklearn pipeline wrapper, dense layers require row major arrays\n",
    "def create_dense_keras(input_shape=(max_seq_len,vector_size,),n_nodes_1=50,n_nodes_2=10,dropout=0.7,output_size=1,loss=\"binary_crossentropy\",optimizer=\"adam\",metrics=[\"accuracy\"],callbacks=[es]):\n",
    "    \n",
    "    print(\"-\"*32)\n",
    "    print(\"create_dense_fn called with:\")\n",
    "    print(\"\\tInput Shape:\", input_shape)\n",
    "    print(\"\\tDropout:\", dropout)\n",
    "    print(\"\\tOutput Size:\", output_size)\n",
    "    print(\"\\tLoss:\", loss)\n",
    "    print(\"\\tOptimizer:\", optimizer)\n",
    "    print(\"\\tMetrics:\", metrics)\n",
    "    print(\"\\tCallbacks:\", callbacks)\n",
    "    print(\"-\"*32)\n",
    "\n",
    "    model = Sequential()\n",
    "\n",
    "    model.add(layers.Dense(n_nodes_1, input_shape=input_shape, activation=\"relu\"))\n",
    "    model.add(layers.Dropout(rate=dropout))\n",
    "    model.add(layers.Dense(n_nodes_2, activation=\"relu\"))\n",
    "#     model.add(layers.Dropout(rate=dropout))\n",
    "    model.add(layers.Dense(output_size, activation=\"sigmoid\"))\n",
    "\n",
    "    model.compile(loss=loss,\n",
    "                  optimizer=optimizer,\n",
    "                  metrics=metrics)\n",
    "\n",
    "    print(model.summary())\n",
    "    return model"
   ]
  },
  {
   "cell_type": "code",
   "execution_count": 19,
   "metadata": {},
   "outputs": [
    {
     "name": "stdout",
     "output_type": "stream",
     "text": [
      "Pipeline(memory=None,\n",
      "         steps=[('preprocessor',\n",
      "                 Pipeline(memory=None,\n",
      "                          steps=[('keras_tokenizer_embedding_transfomer',\n",
      "                                  Keras_tokenizer_embedding_transfomer(max_seq_len=30,\n",
      "                                                                       max_words=None,\n",
      "                                                                       text_col=None,\n",
      "                                                                       vector_size=300,\n",
      "                                                                       verbose=False,\n",
      "                                                                       word2vec=<gensim.models.keyedvectors.Word2VecKeyedVectors object at 0x7f2a9ba77a00>))],\n",
      "                          verbose=False)),\n",
      "                ('debug', Debug(verbose=False)),\n",
      "                ('keras_estimator',\n",
      "                 <tensorflow.python.keras.wrappers.scikit_learn.KerasClassifier object at 0x7f29a180e2b0>)],\n",
      "         verbose=False)\n",
      "\n"
     ]
    }
   ],
   "source": [
    "# Dense neural net classification\n",
    "dense_keras_clf = KerasClassifier(build_fn=create_dense_keras, verbose=1, batch_size=128, epochs=450) # wrap the model\n",
    "\n",
    "# Specify Keras callbacks for early stopping and checkpoints\n",
    "# calls = [ModelCheckpoint(, monitor=\"val_accuracy\", verbose=1, save_best_only=True, mode=\"max\")]\n",
    "    \n",
    "dense_keras_clf_fullpipe = Pipeline(steps=[\n",
    "    (\"preprocessor\", tweet_transformer_keras),#preprocessor_keras),\n",
    "    (\"debug\", Debug()),\n",
    "    (\"keras_estimator\", dense_keras_clf)\n",
    "])\n",
    "print(dense_keras_clf_fullpipe)\n",
    "print(\"\")"
   ]
  },
  {
   "cell_type": "code",
   "execution_count": 20,
   "metadata": {},
   "outputs": [],
   "source": [
    "# Specify hyperparameter grids for optimization\n",
    "dense_keras_param_grid = {\n",
    "#     \"keras_estimator__optimizer\":[\"adam\"],#[\"rmsprop\",\"adam\",\"adagrad\"],\n",
    "    \"keras_estimator__epochs\":[10,20,45,60],\n",
    "    \"keras_estimator__n_nodes_1\":[5,10,20,50],\n",
    "    \"keras_estimator__n_nodes_2\":[5,10,20,50],\n",
    "#     \"keras_estimator__dropout\":[0.4,0.55,0.7]\n",
    "#     \"keras_estimator_input_shape\":[(dense_keras_clf_fullpipe.named_steps[\"debug\"].shape[1],)]\n",
    "}\n",
    "\n",
    "dense_keras_param_grid.update(param_grid)"
   ]
  },
  {
   "cell_type": "code",
   "execution_count": 21,
   "metadata": {},
   "outputs": [],
   "source": [
    "# Dictionary of pipelines and classifier types for ease of reference\n",
    "try:\n",
    "    pipe_dict[\"Dense_Keras\"] = (dense_keras_clf_fullpipe, dense_keras_param_grid)   \n",
    "except NameError:\n",
    "    pipe_dict = {\n",
    "    \"Dense_Keras\": (dense_keras_clf_fullpipe, dense_keras_param_grid),\n",
    "    }"
   ]
  },
  {
   "cell_type": "markdown",
   "metadata": {},
   "source": [
    "### Train the dense neural network pipeline model"
   ]
  },
  {
   "cell_type": "code",
   "execution_count": 22,
   "metadata": {},
   "outputs": [
    {
     "name": "stdin",
     "output_type": "stream",
     "text": [
      "A joblib model file already exists with that name, \n",
      "do you wish to retrain the model? (Y/N) y\n"
     ]
    },
    {
     "name": "stdout",
     "output_type": "stream",
     "text": [
      "No hyperparameter optimization\n",
      "Training Dense_Keras on 112000 samples...\n",
      "('keras_estimator', <tensorflow.python.keras.wrappers.scikit_learn.KerasClassifier object at 0x7f29a180e2b0>)\n",
      "Transforming texts...\n",
      "(112000,)\n",
      "[['looks' 'like' \"tonight's\" 'a' 'bit' 'of' 'a' 'bust' ' ' ' ' ' ' ' '\n",
      "  ' ' ' ' ' ' ' ' ' ' ' ' ' ' ' ' ' ' ' ' ' ' ' ' ' ' ' ' ' ' ' ' ' ' ' ']\n",
      " ['you' 'betcha' 'jack' 'wp' 'is' 'easy' 'peasy' 'stuff' 'for' 'me'\n",
      "  'thinking' 'some' 'videos' 'are' 'in' 'order' ' ' ' ' ' ' ' ' ' ' ' '\n",
      "  ' ' ' ' ' ' ' ' ' ' ' ' ' ' ' ']\n",
      " ['twit' 'help' 'how' 'do' 'i' 'remove' 'twitter' 'column' 'from' 'tweet'\n",
      "  'deck' 'i' 'set' 'it' 'to' 'stay' 'signed' 'in' \"it's\" 'not' 'budging'\n",
      "  'and' 'i' 'dont' 'want' 'it' 'there' 'anymore' ' ' ' ']\n",
      " ['i' 'have' 'waited' 'for' 'the' 'right' 'opportunity' 'to' 'think'\n",
      "  'about' 'renting' ' ' ' ' ' ' ' ' ' ' ' ' ' ' ' ' ' ' ' ' ' ' ' ' ' '\n",
      "  ' ' ' ' ' ' ' ' ' ' ' ']\n",
      " ['something' 'good' 'come' 'on' 'tv' ' ' ' ' ' ' ' ' ' ' ' ' ' ' ' ' ' '\n",
      "  ' ' ' ' ' ' ' ' ' ' ' ' ' ' ' ' ' ' ' ' ' ' ' ' ' ' ' ' ' ' ' ']]\n",
      "Texts transformed\n",
      "Shape of transformed text data: (112000, 30, 300)\n",
      "[[ 0.02404785  0.31445312 -0.02624512 ...  0.01525879  0.06494141\n",
      "   0.14257812]\n",
      " [ 0.10351562  0.13769531 -0.00297546 ...  0.04394531 -0.14550781\n",
      "   0.07128906]\n",
      " [ 0.          0.          0.         ...  0.          0.\n",
      "   0.        ]\n",
      " ...\n",
      " [ 0.          0.          0.         ...  0.          0.\n",
      "   0.        ]\n",
      " [ 0.          0.          0.         ...  0.          0.\n",
      "   0.        ]\n",
      " [ 0.          0.          0.         ...  0.          0.\n",
      "   0.        ]]\n",
      "(30, 300)\n",
      "(112000, 30, 300)\n",
      "--------------------------------\n",
      "create_dense_fn called with:\n",
      "\tInput Shape: (30, 300)\n",
      "\tDropout: 0.7\n",
      "\tOutput Size: 1\n",
      "\tLoss: binary_crossentropy\n",
      "\tOptimizer: adam\n",
      "\tMetrics: ['accuracy']\n",
      "\tCallbacks: [<tensorflow.python.keras.callbacks.EarlyStopping object at 0x7f29a180e910>]\n",
      "--------------------------------\n",
      "Model: \"sequential\"\n",
      "_________________________________________________________________\n",
      "Layer (type)                 Output Shape              Param #   \n",
      "=================================================================\n",
      "dense (Dense)                (None, 30, 50)            15050     \n",
      "_________________________________________________________________\n",
      "dropout (Dropout)            (None, 30, 50)            0         \n",
      "_________________________________________________________________\n",
      "dense_1 (Dense)              (None, 30, 10)            510       \n",
      "_________________________________________________________________\n",
      "dense_2 (Dense)              (None, 30, 1)             11        \n",
      "=================================================================\n",
      "Total params: 15,571\n",
      "Trainable params: 15,571\n",
      "Non-trainable params: 0\n",
      "_________________________________________________________________\n",
      "None\n",
      "Epoch 1/450\n",
      "336/875 [==========>...................] - ETA: 2s - loss: 0.6886 - accuracy: 0.5275"
     ]
    },
    {
     "ename": "KeyboardInterrupt",
     "evalue": "",
     "output_type": "error",
     "traceback": [
      "\u001b[0;31m---------------------------------------------------------------------------\u001b[0m",
      "\u001b[0;31mKeyboardInterrupt\u001b[0m                         Traceback (most recent call last)",
      "\u001b[0;32m<ipython-input-22-9eed922977be>\u001b[0m in \u001b[0;36m<module>\u001b[0;34m\u001b[0m\n\u001b[0;32m----> 1\u001b[0;31m dense_keras_clf_final = pipeline_fit(\n\u001b[0m\u001b[1;32m      2\u001b[0m                                         \u001b[0mX_train\u001b[0m\u001b[0;34m=\u001b[0m\u001b[0mX_train\u001b[0m\u001b[0;34m,\u001b[0m\u001b[0;34m\u001b[0m\u001b[0;34m\u001b[0m\u001b[0m\n\u001b[1;32m      3\u001b[0m                                         \u001b[0my_train\u001b[0m\u001b[0;34m=\u001b[0m\u001b[0my_train\u001b[0m\u001b[0;34m.\u001b[0m\u001b[0mreshape\u001b[0m\u001b[0;34m(\u001b[0m\u001b[0;34m-\u001b[0m\u001b[0;36m1\u001b[0m\u001b[0;34m,\u001b[0m\u001b[0;36m1\u001b[0m\u001b[0;34m)\u001b[0m\u001b[0;34m,\u001b[0m\u001b[0;34m\u001b[0m\u001b[0;34m\u001b[0m\u001b[0m\n\u001b[1;32m      4\u001b[0m                                         \u001b[0mpipeline\u001b[0m\u001b[0;34m=\u001b[0m\u001b[0;34m\"Dense_Keras\"\u001b[0m\u001b[0;34m,\u001b[0m\u001b[0;34m\u001b[0m\u001b[0;34m\u001b[0m\u001b[0m\n\u001b[1;32m      5\u001b[0m                                         \u001b[0msearch_method\u001b[0m\u001b[0;34m=\u001b[0m\u001b[0;32mNone\u001b[0m\u001b[0;34m,\u001b[0m\u001b[0;31m#\"gridsearch\",\u001b[0m\u001b[0;34m\u001b[0m\u001b[0;34m\u001b[0m\u001b[0m\n",
      "\u001b[0;32m<ipython-input-9-5d86c75a298f>\u001b[0m in \u001b[0;36mpipeline_fit\u001b[0;34m(X_train, y_train, pipeline, save_name, keras_nn, search_method, n_iter, cv, verbose_searchcv, n_jobs)\u001b[0m\n\u001b[1;32m     91\u001b[0m         \u001b[0mprint\u001b[0m\u001b[0;34m(\u001b[0m\u001b[0;34m\"Training {} on {} samples...\"\u001b[0m\u001b[0;34m.\u001b[0m\u001b[0mformat\u001b[0m\u001b[0;34m(\u001b[0m\u001b[0mpipeline\u001b[0m\u001b[0;34m,\u001b[0m\u001b[0mstr\u001b[0m\u001b[0;34m(\u001b[0m\u001b[0mlen\u001b[0m\u001b[0;34m(\u001b[0m\u001b[0my_train\u001b[0m\u001b[0;34m)\u001b[0m\u001b[0;34m)\u001b[0m\u001b[0;34m)\u001b[0m\u001b[0;34m)\u001b[0m\u001b[0;34m\u001b[0m\u001b[0;34m\u001b[0m\u001b[0m\n\u001b[1;32m     92\u001b[0m         \u001b[0mprint\u001b[0m\u001b[0;34m(\u001b[0m\u001b[0mpipe_dict\u001b[0m\u001b[0;34m[\u001b[0m\u001b[0mpipeline\u001b[0m\u001b[0;34m]\u001b[0m\u001b[0;34m[\u001b[0m\u001b[0;36m0\u001b[0m\u001b[0;34m]\u001b[0m\u001b[0;34m.\u001b[0m\u001b[0msteps\u001b[0m\u001b[0;34m[\u001b[0m\u001b[0;34m-\u001b[0m\u001b[0;36m1\u001b[0m\u001b[0;34m]\u001b[0m\u001b[0;34m)\u001b[0m\u001b[0;34m\u001b[0m\u001b[0;34m\u001b[0m\u001b[0m\n\u001b[0;32m---> 93\u001b[0;31m         \u001b[0mmodel_final\u001b[0m \u001b[0;34m=\u001b[0m \u001b[0mpipe_dict\u001b[0m\u001b[0;34m[\u001b[0m\u001b[0mpipeline\u001b[0m\u001b[0;34m]\u001b[0m\u001b[0;34m[\u001b[0m\u001b[0;36m0\u001b[0m\u001b[0;34m]\u001b[0m\u001b[0;34m.\u001b[0m\u001b[0mfit\u001b[0m\u001b[0;34m(\u001b[0m\u001b[0mX_train\u001b[0m\u001b[0;34m,\u001b[0m \u001b[0my_train\u001b[0m\u001b[0;34m)\u001b[0m\u001b[0;34m\u001b[0m\u001b[0;34m\u001b[0m\u001b[0m\n\u001b[0m\u001b[1;32m     94\u001b[0m \u001b[0;34m\u001b[0m\u001b[0m\n\u001b[1;32m     95\u001b[0m         \u001b[0;31m# For Keras neural networks, save the sklearn pipeline and Keras model separately\u001b[0m\u001b[0;34m\u001b[0m\u001b[0;34m\u001b[0m\u001b[0;34m\u001b[0m\u001b[0m\n",
      "\u001b[0;32m~/anaconda3/lib/python3.8/site-packages/sklearn/pipeline.py\u001b[0m in \u001b[0;36mfit\u001b[0;34m(self, X, y, **fit_params)\u001b[0m\n\u001b[1;32m    352\u001b[0m                                  self._log_message(len(self.steps) - 1)):\n\u001b[1;32m    353\u001b[0m             \u001b[0;32mif\u001b[0m \u001b[0mself\u001b[0m\u001b[0;34m.\u001b[0m\u001b[0m_final_estimator\u001b[0m \u001b[0;34m!=\u001b[0m \u001b[0;34m'passthrough'\u001b[0m\u001b[0;34m:\u001b[0m\u001b[0;34m\u001b[0m\u001b[0;34m\u001b[0m\u001b[0m\n\u001b[0;32m--> 354\u001b[0;31m                 \u001b[0mself\u001b[0m\u001b[0;34m.\u001b[0m\u001b[0m_final_estimator\u001b[0m\u001b[0;34m.\u001b[0m\u001b[0mfit\u001b[0m\u001b[0;34m(\u001b[0m\u001b[0mXt\u001b[0m\u001b[0;34m,\u001b[0m \u001b[0my\u001b[0m\u001b[0;34m,\u001b[0m \u001b[0;34m**\u001b[0m\u001b[0mfit_params\u001b[0m\u001b[0;34m)\u001b[0m\u001b[0;34m\u001b[0m\u001b[0;34m\u001b[0m\u001b[0m\n\u001b[0m\u001b[1;32m    355\u001b[0m         \u001b[0;32mreturn\u001b[0m \u001b[0mself\u001b[0m\u001b[0;34m\u001b[0m\u001b[0;34m\u001b[0m\u001b[0m\n\u001b[1;32m    356\u001b[0m \u001b[0;34m\u001b[0m\u001b[0m\n",
      "\u001b[0;32m~/anaconda3/lib/python3.8/site-packages/tensorflow/python/keras/wrappers/scikit_learn.py\u001b[0m in \u001b[0;36mfit\u001b[0;34m(self, x, y, **kwargs)\u001b[0m\n\u001b[1;32m    221\u001b[0m       \u001b[0;32mraise\u001b[0m \u001b[0mValueError\u001b[0m\u001b[0;34m(\u001b[0m\u001b[0;34m'Invalid shape for y: '\u001b[0m \u001b[0;34m+\u001b[0m \u001b[0mstr\u001b[0m\u001b[0;34m(\u001b[0m\u001b[0my\u001b[0m\u001b[0;34m.\u001b[0m\u001b[0mshape\u001b[0m\u001b[0;34m)\u001b[0m\u001b[0;34m)\u001b[0m\u001b[0;34m\u001b[0m\u001b[0;34m\u001b[0m\u001b[0m\n\u001b[1;32m    222\u001b[0m     \u001b[0mself\u001b[0m\u001b[0;34m.\u001b[0m\u001b[0mn_classes_\u001b[0m \u001b[0;34m=\u001b[0m \u001b[0mlen\u001b[0m\u001b[0;34m(\u001b[0m\u001b[0mself\u001b[0m\u001b[0;34m.\u001b[0m\u001b[0mclasses_\u001b[0m\u001b[0;34m)\u001b[0m\u001b[0;34m\u001b[0m\u001b[0;34m\u001b[0m\u001b[0m\n\u001b[0;32m--> 223\u001b[0;31m     \u001b[0;32mreturn\u001b[0m \u001b[0msuper\u001b[0m\u001b[0;34m(\u001b[0m\u001b[0mKerasClassifier\u001b[0m\u001b[0;34m,\u001b[0m \u001b[0mself\u001b[0m\u001b[0;34m)\u001b[0m\u001b[0;34m.\u001b[0m\u001b[0mfit\u001b[0m\u001b[0;34m(\u001b[0m\u001b[0mx\u001b[0m\u001b[0;34m,\u001b[0m \u001b[0my\u001b[0m\u001b[0;34m,\u001b[0m \u001b[0;34m**\u001b[0m\u001b[0mkwargs\u001b[0m\u001b[0;34m)\u001b[0m\u001b[0;34m\u001b[0m\u001b[0;34m\u001b[0m\u001b[0m\n\u001b[0m\u001b[1;32m    224\u001b[0m \u001b[0;34m\u001b[0m\u001b[0m\n\u001b[1;32m    225\u001b[0m   \u001b[0;32mdef\u001b[0m \u001b[0mpredict\u001b[0m\u001b[0;34m(\u001b[0m\u001b[0mself\u001b[0m\u001b[0;34m,\u001b[0m \u001b[0mx\u001b[0m\u001b[0;34m,\u001b[0m \u001b[0;34m**\u001b[0m\u001b[0mkwargs\u001b[0m\u001b[0;34m)\u001b[0m\u001b[0;34m:\u001b[0m\u001b[0;34m\u001b[0m\u001b[0;34m\u001b[0m\u001b[0m\n",
      "\u001b[0;32m~/anaconda3/lib/python3.8/site-packages/tensorflow/python/keras/wrappers/scikit_learn.py\u001b[0m in \u001b[0;36mfit\u001b[0;34m(self, x, y, **kwargs)\u001b[0m\n\u001b[1;32m    164\u001b[0m     \u001b[0mfit_args\u001b[0m\u001b[0;34m.\u001b[0m\u001b[0mupdate\u001b[0m\u001b[0;34m(\u001b[0m\u001b[0mkwargs\u001b[0m\u001b[0;34m)\u001b[0m\u001b[0;34m\u001b[0m\u001b[0;34m\u001b[0m\u001b[0m\n\u001b[1;32m    165\u001b[0m \u001b[0;34m\u001b[0m\u001b[0m\n\u001b[0;32m--> 166\u001b[0;31m     \u001b[0mhistory\u001b[0m \u001b[0;34m=\u001b[0m \u001b[0mself\u001b[0m\u001b[0;34m.\u001b[0m\u001b[0mmodel\u001b[0m\u001b[0;34m.\u001b[0m\u001b[0mfit\u001b[0m\u001b[0;34m(\u001b[0m\u001b[0mx\u001b[0m\u001b[0;34m,\u001b[0m \u001b[0my\u001b[0m\u001b[0;34m,\u001b[0m \u001b[0;34m**\u001b[0m\u001b[0mfit_args\u001b[0m\u001b[0;34m)\u001b[0m\u001b[0;34m\u001b[0m\u001b[0;34m\u001b[0m\u001b[0m\n\u001b[0m\u001b[1;32m    167\u001b[0m \u001b[0;34m\u001b[0m\u001b[0m\n\u001b[1;32m    168\u001b[0m     \u001b[0;32mreturn\u001b[0m \u001b[0mhistory\u001b[0m\u001b[0;34m\u001b[0m\u001b[0;34m\u001b[0m\u001b[0m\n",
      "\u001b[0;32m~/anaconda3/lib/python3.8/site-packages/tensorflow/python/keras/engine/training.py\u001b[0m in \u001b[0;36m_method_wrapper\u001b[0;34m(self, *args, **kwargs)\u001b[0m\n\u001b[1;32m    106\u001b[0m   \u001b[0;32mdef\u001b[0m \u001b[0m_method_wrapper\u001b[0m\u001b[0;34m(\u001b[0m\u001b[0mself\u001b[0m\u001b[0;34m,\u001b[0m \u001b[0;34m*\u001b[0m\u001b[0margs\u001b[0m\u001b[0;34m,\u001b[0m \u001b[0;34m**\u001b[0m\u001b[0mkwargs\u001b[0m\u001b[0;34m)\u001b[0m\u001b[0;34m:\u001b[0m\u001b[0;34m\u001b[0m\u001b[0;34m\u001b[0m\u001b[0m\n\u001b[1;32m    107\u001b[0m     \u001b[0;32mif\u001b[0m \u001b[0;32mnot\u001b[0m \u001b[0mself\u001b[0m\u001b[0;34m.\u001b[0m\u001b[0m_in_multi_worker_mode\u001b[0m\u001b[0;34m(\u001b[0m\u001b[0;34m)\u001b[0m\u001b[0;34m:\u001b[0m  \u001b[0;31m# pylint: disable=protected-access\u001b[0m\u001b[0;34m\u001b[0m\u001b[0;34m\u001b[0m\u001b[0m\n\u001b[0;32m--> 108\u001b[0;31m       \u001b[0;32mreturn\u001b[0m \u001b[0mmethod\u001b[0m\u001b[0;34m(\u001b[0m\u001b[0mself\u001b[0m\u001b[0;34m,\u001b[0m \u001b[0;34m*\u001b[0m\u001b[0margs\u001b[0m\u001b[0;34m,\u001b[0m \u001b[0;34m**\u001b[0m\u001b[0mkwargs\u001b[0m\u001b[0;34m)\u001b[0m\u001b[0;34m\u001b[0m\u001b[0;34m\u001b[0m\u001b[0m\n\u001b[0m\u001b[1;32m    109\u001b[0m \u001b[0;34m\u001b[0m\u001b[0m\n\u001b[1;32m    110\u001b[0m     \u001b[0;31m# Running inside `run_distribute_coordinator` already.\u001b[0m\u001b[0;34m\u001b[0m\u001b[0;34m\u001b[0m\u001b[0;34m\u001b[0m\u001b[0m\n",
      "\u001b[0;32m~/anaconda3/lib/python3.8/site-packages/tensorflow/python/keras/engine/training.py\u001b[0m in \u001b[0;36mfit\u001b[0;34m(self, x, y, batch_size, epochs, verbose, callbacks, validation_split, validation_data, shuffle, class_weight, sample_weight, initial_epoch, steps_per_epoch, validation_steps, validation_batch_size, validation_freq, max_queue_size, workers, use_multiprocessing)\u001b[0m\n\u001b[1;32m   1096\u001b[0m                 batch_size=batch_size):\n\u001b[1;32m   1097\u001b[0m               \u001b[0mcallbacks\u001b[0m\u001b[0;34m.\u001b[0m\u001b[0mon_train_batch_begin\u001b[0m\u001b[0;34m(\u001b[0m\u001b[0mstep\u001b[0m\u001b[0;34m)\u001b[0m\u001b[0;34m\u001b[0m\u001b[0;34m\u001b[0m\u001b[0m\n\u001b[0;32m-> 1098\u001b[0;31m               \u001b[0mtmp_logs\u001b[0m \u001b[0;34m=\u001b[0m \u001b[0mtrain_function\u001b[0m\u001b[0;34m(\u001b[0m\u001b[0miterator\u001b[0m\u001b[0;34m)\u001b[0m\u001b[0;34m\u001b[0m\u001b[0;34m\u001b[0m\u001b[0m\n\u001b[0m\u001b[1;32m   1099\u001b[0m               \u001b[0;32mif\u001b[0m \u001b[0mdata_handler\u001b[0m\u001b[0;34m.\u001b[0m\u001b[0mshould_sync\u001b[0m\u001b[0;34m:\u001b[0m\u001b[0;34m\u001b[0m\u001b[0;34m\u001b[0m\u001b[0m\n\u001b[1;32m   1100\u001b[0m                 \u001b[0mcontext\u001b[0m\u001b[0;34m.\u001b[0m\u001b[0masync_wait\u001b[0m\u001b[0;34m(\u001b[0m\u001b[0;34m)\u001b[0m\u001b[0;34m\u001b[0m\u001b[0;34m\u001b[0m\u001b[0m\n",
      "\u001b[0;32m~/anaconda3/lib/python3.8/site-packages/tensorflow/python/eager/def_function.py\u001b[0m in \u001b[0;36m__call__\u001b[0;34m(self, *args, **kwds)\u001b[0m\n\u001b[1;32m    778\u001b[0m       \u001b[0;32melse\u001b[0m\u001b[0;34m:\u001b[0m\u001b[0;34m\u001b[0m\u001b[0;34m\u001b[0m\u001b[0m\n\u001b[1;32m    779\u001b[0m         \u001b[0mcompiler\u001b[0m \u001b[0;34m=\u001b[0m \u001b[0;34m\"nonXla\"\u001b[0m\u001b[0;34m\u001b[0m\u001b[0;34m\u001b[0m\u001b[0m\n\u001b[0;32m--> 780\u001b[0;31m         \u001b[0mresult\u001b[0m \u001b[0;34m=\u001b[0m \u001b[0mself\u001b[0m\u001b[0;34m.\u001b[0m\u001b[0m_call\u001b[0m\u001b[0;34m(\u001b[0m\u001b[0;34m*\u001b[0m\u001b[0margs\u001b[0m\u001b[0;34m,\u001b[0m \u001b[0;34m**\u001b[0m\u001b[0mkwds\u001b[0m\u001b[0;34m)\u001b[0m\u001b[0;34m\u001b[0m\u001b[0;34m\u001b[0m\u001b[0m\n\u001b[0m\u001b[1;32m    781\u001b[0m \u001b[0;34m\u001b[0m\u001b[0m\n\u001b[1;32m    782\u001b[0m       \u001b[0mnew_tracing_count\u001b[0m \u001b[0;34m=\u001b[0m \u001b[0mself\u001b[0m\u001b[0;34m.\u001b[0m\u001b[0m_get_tracing_count\u001b[0m\u001b[0;34m(\u001b[0m\u001b[0;34m)\u001b[0m\u001b[0;34m\u001b[0m\u001b[0;34m\u001b[0m\u001b[0m\n",
      "\u001b[0;32m~/anaconda3/lib/python3.8/site-packages/tensorflow/python/eager/def_function.py\u001b[0m in \u001b[0;36m_call\u001b[0;34m(self, *args, **kwds)\u001b[0m\n\u001b[1;32m    805\u001b[0m       \u001b[0;31m# In this case we have created variables on the first call, so we run the\u001b[0m\u001b[0;34m\u001b[0m\u001b[0;34m\u001b[0m\u001b[0;34m\u001b[0m\u001b[0m\n\u001b[1;32m    806\u001b[0m       \u001b[0;31m# defunned version which is guaranteed to never create variables.\u001b[0m\u001b[0;34m\u001b[0m\u001b[0;34m\u001b[0m\u001b[0;34m\u001b[0m\u001b[0m\n\u001b[0;32m--> 807\u001b[0;31m       \u001b[0;32mreturn\u001b[0m \u001b[0mself\u001b[0m\u001b[0;34m.\u001b[0m\u001b[0m_stateless_fn\u001b[0m\u001b[0;34m(\u001b[0m\u001b[0;34m*\u001b[0m\u001b[0margs\u001b[0m\u001b[0;34m,\u001b[0m \u001b[0;34m**\u001b[0m\u001b[0mkwds\u001b[0m\u001b[0;34m)\u001b[0m  \u001b[0;31m# pylint: disable=not-callable\u001b[0m\u001b[0;34m\u001b[0m\u001b[0;34m\u001b[0m\u001b[0m\n\u001b[0m\u001b[1;32m    808\u001b[0m     \u001b[0;32melif\u001b[0m \u001b[0mself\u001b[0m\u001b[0;34m.\u001b[0m\u001b[0m_stateful_fn\u001b[0m \u001b[0;32mis\u001b[0m \u001b[0;32mnot\u001b[0m \u001b[0;32mNone\u001b[0m\u001b[0;34m:\u001b[0m\u001b[0;34m\u001b[0m\u001b[0;34m\u001b[0m\u001b[0m\n\u001b[1;32m    809\u001b[0m       \u001b[0;31m# Release the lock early so that multiple threads can perform the call\u001b[0m\u001b[0;34m\u001b[0m\u001b[0;34m\u001b[0m\u001b[0;34m\u001b[0m\u001b[0m\n",
      "\u001b[0;32m~/anaconda3/lib/python3.8/site-packages/tensorflow/python/eager/function.py\u001b[0m in \u001b[0;36m__call__\u001b[0;34m(self, *args, **kwargs)\u001b[0m\n\u001b[1;32m   2827\u001b[0m     \u001b[0;32mwith\u001b[0m \u001b[0mself\u001b[0m\u001b[0;34m.\u001b[0m\u001b[0m_lock\u001b[0m\u001b[0;34m:\u001b[0m\u001b[0;34m\u001b[0m\u001b[0;34m\u001b[0m\u001b[0m\n\u001b[1;32m   2828\u001b[0m       \u001b[0mgraph_function\u001b[0m\u001b[0;34m,\u001b[0m \u001b[0margs\u001b[0m\u001b[0;34m,\u001b[0m \u001b[0mkwargs\u001b[0m \u001b[0;34m=\u001b[0m \u001b[0mself\u001b[0m\u001b[0;34m.\u001b[0m\u001b[0m_maybe_define_function\u001b[0m\u001b[0;34m(\u001b[0m\u001b[0margs\u001b[0m\u001b[0;34m,\u001b[0m \u001b[0mkwargs\u001b[0m\u001b[0;34m)\u001b[0m\u001b[0;34m\u001b[0m\u001b[0;34m\u001b[0m\u001b[0m\n\u001b[0;32m-> 2829\u001b[0;31m     \u001b[0;32mreturn\u001b[0m \u001b[0mgraph_function\u001b[0m\u001b[0;34m.\u001b[0m\u001b[0m_filtered_call\u001b[0m\u001b[0;34m(\u001b[0m\u001b[0margs\u001b[0m\u001b[0;34m,\u001b[0m \u001b[0mkwargs\u001b[0m\u001b[0;34m)\u001b[0m  \u001b[0;31m# pylint: disable=protected-access\u001b[0m\u001b[0;34m\u001b[0m\u001b[0;34m\u001b[0m\u001b[0m\n\u001b[0m\u001b[1;32m   2830\u001b[0m \u001b[0;34m\u001b[0m\u001b[0m\n\u001b[1;32m   2831\u001b[0m   \u001b[0;34m@\u001b[0m\u001b[0mproperty\u001b[0m\u001b[0;34m\u001b[0m\u001b[0;34m\u001b[0m\u001b[0m\n",
      "\u001b[0;32m~/anaconda3/lib/python3.8/site-packages/tensorflow/python/eager/function.py\u001b[0m in \u001b[0;36m_filtered_call\u001b[0;34m(self, args, kwargs, cancellation_manager)\u001b[0m\n\u001b[1;32m   1841\u001b[0m       \u001b[0;31m`\u001b[0m\u001b[0margs\u001b[0m\u001b[0;31m`\u001b[0m \u001b[0;32mand\u001b[0m\u001b[0;31m \u001b[0m\u001b[0;31m`\u001b[0m\u001b[0mkwargs\u001b[0m\u001b[0;31m`\u001b[0m\u001b[0;34m.\u001b[0m\u001b[0;34m\u001b[0m\u001b[0;34m\u001b[0m\u001b[0m\n\u001b[1;32m   1842\u001b[0m     \"\"\"\n\u001b[0;32m-> 1843\u001b[0;31m     return self._call_flat(\n\u001b[0m\u001b[1;32m   1844\u001b[0m         [t for t in nest.flatten((args, kwargs), expand_composites=True)\n\u001b[1;32m   1845\u001b[0m          if isinstance(t, (ops.Tensor,\n",
      "\u001b[0;32m~/anaconda3/lib/python3.8/site-packages/tensorflow/python/eager/function.py\u001b[0m in \u001b[0;36m_call_flat\u001b[0;34m(self, args, captured_inputs, cancellation_manager)\u001b[0m\n\u001b[1;32m   1921\u001b[0m         and executing_eagerly):\n\u001b[1;32m   1922\u001b[0m       \u001b[0;31m# No tape is watching; skip to running the function.\u001b[0m\u001b[0;34m\u001b[0m\u001b[0;34m\u001b[0m\u001b[0;34m\u001b[0m\u001b[0m\n\u001b[0;32m-> 1923\u001b[0;31m       return self._build_call_outputs(self._inference_function.call(\n\u001b[0m\u001b[1;32m   1924\u001b[0m           ctx, args, cancellation_manager=cancellation_manager))\n\u001b[1;32m   1925\u001b[0m     forward_backward = self._select_forward_and_backward_functions(\n",
      "\u001b[0;32m~/anaconda3/lib/python3.8/site-packages/tensorflow/python/eager/function.py\u001b[0m in \u001b[0;36mcall\u001b[0;34m(self, ctx, args, cancellation_manager)\u001b[0m\n\u001b[1;32m    543\u001b[0m       \u001b[0;32mwith\u001b[0m \u001b[0m_InterpolateFunctionError\u001b[0m\u001b[0;34m(\u001b[0m\u001b[0mself\u001b[0m\u001b[0;34m)\u001b[0m\u001b[0;34m:\u001b[0m\u001b[0;34m\u001b[0m\u001b[0;34m\u001b[0m\u001b[0m\n\u001b[1;32m    544\u001b[0m         \u001b[0;32mif\u001b[0m \u001b[0mcancellation_manager\u001b[0m \u001b[0;32mis\u001b[0m \u001b[0;32mNone\u001b[0m\u001b[0;34m:\u001b[0m\u001b[0;34m\u001b[0m\u001b[0;34m\u001b[0m\u001b[0m\n\u001b[0;32m--> 545\u001b[0;31m           outputs = execute.execute(\n\u001b[0m\u001b[1;32m    546\u001b[0m               \u001b[0mstr\u001b[0m\u001b[0;34m(\u001b[0m\u001b[0mself\u001b[0m\u001b[0;34m.\u001b[0m\u001b[0msignature\u001b[0m\u001b[0;34m.\u001b[0m\u001b[0mname\u001b[0m\u001b[0;34m)\u001b[0m\u001b[0;34m,\u001b[0m\u001b[0;34m\u001b[0m\u001b[0;34m\u001b[0m\u001b[0m\n\u001b[1;32m    547\u001b[0m               \u001b[0mnum_outputs\u001b[0m\u001b[0;34m=\u001b[0m\u001b[0mself\u001b[0m\u001b[0;34m.\u001b[0m\u001b[0m_num_outputs\u001b[0m\u001b[0;34m,\u001b[0m\u001b[0;34m\u001b[0m\u001b[0;34m\u001b[0m\u001b[0m\n",
      "\u001b[0;32m~/anaconda3/lib/python3.8/site-packages/tensorflow/python/eager/execute.py\u001b[0m in \u001b[0;36mquick_execute\u001b[0;34m(op_name, num_outputs, inputs, attrs, ctx, name)\u001b[0m\n\u001b[1;32m     57\u001b[0m   \u001b[0;32mtry\u001b[0m\u001b[0;34m:\u001b[0m\u001b[0;34m\u001b[0m\u001b[0;34m\u001b[0m\u001b[0m\n\u001b[1;32m     58\u001b[0m     \u001b[0mctx\u001b[0m\u001b[0;34m.\u001b[0m\u001b[0mensure_initialized\u001b[0m\u001b[0;34m(\u001b[0m\u001b[0;34m)\u001b[0m\u001b[0;34m\u001b[0m\u001b[0;34m\u001b[0m\u001b[0m\n\u001b[0;32m---> 59\u001b[0;31m     tensors = pywrap_tfe.TFE_Py_Execute(ctx._handle, device_name, op_name,\n\u001b[0m\u001b[1;32m     60\u001b[0m                                         inputs, attrs, num_outputs)\n\u001b[1;32m     61\u001b[0m   \u001b[0;32mexcept\u001b[0m \u001b[0mcore\u001b[0m\u001b[0;34m.\u001b[0m\u001b[0m_NotOkStatusException\u001b[0m \u001b[0;32mas\u001b[0m \u001b[0me\u001b[0m\u001b[0;34m:\u001b[0m\u001b[0;34m\u001b[0m\u001b[0;34m\u001b[0m\u001b[0m\n",
      "\u001b[0;31mKeyboardInterrupt\u001b[0m: "
     ]
    }
   ],
   "source": [
    "dense_keras_clf_final = pipeline_fit(\n",
    "                                        X_train=X_train,\n",
    "                                        y_train=y_train.reshape(-1,1),\n",
    "                                        pipeline=\"Dense_Keras\", \n",
    "                                        search_method=None,#\"gridsearch\",\n",
    "                                        keras_nn=True,\n",
    "                                        n_jobs=1,\n",
    "                                        verbose_searchcv=1,  \n",
    "                                        save_name=\"Twitter_test\"\n",
    "                                    )"
   ]
  },
  {
   "cell_type": "markdown",
   "metadata": {},
   "source": [
    "### Evaluation"
   ]
  },
  {
   "cell_type": "code",
   "execution_count": 160,
   "metadata": {},
   "outputs": [
    {
     "name": "stdout",
     "output_type": "stream",
     "text": [
      "Transforming texts...\n",
      "(48000, 1)\n",
      "(48000, 300)\n",
      "Texts transformed\n",
      "[[ 0.01555786 -0.02466634  0.02034505 ...  0.02466838  0.04528809\n",
      "   0.00822347]\n",
      " [ 0.0218099   0.02864583 -0.04223633 ... -0.01538086  0.04268392\n",
      "   0.16015625]\n",
      " [ 0.00355632  0.03190613  0.08956706 ...  0.05293986  0.09660237\n",
      "  -0.05838216]\n",
      " ...\n",
      " [ 0.08794556 -0.10411377  0.03192139 ... -0.0305542   0.00362549\n",
      "   0.08238526]\n",
      " [-0.11132812  0.02734375 -0.11791992 ...  0.08056641  0.16333008\n",
      "  -0.02471924]\n",
      " [-0.04793294  0.06526693  0.03401693 ...  0.12399292  0.24916585\n",
      "  -0.04378255]]\n",
      "Shape of transformed text data: (48000, 100)\n",
      "(48000, 100)\n",
      "WARNING:tensorflow:From /home/ataralyxius/anaconda3/lib/python3.8/site-packages/tensorflow/python/keras/wrappers/scikit_learn.py:241: Sequential.predict_classes (from tensorflow.python.keras.engine.sequential) is deprecated and will be removed after 2021-01-01.\n",
      "Instructions for updating:\n",
      "Please use instead:* `np.argmax(model.predict(x), axis=-1)`,   if your model does multi-class classification   (e.g. if it uses a `softmax` last-layer activation).* `(model.predict(x) > 0.5).astype(\"int32\")`,   if your model does binary classification   (e.g. if it uses a `sigmoid` last-layer activation).\n"
     ]
    },
    {
     "name": "stderr",
     "output_type": "stream",
     "text": [
      "WARNING:tensorflow:From /home/ataralyxius/anaconda3/lib/python3.8/site-packages/tensorflow/python/keras/wrappers/scikit_learn.py:241: Sequential.predict_classes (from tensorflow.python.keras.engine.sequential) is deprecated and will be removed after 2021-01-01.\n",
      "Instructions for updating:\n",
      "Please use instead:* `np.argmax(model.predict(x), axis=-1)`,   if your model does multi-class classification   (e.g. if it uses a `softmax` last-layer activation).* `(model.predict(x) > 0.5).astype(\"int32\")`,   if your model does binary classification   (e.g. if it uses a `sigmoid` last-layer activation).\n"
     ]
    },
    {
     "name": "stdout",
     "output_type": "stream",
     "text": [
      "375/375 [==============================] - 0s 328us/step\n",
      "Transforming texts...\n",
      "(48000, 1)\n",
      "(48000, 300)\n",
      "Texts transformed\n",
      "[[ 0.01555786 -0.02466634  0.02034505 ...  0.02466838  0.04528809\n",
      "   0.00822347]\n",
      " [ 0.0218099   0.02864583 -0.04223633 ... -0.01538086  0.04268392\n",
      "   0.16015625]\n",
      " [ 0.00355632  0.03190613  0.08956706 ...  0.05293986  0.09660237\n",
      "  -0.05838216]\n",
      " ...\n",
      " [ 0.08794556 -0.10411377  0.03192139 ... -0.0305542   0.00362549\n",
      "   0.08238526]\n",
      " [-0.11132812  0.02734375 -0.11791992 ...  0.08056641  0.16333008\n",
      "  -0.02471924]\n",
      " [-0.04793294  0.06526693  0.03401693 ...  0.12399292  0.24916585\n",
      "  -0.04378255]]\n",
      "Shape of transformed text data: (48000, 100)\n",
      "(48000, 100)\n",
      "WARNING:tensorflow:From /home/ataralyxius/anaconda3/lib/python3.8/site-packages/tensorflow/python/keras/wrappers/scikit_learn.py:264: Sequential.predict_proba (from tensorflow.python.keras.engine.sequential) is deprecated and will be removed after 2021-01-01.\n",
      "Instructions for updating:\n",
      "Please use `model.predict()` instead.\n"
     ]
    },
    {
     "name": "stderr",
     "output_type": "stream",
     "text": [
      "WARNING:tensorflow:From /home/ataralyxius/anaconda3/lib/python3.8/site-packages/tensorflow/python/keras/wrappers/scikit_learn.py:264: Sequential.predict_proba (from tensorflow.python.keras.engine.sequential) is deprecated and will be removed after 2021-01-01.\n",
      "Instructions for updating:\n",
      "Please use `model.predict()` instead.\n"
     ]
    },
    {
     "name": "stdout",
     "output_type": "stream",
     "text": [
      "375/375 [==============================] - 0s 313us/step\n"
     ]
    }
   ],
   "source": [
    "# dense_keras_clf_final.named_steps[\"keras_estimator\"].model = load_model(save_name+\"_\"+pipeline+\".h5\")\n",
    "\n",
    "y_pred_dense_keras = dense_keras_clf_final.predict(X_test)\n",
    "y_score_dense_keras = dense_keras_clf_final.predict_proba(X_test)"
   ]
  },
  {
   "cell_type": "code",
   "execution_count": 161,
   "metadata": {},
   "outputs": [
    {
     "name": "stdout",
     "output_type": "stream",
     "text": [
      "Accuracy Score on Test Set:\n",
      "0.7228958333333333\n"
     ]
    },
    {
     "data": {
      "image/png": "[encoded data removed]",
      "text/plain": [
       "<Figure size 576x576 with 2 Axes>"
      ]
     },
     "metadata": {},
     "output_type": "display_data"
    },
    {
     "data": {
      "image/png": "[encoded data removed]",
      "text/plain": [
       "<Figure size 576x576 with 1 Axes>"
      ]
     },
     "metadata": {},
     "output_type": "display_data"
    }
   ],
   "source": [
    "print(\"Accuracy Score on Test Set:\")\n",
    "print(accuracy_score(y_test, y_pred_dense_keras))\n",
    "\n",
    "# np.set_printoptions(precision=2)\n",
    "\n",
    "# Plot confusion matrix\n",
    "plot_confusion_matrix(y_test, y_pred_dense_keras, classes=dense_keras_clf_final.classes_)\n",
    "\n",
    "# Plot ROC curve (requires onehot targets)\n",
    "plot_roc_curve(y_test, y_score_dense_keras[:,1], classes=dense_keras_clf_final.classes_, roc_multilabel_count=2)"
   ]
  },
  {
   "cell_type": "markdown",
   "metadata": {},
   "source": [
    "## Keras LSTM Neural Network"
   ]
  },
  {
   "cell_type": "code",
   "execution_count": null,
   "metadata": {},
   "outputs": [],
   "source": [
    "# weight_val = np.ones(len(labels_val))\n",
    "# if re_weight:\n",
    "#     weight_val *= 0.472001959\n",
    "#     weight_val[labels_val==0] = 1.309028344\n",
    "\n",
    "# ########################################\n",
    "# ## define the model structure\n",
    "# ########################################\n",
    "\n",
    "# MAX_SEQUENCE_LENGTH = 30\n",
    "# MAX_NB_WORDS = 200000\n",
    "# EMBEDDING_DIM = 300\n",
    "# VALIDATION_SPLIT = 0.1\n",
    "\n",
    "# num_lstm = np.random.randint(175, 275)\n",
    "# num_dense = np.random.randint(100, 150)\n",
    "# rate_drop_lstm = 0.15 + np.random.rand() * 0.25\n",
    "# rate_drop_dense = 0.15 + np.random.rand() * 0.25\n",
    "\n",
    "# re_weight = True # whether to re-weight classes to fit the 17.5% share in test set\n",
    "\n",
    "# STAMP = 'lstm_%d_%d_%.2f_%.2f'%(num_lstm, num_dense, rate_drop_lstm, \\\n",
    "#         rate_drop_dense)\n",
    "\n",
    "\n",
    "# embedding_layer = Embedding(nb_words,\n",
    "#         EMBEDDING_DIM,\n",
    "#         weights=[embedding_matrix],\n",
    "#         input_length=MAX_SEQUENCE_LENGTH,\n",
    "#         trainable=False)\n",
    "# lstm_layer = LSTM(num_lstm, dropout=rate_drop_lstm, recurrent_dropout=rate_drop_lstm)\n",
    "\n",
    "# sequence_1_input = Input(shape=(MAX_SEQUENCE_LENGTH,), dtype='int32')\n",
    "# embedded_sequences_1 = embedding_layer(sequence_1_input)\n",
    "# x1 = lstm_layer(embedded_sequences_1)\n",
    "\n",
    "# sequence_2_input = Input(shape=(MAX_SEQUENCE_LENGTH,), dtype='int32')\n",
    "# embedded_sequences_2 = embedding_layer(sequence_2_input)\n",
    "# y1 = lstm_layer(embedded_sequences_2)\n",
    "\n",
    "# merged = concatenate([x1, y1])\n",
    "# merged = Dropout(rate_drop_dense)(merged)\n",
    "# merged = BatchNormalization()(merged)\n",
    "\n",
    "# merged = Dense(num_dense, activation=act)(merged)\n",
    "# merged = Dropout(rate_drop_dense)(merged)\n",
    "# merged = BatchNormalization()(merged)\n",
    "\n",
    "# preds = Dense(1, activation='sigmoid')(merged)\n",
    "\n",
    "# ########################################\n",
    "# ## add class weight\n",
    "# ########################################\n",
    "# if re_weight:\n",
    "#     class_weight = {0: 1.309028344, 1: 0.472001959}\n",
    "# else:\n",
    "#     class_weight = None\n",
    "\n",
    "# ########################################\n",
    "# ## train the model\n",
    "# ########################################\n",
    "# model = Model(inputs=[sequence_1_input, sequence_2_input], \\\n",
    "#         outputs=preds)\n",
    "# model.compile(loss='binary_crossentropy',\n",
    "#         optimizer='nadam',\n",
    "#         metrics=['acc'])\n",
    "# #model.summary()\n",
    "# print(STAMP)\n",
    "\n",
    "# early_stopping =EarlyStopping(monitor='val_loss', patience=3)\n",
    "# bst_model_path = STAMP + '.h5'\n",
    "# model_checkpoint = ModelCheckpoint(bst_model_path, save_best_only=True, save_weights_only=True)\n",
    "\n",
    "# hist = model.fit([data_1_train, data_2_train], labels_train, \\\n",
    "#         validation_data=([data_1_val, data_2_val], labels_val, weight_val), \\\n",
    "#         epochs=200, batch_size=2048, shuffle=True, \\\n",
    "#         class_weight=class_weight, callbacks=[early_stopping, model_checkpoint])\n",
    "\n",
    "# model.load_weights(bst_model_path)\n",
    "# bst_val_score = min(hist.history['val_loss'])"
   ]
  },
  {
   "cell_type": "code",
   "execution_count": 34,
   "metadata": {},
   "outputs": [],
   "source": [
    "## Set callbacks for Keras model\n",
    "es = EarlyStopping(monitor=\"val_loss\", mode=\"min\", verbose=1, patience=5)\n",
    "\n",
    "## Keras sklearn pipeline wrapper, dense layers require row major arrays\n",
    "def create_lstm_keras(input_shape=(max_seq_len,vector_size,),output_size=1,dropout=0.7,loss=\"binary_crossentropy\",optimizer=\"adam\",metrics=[\"accuracy\"],callbacks=[es]):\n",
    "\n",
    "    model = Sequential()\n",
    "    \n",
    "    model.add(layers.LSTM(50, input_shape=input_shape, activation=\"relu\"))\n",
    "#     model.add(layers.Dropout(rate=dropout))\n",
    "#     model.add(layers.(10, activation=\"relu\"))\n",
    "#     model.add(layers.Dropout(rate=dropout))\n",
    "    model.add(layers.Dense(output_size, activation=\"sigmoid\"))\n",
    "    \n",
    "    model.compile(loss=loss,\n",
    "                  optimizer=optimizer,\n",
    "                  metrics=metrics)\n",
    "\n",
    "    return model"
   ]
  },
  {
   "cell_type": "code",
   "execution_count": 39,
   "metadata": {},
   "outputs": [
    {
     "name": "stdout",
     "output_type": "stream",
     "text": [
      "Pipeline(memory=None,\n",
      "         steps=[('preprocessor',\n",
      "                 Pipeline(memory=None,\n",
      "                          steps=[('keras_tokenizer_embedding_transfomer',\n",
      "                                  Keras_tokenizer_embedding_transfomer(max_seq_len=30,\n",
      "                                                                       max_words=None,\n",
      "                                                                       text_col=None,\n",
      "                                                                       vector_size=300,\n",
      "                                                                       verbose=False,\n",
      "                                                                       word2vec=<gensim.models.keyedvectors.Word2VecKeyedVectors object at 0x7f6537a0e7f0>))],\n",
      "                          verbose=False)),\n",
      "                ('keras_estimator',\n",
      "                 <tensorflow.python.keras.wrappers.scikit_learn.KerasClassifier object at 0x7f602c9d6250>)],\n",
      "         verbose=False)\n",
      "\n"
     ]
    }
   ],
   "source": [
    "# Dense neural net classification\n",
    "lstm_keras_clf = KerasClassifier(build_fn=create_lstm_keras, verbose=1, batch_size=128, epochs=20) # wrap the model\n",
    "\n",
    "# Specify Keras callbacks for early stopping and checkpoints\n",
    "# calls = [ModelCheckpoint(, monitor=\"val_accuracy\", verbose=1, save_best_only=True, mode=\"max\")]\n",
    "    \n",
    "lstm_keras_clf_fullpipe = Pipeline(steps=[\n",
    "    (\"preprocessor\", tweet_transformer_keras),#preprocessor_keras),\n",
    "#     (\"debug\", Debug()),\n",
    "    (\"keras_estimator\", lstm_keras_clf)\n",
    "])\n",
    "print(lstm_keras_clf_fullpipe)\n",
    "print(\"\")"
   ]
  },
  {
   "cell_type": "code",
   "execution_count": 40,
   "metadata": {},
   "outputs": [],
   "source": [
    "# Specify hyperparameter grids for optimization\n",
    "lstm_keras_param_grid = {\n",
    "    \"keras_estimator__optimizer\":[\"adam\"],#[\"rmsprop\",\"adam\",\"adagrad\"],\n",
    "    \"keras_estimator__epochs\":[10,20,45,60],\n",
    "    \"keras_estimator__dropout\":[0.4,0.55,0.7]\n",
    "}\n",
    "\n",
    "lstm_keras_param_grid.update(param_grid)"
   ]
  },
  {
   "cell_type": "code",
   "execution_count": 41,
   "metadata": {},
   "outputs": [],
   "source": [
    "# Dictionary of pipelines and classifier types for ease of reference\n",
    "try:\n",
    "    pipe_dict[\"LSTM_Keras\"] = (lstm_keras_clf_fullpipe, lstm_keras_param_grid)   \n",
    "except NameError:\n",
    "    pipe_dict = {\n",
    "    \"LSTM_Keras\": (lstm_keras_clf_fullpipe, lstm_keras_param_grid),\n",
    "    }"
   ]
  },
  {
   "cell_type": "markdown",
   "metadata": {},
   "source": [
    "### Train the LSTM neural network pipeline model"
   ]
  },
  {
   "cell_type": "code",
   "execution_count": 42,
   "metadata": {},
   "outputs": [
    {
     "name": "stdout",
     "output_type": "stream",
     "text": [
      "No hyperparameter optimization\n",
      "Training LSTM_Keras on 112000 samples...\n",
      "('keras_estimator', <tensorflow.python.keras.wrappers.scikit_learn.KerasClassifier object at 0x7f602c9d6250>)\n",
      "Transforming texts...\n",
      "(112000,)\n",
      "Texts transformed\n",
      "Shape of transformed text data: (112000, 30, 300)\n",
      "[[ 0.02404785  0.31445312 -0.02624512 ...  0.01525879  0.06494141\n",
      "   0.14257812]\n",
      " [ 0.10351562  0.13769531 -0.00297546 ...  0.04394531 -0.14550781\n",
      "   0.07128906]\n",
      " [ 0.          0.          0.         ...  0.          0.\n",
      "   0.        ]\n",
      " ...\n",
      " [ 0.          0.          0.         ...  0.          0.\n",
      "   0.        ]\n",
      " [ 0.          0.          0.         ...  0.          0.\n",
      "   0.        ]\n",
      " [ 0.          0.          0.         ...  0.          0.\n",
      "   0.        ]]\n",
      "Epoch 1/20\n",
      "875/875 [==============================] - 15s 17ms/step - loss: 0.5395 - accuracy: 0.7204\n",
      "Epoch 2/20\n",
      "875/875 [==============================] - 14s 16ms/step - loss: 0.4525 - accuracy: 0.7897\n",
      "Epoch 3/20\n",
      "875/875 [==============================] - 14s 16ms/step - loss: 0.4318 - accuracy: 0.8012\n",
      "Epoch 4/20\n",
      "875/875 [==============================] - 14s 16ms/step - loss: 0.4191 - accuracy: 0.8082\n",
      "Epoch 5/20\n",
      "875/875 [==============================] - 14s 16ms/step - loss: 0.4081 - accuracy: 0.8148\n",
      "Epoch 6/20\n",
      "875/875 [==============================] - 14s 16ms/step - loss: 0.3992 - accuracy: 0.8192\n",
      "Epoch 7/20\n",
      "875/875 [==============================] - 14s 16ms/step - loss: 0.3910 - accuracy: 0.8230\n",
      "Epoch 8/20\n",
      "875/875 [==============================] - 14s 16ms/step - loss: 0.3831 - accuracy: 0.8283\n",
      "Epoch 9/20\n",
      "875/875 [==============================] - 14s 16ms/step - loss: 0.3753 - accuracy: 0.8318\n",
      "Epoch 10/20\n",
      "875/875 [==============================] - 14s 16ms/step - loss: 0.3666 - accuracy: 0.8366\n",
      "Epoch 11/20\n",
      "875/875 [==============================] - 14s 16ms/step - loss: 0.3612 - accuracy: 0.8397\n",
      "Epoch 12/20\n",
      "875/875 [==============================] - 14s 16ms/step - loss: 0.3535 - accuracy: 0.8430\n",
      "Epoch 13/20\n",
      "875/875 [==============================] - 14s 16ms/step - loss: 0.3445 - accuracy: 0.8483\n",
      "Epoch 14/20\n",
      "875/875 [==============================] - 14s 16ms/step - loss: 0.3377 - accuracy: 0.8500\n",
      "Epoch 15/20\n",
      "875/875 [==============================] - 14s 16ms/step - loss: 0.3323 - accuracy: 0.8542\n",
      "Epoch 16/20\n",
      "875/875 [==============================] - 15s 18ms/step - loss: 0.3501 - accuracy: 0.8450\n",
      "Epoch 17/20\n",
      "875/875 [==============================] - 14s 16ms/step - loss: 0.3237 - accuracy: 0.8584\n",
      "Epoch 18/20\n",
      "875/875 [==============================] - 14s 16ms/step - loss: 0.3163 - accuracy: 0.8621\n",
      "Epoch 19/20\n",
      "875/875 [==============================] - 15s 17ms/step - loss: 0.3114 - accuracy: 0.8645\n",
      "Epoch 20/20\n",
      "875/875 [==============================] - 15s 17ms/step - loss: 0.3056 - accuracy: 0.8662\n"
     ]
    }
   ],
   "source": [
    "lstm_keras_clf_final = pipeline_fit(\n",
    "                                        X_train=X_train,\n",
    "                                        y_train=y_train,\n",
    "                                        pipeline=\"LSTM_Keras\", \n",
    "                                        search_method=None,#\"gridsearch\",\n",
    "                                        keras_nn=True,\n",
    "                                        n_jobs=6,\n",
    "                                        verbose_searchcv=1,  \n",
    "                                        save_name=\"Twitter_LSTM\"\n",
    "                                    )"
   ]
  },
  {
   "cell_type": "markdown",
   "metadata": {},
   "source": [
    "### Evaluation"
   ]
  },
  {
   "cell_type": "code",
   "execution_count": 43,
   "metadata": {},
   "outputs": [
    {
     "name": "stdout",
     "output_type": "stream",
     "text": [
      "Transforming texts...\n",
      "(48000,)\n",
      "Texts transformed\n",
      "Shape of transformed text data: (48000, 30, 300)\n",
      "[[-0.47851562 -0.23242188 -0.14746094 ... -0.07763672 -0.23242188\n",
      "   0.1875    ]\n",
      " [ 0.00704956 -0.07324219  0.171875   ...  0.01123047  0.1640625\n",
      "   0.10693359]\n",
      " [ 0.06298828  0.18457031 -0.04760742 ...  0.13671875  0.16894531\n",
      "  -0.10009766]\n",
      " ...\n",
      " [ 0.          0.          0.         ...  0.          0.\n",
      "   0.        ]\n",
      " [ 0.          0.          0.         ...  0.          0.\n",
      "   0.        ]\n",
      " [ 0.          0.          0.         ...  0.          0.\n",
      "   0.        ]]\n",
      "WARNING:tensorflow:From /home/ataralyxius/anaconda3/lib/python3.8/site-packages/tensorflow/python/keras/wrappers/scikit_learn.py:241: Sequential.predict_classes (from tensorflow.python.keras.engine.sequential) is deprecated and will be removed after 2021-01-01.\n",
      "Instructions for updating:\n",
      "Please use instead:* `np.argmax(model.predict(x), axis=-1)`,   if your model does multi-class classification   (e.g. if it uses a `softmax` last-layer activation).* `(model.predict(x) > 0.5).astype(\"int32\")`,   if your model does binary classification   (e.g. if it uses a `sigmoid` last-layer activation).\n"
     ]
    },
    {
     "name": "stderr",
     "output_type": "stream",
     "text": [
      "WARNING:tensorflow:From /home/ataralyxius/anaconda3/lib/python3.8/site-packages/tensorflow/python/keras/wrappers/scikit_learn.py:241: Sequential.predict_classes (from tensorflow.python.keras.engine.sequential) is deprecated and will be removed after 2021-01-01.\n",
      "Instructions for updating:\n",
      "Please use instead:* `np.argmax(model.predict(x), axis=-1)`,   if your model does multi-class classification   (e.g. if it uses a `softmax` last-layer activation).* `(model.predict(x) > 0.5).astype(\"int32\")`,   if your model does binary classification   (e.g. if it uses a `sigmoid` last-layer activation).\n"
     ]
    },
    {
     "name": "stdout",
     "output_type": "stream",
     "text": [
      "375/375 [==============================] - 3s 7ms/step\n",
      "Transforming texts...\n",
      "(48000,)\n",
      "Texts transformed\n",
      "Shape of transformed text data: (48000, 30, 300)\n",
      "[[-0.47851562 -0.23242188 -0.14746094 ... -0.07763672 -0.23242188\n",
      "   0.1875    ]\n",
      " [ 0.00704956 -0.07324219  0.171875   ...  0.01123047  0.1640625\n",
      "   0.10693359]\n",
      " [ 0.06298828  0.18457031 -0.04760742 ...  0.13671875  0.16894531\n",
      "  -0.10009766]\n",
      " ...\n",
      " [ 0.          0.          0.         ...  0.          0.\n",
      "   0.        ]\n",
      " [ 0.          0.          0.         ...  0.          0.\n",
      "   0.        ]\n",
      " [ 0.          0.          0.         ...  0.          0.\n",
      "   0.        ]]\n",
      "WARNING:tensorflow:From /home/ataralyxius/anaconda3/lib/python3.8/site-packages/tensorflow/python/keras/wrappers/scikit_learn.py:264: Sequential.predict_proba (from tensorflow.python.keras.engine.sequential) is deprecated and will be removed after 2021-01-01.\n",
      "Instructions for updating:\n",
      "Please use `model.predict()` instead.\n"
     ]
    },
    {
     "name": "stderr",
     "output_type": "stream",
     "text": [
      "WARNING:tensorflow:From /home/ataralyxius/anaconda3/lib/python3.8/site-packages/tensorflow/python/keras/wrappers/scikit_learn.py:264: Sequential.predict_proba (from tensorflow.python.keras.engine.sequential) is deprecated and will be removed after 2021-01-01.\n",
      "Instructions for updating:\n",
      "Please use `model.predict()` instead.\n"
     ]
    },
    {
     "name": "stdout",
     "output_type": "stream",
     "text": [
      "375/375 [==============================] - 3s 7ms/step\n"
     ]
    }
   ],
   "source": [
    "# dense_keras_clf_final.named_steps[\"keras_estimator\"].model = load_model(save_name+\"_\"+pipeline+\".h5\")\n",
    "\n",
    "y_pred_lstm_keras = lstm_keras_clf_final.predict(X_test)\n",
    "y_score_lstm_keras = lstm_keras_clf_final.predict_proba(X_test)"
   ]
  },
  {
   "cell_type": "code",
   "execution_count": 45,
   "metadata": {},
   "outputs": [
    {
     "name": "stdout",
     "output_type": "stream",
     "text": [
      "Accuracy Score on Test Set:\n",
      "0.791\n"
     ]
    },
    {
     "data": {
      "image/png": "[encoded data removed]",
      "text/plain": [
       "<Figure size 576x576 with 2 Axes>"
      ]
     },
     "metadata": {},
     "output_type": "display_data"
    },
    {
     "data": {
      "image/png": "[encoded data removed]",
      "text/plain": [
       "<Figure size 576x576 with 1 Axes>"
      ]
     },
     "metadata": {},
     "output_type": "display_data"
    }
   ],
   "source": [
    "print(\"Accuracy Score on Test Set:\")\n",
    "print(accuracy_score(y_test, y_pred_lstm_keras))\n",
    "\n",
    "# np.set_printoptions(precision=2)\n",
    "\n",
    "# Plot confusion matrix\n",
    "plot_confusion_matrix(y_test, y_pred_lstm_keras, classes=lstm_keras_clf_final.classes_)\n",
    "\n",
    "# Plot ROC curve (requires onehot targets)Q\n",
    "plot_roc_curve(y_test, y_score_lstm_keras[:,1], classes=lstm_keras_clf_final.classes_, roc_multilabel_count=2)"
   ]
  },
  {
   "cell_type": "markdown",
   "metadata": {},
   "source": [
    "## SimpleTransformer ROBERTA Neural Network"
   ]
  },
  {
   "cell_type": "markdown",
   "metadata": {},
   "source": [
    "### Preprocessing and Custom Sklearn Estimator"
   ]
  },
  {
   "cell_type": "code",
   "execution_count": 19,
   "metadata": {},
   "outputs": [],
   "source": [
    "class RobertaClassifier(BaseEstimator, ClassifierMixin):\n",
    "\n",
    "    def __init__(self, overwrite_output_dir=False, epochs=2, train_batch_size=6):#, best_model_dir=None, cache_dir=None, \n",
    "#                  num_workers=None, early_stopping_delta=None, early_stopping_patience=None,\n",
    "#                  learning_rate=None, manual_seed=None, max_seq_length=None, output_dir=None,\n",
    "#                  train_batch_size=None, use_early_stopping=None, weight_decay=None):\n",
    "        \n",
    "#         self.verbose = verbose\n",
    "        self.overwrite_output_dir = overwrite_output_dir\n",
    "#         self.adam_epsilon = adam_epsilon\n",
    "        self.num_train_epochs = epochs\n",
    "#         self.best_model_dir = best_model_dir\n",
    "#         self.cache_dir = cache_dir\n",
    "#         self.dataloader_num_workers = dataloader_num_workers\n",
    "#         self.early_stopping_delta = early_stopping_delta\n",
    "#         self.early_stopping_patience = early_stopping_patience\n",
    "#         self.learning_rate = learning_rate\n",
    "#         self.manual_seed = manual_seed\n",
    "#         self.max_seq_length = max_seq_length\n",
    "#         self.output_dir = output_dir\n",
    "        self.train_batch_size = train_batch_size\n",
    "#         self.use_early_stopping = use_early_stopping\n",
    "#         self.weight_decay = weight_decay\n",
    "    \n",
    "#     def get_params(self, deep=True):\n",
    "\n",
    "#         return {\"adam_epsilon\": self.adam_epsilon, \n",
    "#                 \"epochs\": self.num_train_epochs, \n",
    "#                 \"best_model_dir\": self.best_model_dir,\n",
    "#                 \"cache_dir\": self.cache_dir,\n",
    "#                 \"num_workers\": self.dataloader_num_workers,\n",
    "#                 \"early_stopping_delta\": self.early_stopping_delta,\n",
    "#                 \"early_stopping_patience\": self.early_stopping_patience,\n",
    "#                 \"learning_rate\": self.learning_rate,\n",
    "#                 \"manual_seed\": self.manual_seed,\n",
    "#                 \"max_seq_length\": self.max_seq_length,\n",
    "#                 \"output_dir\": self.output_dir,\n",
    "#                 \"train_batch_size\": self.train_batch_size,\n",
    "#                 \"use_early_stopping\": self.use_early_stopping,\n",
    "#                 \"weight_decay\": self.weight_decay\n",
    "#                }\n",
    "    \n",
    "#         \"\"\"\n",
    "#             adam_epsilon\tfloat\t1e-8\tEpsilon hyperparameter used in AdamOptimizer.\n",
    "#             best_model_dir\tstr\toutputs/best_model\tThe directory where the best model (model checkpoints) will be saved (based on eval_during_training)\n",
    "#             cache_dir\tstr\tcache_dir\tThe directory where cached files will be saved.\n",
    "#             config\tdict\t{}\tA dictionary containing configuration options that should be overriden in a model’s config.\n",
    "#             dataloader_num_workers\tint\tcpu_count () - 2 if cpu_count () > 2 else 1\tNumber of worker processed to use with the Pytorch dataloader.\n",
    "#             do_lower_case\tbool\tFalse\tSet to True when using uncased models.\n",
    "#             dynamic_quantize\tbool\tFalse\tSet to True to use dynamic quantization.\n",
    "#             early_stopping_consider_epochs\tbool\tFalse\tIf True, end of epoch evaluation score will be considered for early stopping.\n",
    "#             early_stopping_delta\tfloat\t0\tThe improvement over best_eval_loss necessary to count as a better checkpoint.\n",
    "#             early_stopping_metric\tstr\teval_loss\tThe metric that should be used with early stopping. (Should be computed during eval_during_training).\n",
    "#             early_stopping_metric_minimize\tbool\tTrue\tWhether early_stopping_metric should be minimized (or maximized).\n",
    "#             early_stopping_patience\tint\t3\tTerminate training after this many evaluations without an improvement in the evaluation metric greater then early_stopping_delta.\n",
    "#             encoding\tstr\tNone\tSpecify an encoding to be used when reading text files.\n",
    "#             eval_batch_size\tint\t8\tThe evaluation batch size.\n",
    "#             evaluate_during_training\tbool\tFalse\tSet to True to perform evaluation while training models. Make sure eval data is passed to the training method if enabled.\n",
    "#             evaluate_during_training_steps\tint\t2000\tPerform evaluation at every specified number of steps. A checkpoint model and the evaluation results will be saved.\n",
    "#             evaluate_during_training_verbose\tbool\tFalse\tPrint results from evaluation during training.\n",
    "#             fp16\tbool\tTrue\tWhether or not fp16 mode should be used. Requires NVidia Apex library.\n",
    "#             gradient_accumulation_steps\tint\t1\tThe number of training steps to execute before performing a optimizer.step(). Effectively increases the training batch size while sacrificing training time to lower memory consumption.\n",
    "#             learning_rate\tfloat\t4e-5\tThe learning rate for training.\n",
    "#             logging_steps\tint\t50\tLog training loss and learning at every specified number of steps.\n",
    "#             manual_seed\tint\tNone\tSet a manual seed if necessary for reproducible results.\n",
    "#             max_grad_norm\tfloat\t1.0\tMaximum gradient clipping.\n",
    "#             max_seq_length\tint\t128\tMaximum sequence length the model will support.\n",
    "#             multiprocessing_chunksize\tint\t500\tNumber of examples sent to a CPU core at a time when using multiprocessing. Usually, the optimal value will be (roughly) number of examples / process count.\n",
    "#             n_gpu\tint\t1\tNumber of GPUs to use.\n",
    "#             no_cache\tbool\tFalse\tCache features to disk.\n",
    "#             no_save\tbool\tFalse\tIf True, models will not be saved to disk.\n",
    "#             num_train_epochs\tint\t1\tThe number of epochs the model will be trained for.\n",
    "#             output_dir\tstr\t“outputs/”\tThe directory where all outputs will be stored. This includes model checkpoints and evaluation results.\n",
    "#             overwrite_output_dir\tbool\tFalse\tIf True, the trained model will be saved to the ouput_dir and will overwrite existing saved models in the same directory.\n",
    "#             process_count\tint\tcpu_count () - 2 if cpu_count () > 2 else 1\tNumber of cpu cores (processes) to use when converting examples to features. Default is (number of cores - 2) or 1 if (number of cores <= 2)\n",
    "#             quantized_model\tbool\tFalse\tSet to True if loading a quantized model. Note that this will automatically be set to True if dynamic_quantize is enabled.\n",
    "#             reprocess_input_data\tbool\tTrue\tIf True, the input data will be reprocessed even if a cached file of the input data exists in the cache_dir.\n",
    "#             save_eval_checkpoints\tbool\tTrue\tSave a model checkpoint for every evaluation performed.\n",
    "#             save_model_every_epoch\tbool\tTrue\tSave a model checkpoint at the end of every epoch.\n",
    "#             save_steps\tint\t2000\tSave a model checkpoint at every specified number of steps.\n",
    "#             save_optimizer_and_scheduler\tbool\tTrue\tSave optimizer and scheduler whenever they are available.\n",
    "#             silent\tbool\tFalse\tDisables progress bars.\n",
    "#             tensorboard_dir\tstr\tNone\tThe directory where Tensorboard events will be stored during training. By default, Tensorboard events will be saved in a subfolder inside runs/ like runs/Dec02_09-32-58_36d9e58955b0/.\n",
    "#             train_batch_size\tint\t8\tThe training batch size.\n",
    "#             use_cached_eval_features\tbool\tFalse\tEvaluation during training uses cached features. Setting this to False will cause features to be recomputed at every evaluation step.\n",
    "#             use_early_stopping\tbool\tFalse\tUse early stopping to stop training when early_stopping_metric doesn’t improve (based on early_stopping_patience, and early_stopping_delta)\n",
    "#             use_multiprocessing\tbool\tTrue\tIf True, multiprocessing will be used when converting data into features. Disabling can reduce memory usage, but may substantially slow down processing.\n",
    "#             wandb_kwargs\tdict\t{}\tDictionary of keyword arguments to be passed to the W&B project.\n",
    "#             wandb_project\tstr\tNone\tName of W&B project. This will log all hyperparameter values, training losses, and evaluation metrics to the given project.\n",
    "#             warmup_ratio\tfloat\t0.06\tRatio of total training steps where learning rate will “warm up”. Overridden if warmup_steps is specified.\n",
    "#             warmup_steps\tint\t0\tNumber of training steps where learning rate will “warm up”. Overrides warmup_ratio.\n",
    "#             weight_decay\tint\t0\tAdds L2 penalty.\n",
    "\n",
    "#         \"\"\"\n",
    "\n",
    "#     def set_params(self, **parameters):\n",
    "#         for parameter, value in parameters.items():\n",
    "#             setattr(self, parameter, value)\n",
    "#         return self\n",
    "        \n",
    "        \n",
    "    def fit(self, X, y): \n",
    "        \n",
    "        # Check that X and y have correct shape\n",
    "#         X, y = check_X_y(X, y)\n",
    "        # Store the classes seen during fit\n",
    "#         self.classes_ = unique_labels(y)\n",
    "        \n",
    "        df = X.rename(columns={\"Tweet\":\"text\"})\n",
    "        df[\"label\"] = y\n",
    "#         display(df)\n",
    "        \n",
    "        self.df_ = df\n",
    "        \n",
    "        # Optional model configuration\n",
    "        model_args = ClassificationArgs()\n",
    "        model_args.overwrite_output_dir = self.overwrite_output_dir\n",
    "#         model_args.adam_epsilon = self.adam_epsilon\n",
    "        model_args.num_train_epochs = self.num_train_epochs\n",
    "#         model_args.best_model_dir = self.best_model_dir\n",
    "#         model_args.cache_dir = self.cache_dir\n",
    "#         model_args.dataloader_num_workers = self.dataloader_num_workers\n",
    "#         model_args.early_stopping_delta = self.early_stopping_delta\n",
    "#         model_args.early_stopping_patience = self.early_stopping_patience\n",
    "#         model_args.learning_rate = self.learning_rate\n",
    "#         model_args.manual_seed = self.manual_seed\n",
    "#         model_args.max_seq_length = self.max_seq_length\n",
    "#         model_args.output_dir = self.output_dir\n",
    "        model_args.train_batch_size = self.train_batch_size\n",
    "#         model_args.use_early_stopping = self.use_early_stopping\n",
    "#         model_args.weight_decay = self.weight_decay\n",
    "        \n",
    "        print(model_args)\n",
    "        # Create a ClassificationModel\n",
    "        self.model = ClassificationModel(\n",
    "            \"distilbert\", \"distilbert-base-uncased\", args=model_args, use_cuda=True\n",
    "            #\"roberta\", \"roberta-base\", args=model_args, use_cuda=True\n",
    "        )\n",
    "\n",
    "        # Train the model\n",
    "        self.model.train_model(self.df_)\n",
    "\n",
    "        # Return the classifier\n",
    "        return self\n",
    "    \n",
    "    \n",
    "\n",
    "    def predict(self, X):\n",
    "        # Check is fit had been called\n",
    "        check_is_fitted(self)\n",
    "\n",
    "        # Input validation\n",
    "#         X = check_array(X)\n",
    "        \n",
    "        # Predictions\n",
    "        y_pred, _ = self.model.predict(X)\n",
    "        print(y_pred)\n",
    "        \n",
    "        return y_pred"
   ]
  },
  {
   "cell_type": "code",
   "execution_count": 19,
   "metadata": {},
   "outputs": [
    {
     "name": "stdout",
     "output_type": "stream",
     "text": [
      "                                                                                                                                                                                                                                                                                                                                                                                                                                                                                                                                                                                                                                                                                                                                                                                                                                                                                                                                                                                                                                                                                                                                                                                      text  \\\n",
      "0  Unfortunately, the frustration of being Dr. Goldberg's patient is a repeat of the experience I've had with so many other doctors in NYC -- good doctor, terrible staff.  It seems that his staff simply never answers the phone.  It usually takes 2 hours of repeated calling to get an answer.  Who has time for that or wants to deal with it?  I have run into this problem with many other doctors and I just don't get it.  You have office workers, you have patients with medical needs, why isn't anyone answering the phone?  It's incomprehensible and not work the aggravation.  It's with regret that I feel that I have to give Dr. Goldberg 2 stars.                                                                                                                                                                                                                                                                                                                                                                                                                                                                                                                       \n",
      "1  Been going to Dr. Goldberg for over 10 years. I think I was one of his 1st patients when he started at MHMG. He's been great over the years and is really all about the big picture. It is because of him, not my now former gyn Dr. Markoff, that I found out I have fibroids. He explores all options with you and is very patient and understanding. He doesn't judge and asks all the right questions. Very thorough and wants to be kept in the loop on every aspect of your medical health and your life.                                                                                                                                                                                                                                                                                                                                                                                                                                                                                                                                                                                                                                                                           \n",
      "2  I don't know what Dr. Goldberg was like before  moving to Arizona, but let me tell you, STAY AWAY from this doctor and this office. I was going to Dr. Johnson before he left and Goldberg took over when Johnson left. He is not a caring doctor. He is only interested in the co-pay and having you come in for medication refills every month. He will not give refills and could less about patients's financial situations. Trying to get your 90 days mail away pharmacy prescriptions through this guy is a joke. And to make matters even worse, his office staff is incompetent. 90% of the time when you call the office, they'll put you through to a voice mail, that NO ONE ever answers or returns your call. Both my adult children and husband have decided to leave this practice after experiencing such frustration. The entire office has an attitude like they are doing you a favor. Give me a break! Stay away from this doc and the practice. You deserve better and they will not be there when you really need them. I have never felt compelled to write a bad review about anyone until I met this pathetic excuse for a doctor who is all about the money.   \n",
      "3  I'm writing this review to give you a heads up before you see this Doctor. The office staff and administration are very unprofessional. I left a message with multiple people regarding my bill, and no one ever called me back. I had to hound them to get an answer about my bill. \\n\\nSecond, and most important, make sure your insurance is going to cover Dr. Goldberg's visits and blood work. He recommended to me that I get a physical, and he knew I was a student because I told him. I got the physical done. Later, I found out my health insurance doesn't pay for preventative visits. I received an $800.00 bill for the blood work. I can't pay for my bill because I'm a student and don't have any cash flow at this current time. I can't believe the Doctor wouldn't give me a heads up to make sure my insurance would cover work that wasn't necessary and was strictly preventative. The office can't do anything to help me cover the bill. In addition, the office staff said the onus is on me to make sure my insurance covers visits. Frustrating situation!                                                                                                \n",
      "4  All the food is great here. But the best thing they have is their wings. Their wings are simply fantastic!!  The \\\"Wet Cajun\\\" are by the best & most popular.  I also like the seasoned salt wings.  Wing Night is Monday & Wednesday night, $0.75 whole wings!\\n\\nThe dining area is nice. Very family friendly! The bar is very nice is well.  This place is truly a Yinzer's dream!!  \\\"Pittsburgh Dad\\\" would love this place n'at!!                                                                                                                                                                                                                                                                                                                                                                                                                                                                                                                                                                                                                                                                                                                                                 \n",
      "\n",
      "   label  \n",
      "0  0      \n",
      "1  1      \n",
      "2  0      \n",
      "3  0      \n",
      "4  1      \n",
      "                                                                                                                                                                                                                                                                                                                                                                                                                                                                                                                                                                                                                                                                                                                                                                                                              text  \\\n",
      "0  Contrary to other reviews, I have zero complaints about the service or the prices. I have been getting tire service here for the past 5 years now, and compared to my experience with places like Pep Boys, these guys are experienced and know what they're doing. \\nAlso, this is one place that I do not feel like I am being taken advantage of, just because of my gender. Other auto mechanics have been notorious for capitalizing on my ignorance of cars, and have sucked my bank account dry. But here, my service and road coverage has all been well explained - and let up to me to decide. \\nAnd they just renovated the waiting room. It looks a lot better than it did in previous years.                                                                                                         \n",
      "1  Last summer I had an appointment to get new tires and had to wait a super long time. I also went in this week for them to fix a minor problem with a tire they put on. They \\\"fixed\\\" it for free, and the very next morning I had the same issue. I called to complain, and the \\\"manager\\\" didn't even apologize!!! So frustrated. Never going back.  They seem overpriced, too.                                                                                                                                                                                                                                                                                                                                                                                                                                \n",
      "2  Friendly staff, same starbucks fair you get anywhere else.  Sometimes the lines can get long.                                                                                                                                                                                                                                                                                                                                                                                                                                                                                                                                                                                                                                                                                                                     \n",
      "3  The food is good. Unfortunately the service is very hit or miss. The main issue seems to be with the kitchen, the waiters and waitresses are often very apologetic for the long waits and it's pretty obvious that some of them avoid the tables after taking the initial order to avoid hearing complaints.                                                                                                                                                                                                                                                                                                                                                                                                                                                                                                      \n",
      "4  Even when we didn't have a car Filene's Basement was worth the bus trip to the Waterfront. I always find something (usually I find 3-4 things and spend about $60) and better still, I am always still wearing the clothes and shoes 3 months later. \\n\\nI kind of suspect this is the best shopping in Pittsburgh; it's much better than the usual department stores, better than Marshall's and TJ Maxx and better than the Saks downtown, even when it has a sale. Selection, bargains AND quality.\\n\\nI like this Filene's better than Gabriel Brothers, which are harder to get to. Gabriel Brothers are a real discount shopper's challenge and I'm afraid I didn't live in Pittsburgh long enough to develop the necessary skills . . . Filene's was still up and running in June 2007 when I left town.   \n",
      "\n",
      "   label  \n",
      "0  1      \n",
      "1  0      \n",
      "2  1      \n",
      "3  0      \n",
      "4  1      \n"
     ]
    }
   ],
   "source": [
    "prefix = 'Data/yelp_review_polarity_csv/'\n",
    "\n",
    "train_df = pd.read_csv(prefix + 'train.csv', header=None)\n",
    "train_df.head()\n",
    "\n",
    "eval_df = pd.read_csv(prefix + 'test.csv', header=None)\n",
    "eval_df.head()\n",
    "\n",
    "train_df[0] = (train_df[0] == 2).astype(int)\n",
    "eval_df[0] = (eval_df[0] == 2).astype(int)\n",
    "\n",
    "train_df = pd.DataFrame({\n",
    "    'text': train_df[1].replace(r'\\n', ' ', regex=True),\n",
    "    'label':train_df[0]\n",
    "})\n",
    "\n",
    "print(train_df.head())\n",
    "\n",
    "eval_df = pd.DataFrame({\n",
    "    'text': eval_df[1].replace(r'\\n', ' ', regex=True),\n",
    "    'label':eval_df[0]\n",
    "})\n",
    "\n",
    "print(eval_df.head())"
   ]
  },
  {
   "cell_type": "code",
   "execution_count": 20,
   "metadata": {},
   "outputs": [
    {
     "data": {
      "text/html": [
       "<div>\n",
       "<style scoped>\n",
       "    .dataframe tbody tr th:only-of-type {\n",
       "        vertical-align: middle;\n",
       "    }\n",
       "\n",
       "    .dataframe tbody tr th {\n",
       "        vertical-align: top;\n",
       "    }\n",
       "\n",
       "    .dataframe thead th {\n",
       "        text-align: right;\n",
       "    }\n",
       "</style>\n",
       "<table border=\"1\" class=\"dataframe\">\n",
       "  <thead>\n",
       "    <tr style=\"text-align: right;\">\n",
       "      <th></th>\n",
       "      <th>text</th>\n",
       "      <th>label</th>\n",
       "    </tr>\n",
       "  </thead>\n",
       "  <tbody>\n",
       "    <tr>\n",
       "      <th>0</th>\n",
       "      <td>Unfortunately, the frustration of being Dr. Goldberg's patient is a repeat of the experience I've had with so many other doctors in NYC -- good doctor, terrible staff.  It seems that his staff simply never answers the phone.  It usually takes 2 hours of repeated calling to get an answer.  Who has time for that or wants to deal with it?  I have run into this problem with many other doctors and I just don't get it.  You have office workers, you have patients with medical needs, why isn't anyone answering the phone?  It's incomprehensible and not work the aggravation.  It's with regret that I feel that I have to give Dr. Goldberg 2 stars.</td>\n",
       "      <td>0</td>\n",
       "    </tr>\n",
       "    <tr>\n",
       "      <th>1</th>\n",
       "      <td>Been going to Dr. Goldberg for over 10 years. I think I was one of his 1st patients when he started at MHMG. He's been great over the years and is really all about the big picture. It is because of him, not my now former gyn Dr. Markoff, that I found out I have fibroids. He explores all options with you and is very patient and understanding. He doesn't judge and asks all the right questions. Very thorough and wants to be kept in the loop on every aspect of your medical health and your life.</td>\n",
       "      <td>1</td>\n",
       "    </tr>\n",
       "    <tr>\n",
       "      <th>2</th>\n",
       "      <td>I don't know what Dr. Goldberg was like before  moving to Arizona, but let me tell you, STAY AWAY from this doctor and this office. I was going to Dr. Johnson before he left and Goldberg took over when Johnson left. He is not a caring doctor. He is only interested in the co-pay and having you come in for medication refills every month. He will not give refills and could less about patients's financial situations. Trying to get your 90 days mail away pharmacy prescriptions through this guy is a joke. And to make matters even worse, his office staff is incompetent. 90% of the time when you call the office, they'll put you through to a voice mail, that NO ONE ever answers or returns your call. Both my adult children and husband have decided to leave this practice after experiencing such frustration. The entire office has an attitude like they are doing you a favor. Give me a break! Stay away from this doc and the practice. You deserve better and they will not be there when you really need them. I have never felt compelled to write a bad review about anyone until I met this pathetic excuse for a doctor who is all about the money.</td>\n",
       "      <td>0</td>\n",
       "    </tr>\n",
       "    <tr>\n",
       "      <th>3</th>\n",
       "      <td>I'm writing this review to give you a heads up before you see this Doctor. The office staff and administration are very unprofessional. I left a message with multiple people regarding my bill, and no one ever called me back. I had to hound them to get an answer about my bill. \\n\\nSecond, and most important, make sure your insurance is going to cover Dr. Goldberg's visits and blood work. He recommended to me that I get a physical, and he knew I was a student because I told him. I got the physical done. Later, I found out my health insurance doesn't pay for preventative visits. I received an $800.00 bill for the blood work. I can't pay for my bill because I'm a student and don't have any cash flow at this current time. I can't believe the Doctor wouldn't give me a heads up to make sure my insurance would cover work that wasn't necessary and was strictly preventative. The office can't do anything to help me cover the bill. In addition, the office staff said the onus is on me to make sure my insurance covers visits. Frustrating situation!</td>\n",
       "      <td>0</td>\n",
       "    </tr>\n",
       "    <tr>\n",
       "      <th>4</th>\n",
       "      <td>All the food is great here. But the best thing they have is their wings. Their wings are simply fantastic!!  The \\\"Wet Cajun\\\" are by the best &amp; most popular.  I also like the seasoned salt wings.  Wing Night is Monday &amp; Wednesday night, $0.75 whole wings!\\n\\nThe dining area is nice. Very family friendly! The bar is very nice is well.  This place is truly a Yinzer's dream!!  \\\"Pittsburgh Dad\\\" would love this place n'at!!</td>\n",
       "      <td>1</td>\n",
       "    </tr>\n",
       "    <tr>\n",
       "      <th>...</th>\n",
       "      <td>...</td>\n",
       "      <td>...</td>\n",
       "    </tr>\n",
       "    <tr>\n",
       "      <th>559995</th>\n",
       "      <td>Ryan was as good as everyone on yelp has claimed. He was courteous, knowledgable, and helpful. I had some issues with my irrigation and he fixed them all quick and made sure all of the other lines looked as they should.\\nWould definitely recommend this company to others and they will be my \\\" go to \\\" company for landscaping.</td>\n",
       "      <td>1</td>\n",
       "    </tr>\n",
       "    <tr>\n",
       "      <th>559996</th>\n",
       "      <td>Professional \\nFriendly\\nOn time AND affordable!\\nWe will definitely call again if we need their irrigation repair services!!</td>\n",
       "      <td>1</td>\n",
       "    </tr>\n",
       "    <tr>\n",
       "      <th>559997</th>\n",
       "      <td>Phone calls always go to voicemail and messages are not returned.  Stupid way to do business.</td>\n",
       "      <td>0</td>\n",
       "    </tr>\n",
       "    <tr>\n",
       "      <th>559998</th>\n",
       "      <td>Looks like all of the good reviews have gone to their head at this place!  Jason and Ryan came out last fall and did a wonderful job pruning, etc.  Called them to come back this spring and no response after first call.  After second call, I was told they could only come on a Monday.  I work Mondays, and left a message what days would work for me. NEVER heard back from them!  After 3 calls, nothing.  Very UNRELIABLE and UNACCOMMODATING..</td>\n",
       "      <td>0</td>\n",
       "    </tr>\n",
       "    <tr>\n",
       "      <th>559999</th>\n",
       "      <td>Ryan Rocks! I called him this morning for some sprinkler help and some potential landscaping for my backyard. He showed up to my house within an hour and answered all of my questions! When I showed him how my irrigation box was leaking, he knew right away what to do - he went a grabbed a new part out of his truck, put it on, and it was fixed! He then set up my watering timer and we talked about some landscaping and pricing. His prices seemed great and I will definitely use him in the future! To top it all off, when I asked him what I owed him for fixing my irrigation leak and his time, he said don't worry about it! I was shocked and couldn't believe his service! Thank you so much Ryan!</td>\n",
       "      <td>1</td>\n",
       "    </tr>\n",
       "  </tbody>\n",
       "</table>\n",
       "<p>560000 rows × 2 columns</p>\n",
       "</div>"
      ],
      "text/plain": [
       "                                                                                                                                                                                                                                                                                                                                                                                                                                                                                                                                                                                                                                                                                                                                                                                                                                                                                                                                                                                                                                                                                                                                                                                           text  \\\n",
       "0       Unfortunately, the frustration of being Dr. Goldberg's patient is a repeat of the experience I've had with so many other doctors in NYC -- good doctor, terrible staff.  It seems that his staff simply never answers the phone.  It usually takes 2 hours of repeated calling to get an answer.  Who has time for that or wants to deal with it?  I have run into this problem with many other doctors and I just don't get it.  You have office workers, you have patients with medical needs, why isn't anyone answering the phone?  It's incomprehensible and not work the aggravation.  It's with regret that I feel that I have to give Dr. Goldberg 2 stars.                                                                                                                                                                                                                                                                                                                                                                                                                                                                                                                       \n",
       "1       Been going to Dr. Goldberg for over 10 years. I think I was one of his 1st patients when he started at MHMG. He's been great over the years and is really all about the big picture. It is because of him, not my now former gyn Dr. Markoff, that I found out I have fibroids. He explores all options with you and is very patient and understanding. He doesn't judge and asks all the right questions. Very thorough and wants to be kept in the loop on every aspect of your medical health and your life.                                                                                                                                                                                                                                                                                                                                                                                                                                                                                                                                                                                                                                                                           \n",
       "2       I don't know what Dr. Goldberg was like before  moving to Arizona, but let me tell you, STAY AWAY from this doctor and this office. I was going to Dr. Johnson before he left and Goldberg took over when Johnson left. He is not a caring doctor. He is only interested in the co-pay and having you come in for medication refills every month. He will not give refills and could less about patients's financial situations. Trying to get your 90 days mail away pharmacy prescriptions through this guy is a joke. And to make matters even worse, his office staff is incompetent. 90% of the time when you call the office, they'll put you through to a voice mail, that NO ONE ever answers or returns your call. Both my adult children and husband have decided to leave this practice after experiencing such frustration. The entire office has an attitude like they are doing you a favor. Give me a break! Stay away from this doc and the practice. You deserve better and they will not be there when you really need them. I have never felt compelled to write a bad review about anyone until I met this pathetic excuse for a doctor who is all about the money.   \n",
       "3       I'm writing this review to give you a heads up before you see this Doctor. The office staff and administration are very unprofessional. I left a message with multiple people regarding my bill, and no one ever called me back. I had to hound them to get an answer about my bill. \\n\\nSecond, and most important, make sure your insurance is going to cover Dr. Goldberg's visits and blood work. He recommended to me that I get a physical, and he knew I was a student because I told him. I got the physical done. Later, I found out my health insurance doesn't pay for preventative visits. I received an $800.00 bill for the blood work. I can't pay for my bill because I'm a student and don't have any cash flow at this current time. I can't believe the Doctor wouldn't give me a heads up to make sure my insurance would cover work that wasn't necessary and was strictly preventative. The office can't do anything to help me cover the bill. In addition, the office staff said the onus is on me to make sure my insurance covers visits. Frustrating situation!                                                                                                \n",
       "4       All the food is great here. But the best thing they have is their wings. Their wings are simply fantastic!!  The \\\"Wet Cajun\\\" are by the best & most popular.  I also like the seasoned salt wings.  Wing Night is Monday & Wednesday night, $0.75 whole wings!\\n\\nThe dining area is nice. Very family friendly! The bar is very nice is well.  This place is truly a Yinzer's dream!!  \\\"Pittsburgh Dad\\\" would love this place n'at!!                                                                                                                                                                                                                                                                                                                                                                                                                                                                                                                                                                                                                                                                                                                                                 \n",
       "...                                                                                                                                                                                                                                                                                                                                                                                                                                           ...                                                                                                                                                                                                                                                                                                                                                                                                                                                                                                                                                                                                                                                                                                                                                 \n",
       "559995  Ryan was as good as everyone on yelp has claimed. He was courteous, knowledgable, and helpful. I had some issues with my irrigation and he fixed them all quick and made sure all of the other lines looked as they should.\\nWould definitely recommend this company to others and they will be my \\\" go to \\\" company for landscaping.                                                                                                                                                                                                                                                                                                                                                                                                                                                                                                                                                                                                                                                                                                                                                                                                                                                   \n",
       "559996  Professional \\nFriendly\\nOn time AND affordable!\\nWe will definitely call again if we need their irrigation repair services!!                                                                                                                                                                                                                                                                                                                                                                                                                                                                                                                                                                                                                                                                                                                                                                                                                                                                                                                                                                                                                                                             \n",
       "559997  Phone calls always go to voicemail and messages are not returned.  Stupid way to do business.                                                                                                                                                                                                                                                                                                                                                                                                                                                                                                                                                                                                                                                                                                                                                                                                                                                                                                                                                                                                                                                                                             \n",
       "559998  Looks like all of the good reviews have gone to their head at this place!  Jason and Ryan came out last fall and did a wonderful job pruning, etc.  Called them to come back this spring and no response after first call.  After second call, I was told they could only come on a Monday.  I work Mondays, and left a message what days would work for me. NEVER heard back from them!  After 3 calls, nothing.  Very UNRELIABLE and UNACCOMMODATING..                                                                                                                                                                                                                                                                                                                                                                                                                                                                                                                                                                                                                                                                                                                                  \n",
       "559999  Ryan Rocks! I called him this morning for some sprinkler help and some potential landscaping for my backyard. He showed up to my house within an hour and answered all of my questions! When I showed him how my irrigation box was leaking, he knew right away what to do - he went a grabbed a new part out of his truck, put it on, and it was fixed! He then set up my watering timer and we talked about some landscaping and pricing. His prices seemed great and I will definitely use him in the future! To top it all off, when I asked him what I owed him for fixing my irrigation leak and his time, he said don't worry about it! I was shocked and couldn't believe his service! Thank you so much Ryan!                                                                                                                                                                                                                                                                                                                                                                                                                                                                    \n",
       "\n",
       "        label  \n",
       "0       0      \n",
       "1       1      \n",
       "2       0      \n",
       "3       0      \n",
       "4       1      \n",
       "...    ..      \n",
       "559995  1      \n",
       "559996  1      \n",
       "559997  0      \n",
       "559998  0      \n",
       "559999  1      \n",
       "\n",
       "[560000 rows x 2 columns]"
      ]
     },
     "metadata": {},
     "output_type": "display_data"
    }
   ],
   "source": [
    "display(train_df)"
   ]
  },
  {
   "cell_type": "code",
   "execution_count": 21,
   "metadata": {},
   "outputs": [
    {
     "name": "stderr",
     "output_type": "stream",
     "text": [
      "Some weights of the model checkpoint at distilbert-base-uncased were not used when initializing DistilBertForSequenceClassification: ['vocab_transform.weight', 'vocab_transform.bias', 'vocab_layer_norm.weight', 'vocab_layer_norm.bias', 'vocab_projector.weight', 'vocab_projector.bias']\n",
      "- This IS expected if you are initializing DistilBertForSequenceClassification from the checkpoint of a model trained on another task or with another architecture (e.g. initializing a BertForSequenceClassification model from a BertForPreTraining model).\n",
      "- This IS NOT expected if you are initializing DistilBertForSequenceClassification from the checkpoint of a model that you expect to be exactly identical (initializing a BertForSequenceClassification model from a BertForSequenceClassification model).\n",
      "Some weights of DistilBertForSequenceClassification were not initialized from the model checkpoint at distilbert-base-uncased and are newly initialized: ['pre_classifier.weight', 'pre_classifier.bias', 'classifier.weight', 'classifier.bias']\n",
      "You should probably TRAIN this model on a down-stream task to be able to use it for predictions and inference.\n",
      "D:\\Users\\Michael\\anaconda3\\envs\\ml_nlp\\lib\\site-packages\\simpletransformers\\classification\\classification_model.py:390: UserWarning: Dataframe headers not specified. Falling back to using column 0 as text and column 1 as labels.\n",
      "  warnings.warn(\n"
     ]
    },
    {
     "data": {
      "application/vnd.jupyter.widget-view+json": {
       "model_id": "a6026cd2361548dfa9c4d16184d23f32",
       "version_major": 2,
       "version_minor": 0
      },
      "text/plain": [
       "  0%|          | 0/100000 [00:00<?, ?it/s]"
      ]
     },
     "metadata": {},
     "output_type": "display_data"
    },
    {
     "data": {
      "application/vnd.jupyter.widget-view+json": {
       "model_id": "3e9acbe5c4db465d9fc438541835f31d",
       "version_major": 2,
       "version_minor": 0
      },
      "text/plain": [
       "Epoch:   0%|          | 0/5 [00:00<?, ?it/s]"
      ]
     },
     "metadata": {},
     "output_type": "display_data"
    },
    {
     "data": {
      "application/vnd.jupyter.widget-view+json": {
       "model_id": "e2fa94c433c445bba6803600ad74f2f4",
       "version_major": 2,
       "version_minor": 0
      },
      "text/plain": [
       "Running Epoch 0 of 5:   0%|          | 0/1563 [00:00<?, ?it/s]"
      ]
     },
     "metadata": {},
     "output_type": "display_data"
    },
    {
     "name": "stderr",
     "output_type": "stream",
     "text": [
      "D:\\Users\\Michael\\anaconda3\\envs\\ml_nlp\\lib\\site-packages\\torch\\optim\\lr_scheduler.py:216: UserWarning: Please also save or load the state of the optimizer when saving or loading the scheduler.\n",
      "  warnings.warn(SAVE_STATE_WARNING, UserWarning)\n"
     ]
    },
    {
     "data": {
      "application/vnd.jupyter.widget-view+json": {
       "model_id": "684a5d480f594fc388f65acc872d6c56",
       "version_major": 2,
       "version_minor": 0
      },
      "text/plain": [
       "Running Epoch 1 of 5:   0%|          | 0/1563 [00:00<?, ?it/s]"
      ]
     },
     "metadata": {},
     "output_type": "display_data"
    },
    {
     "data": {
      "application/vnd.jupyter.widget-view+json": {
       "model_id": "df2cab2c3a814dcda79bf10baeb3d74d",
       "version_major": 2,
       "version_minor": 0
      },
      "text/plain": [
       "Running Epoch 2 of 5:   0%|          | 0/1563 [00:00<?, ?it/s]"
      ]
     },
     "metadata": {},
     "output_type": "display_data"
    },
    {
     "data": {
      "application/vnd.jupyter.widget-view+json": {
       "model_id": "77522f71bb9d4a3fa47c4575e793c2f8",
       "version_major": 2,
       "version_minor": 0
      },
      "text/plain": [
       "Running Epoch 3 of 5:   0%|          | 0/1563 [00:00<?, ?it/s]"
      ]
     },
     "metadata": {},
     "output_type": "display_data"
    },
    {
     "data": {
      "application/vnd.jupyter.widget-view+json": {
       "model_id": "d0156a09d80b4a2d81df4b9bb9194a78",
       "version_major": 2,
       "version_minor": 0
      },
      "text/plain": [
       "Running Epoch 4 of 5:   0%|          | 0/1563 [00:00<?, ?it/s]"
      ]
     },
     "metadata": {},
     "output_type": "display_data"
    },
    {
     "data": {
      "text/plain": [
       "(7815, 0.09738091828114097)"
      ]
     },
     "execution_count": 21,
     "metadata": {},
     "output_type": "execute_result"
    }
   ],
   "source": [
    "# Create a TransformerModel\n",
    "model = ClassificationModel('distilbert', 'distilbert-base-uncased', use_cuda=True)\n",
    "\n",
    "model_args = {\n",
    "    \"train_batch_size\": 64,\n",
    "    \"num_train_epochs\": 5,\n",
    "    \"learning_rate\": 1e-4,\n",
    "    \"overwrite_output_dir\": True,\n",
    "#     \"wandb_project\": \"simpletransformers\"\n",
    "}\n",
    "\n",
    "# Train the model\n",
    "model.train_model(train_df[:100000], args=model_args)"
   ]
  },
  {
   "cell_type": "code",
   "execution_count": 22,
   "metadata": {},
   "outputs": [
    {
     "name": "stderr",
     "output_type": "stream",
     "text": [
      "D:\\Users\\Michael\\anaconda3\\envs\\ml_nlp\\lib\\site-packages\\simpletransformers\\classification\\classification_model.py:969: UserWarning: Dataframe headers not specified. Falling back to using column 0 as text and column 1 as labels.\n",
      "  warnings.warn(\n"
     ]
    },
    {
     "data": {
      "application/vnd.jupyter.widget-view+json": {
       "model_id": "2f49a2f985b94d94a2b315d95d9e8a9f",
       "version_major": 2,
       "version_minor": 0
      },
      "text/plain": [
       "  0%|          | 0/30000 [00:00<?, ?it/s]"
      ]
     },
     "metadata": {},
     "output_type": "display_data"
    },
    {
     "data": {
      "application/vnd.jupyter.widget-view+json": {
       "model_id": "0992739766ec46999d105e0ca541feab",
       "version_major": 2,
       "version_minor": 0
      },
      "text/plain": [
       "Running Evaluation:   0%|          | 0/3750 [00:00<?, ?it/s]"
      ]
     },
     "metadata": {},
     "output_type": "display_data"
    },
    {
     "name": "stdout",
     "output_type": "stream",
     "text": [
      "{'mcc': 0.8546258588170861, 'tp': 13698, 'tn': 14121, 'fp': 1009, 'fn': 1172, 'eval_loss': 0.4246413547646094}\n"
     ]
    }
   ],
   "source": [
    "# Evaluate the model\n",
    "result, model_outputs, wrong_predictions = model.eval_model(eval_df[:30000])\n",
    "print(result)\n",
    "# print(model_outputs)\n",
    "# print(wrong_predictions)"
   ]
  },
  {
   "cell_type": "code",
   "execution_count": 20,
   "metadata": {},
   "outputs": [
    {
     "name": "stdout",
     "output_type": "stream",
     "text": [
      "Pipeline(steps=[('roberta_estimator',\n",
      "                 RobertaClassifier(epochs=None, overwrite_output_dir=True,\n",
      "                                   train_batch_size=32))])\n",
      "\n"
     ]
    },
    {
     "name": "stderr",
     "output_type": "stream",
     "text": [
      "D:\\Users\\Michael\\anaconda3\\envs\\ml_nlp\\lib\\site-packages\\sklearn\\base.py:209: FutureWarning: From version 0.24, get_params will raise an AttributeError if a parameter cannot be retrieved as an instance attribute. Previously it would return None.\n",
      "  warnings.warn('From version 0.24, get_params will raise an '\n"
     ]
    }
   ],
   "source": [
    "# Dense neural net classification\n",
    "roberta_clf = RobertaClassifier(overwrite_output_dir=True, epochs=1, train_batch_size=32) # wrap the model\n",
    "\n",
    "# Specify Keras callbacks for early stopping and checkpoints\n",
    "# calls = [ModelCheckpoint(, monitor=\"val_accuracy\", verbose=1, save_best_only=True, mode=\"max\")]\n",
    "    \n",
    "roberta_clf_fullpipe = Pipeline(steps=[\n",
    "    (\"roberta_estimator\", roberta_clf)\n",
    "])\n",
    "print(roberta_clf_fullpipe)\n",
    "print(\"\")"
   ]
  },
  {
   "cell_type": "code",
   "execution_count": 21,
   "metadata": {},
   "outputs": [],
   "source": [
    "# Specify hyperparameter grids for optimization\n",
    "roberta_param_grid = {\n",
    "#    \"roberta_estimator__epochs\":[2]\n",
    "}\n",
    "\n",
    "roberta_param_grid.update(param_grid)"
   ]
  },
  {
   "cell_type": "code",
   "execution_count": 22,
   "metadata": {},
   "outputs": [],
   "source": [
    "# Dictionary of pipelines and classifier types for ease of reference\n",
    "try:\n",
    "    pipe_dict[\"Roberta\"] = (roberta_clf_fullpipe, roberta_param_grid)   \n",
    "except NameError:\n",
    "    pipe_dict = {\n",
    "    \"Roberta\": (roberta_clf_fullpipe, roberta_param_grid),\n",
    "    }"
   ]
  },
  {
   "cell_type": "markdown",
   "metadata": {},
   "source": [
    "### Train the ROBERTA neural network pipeline model"
   ]
  },
  {
   "cell_type": "code",
   "execution_count": 23,
   "metadata": {},
   "outputs": [
    {
     "name": "stdin",
     "output_type": "stream",
     "text": [
      "A joblib model file already exists with that name, \n",
      "do you wish to retrain the model? (Y/N) y\n"
     ]
    },
    {
     "name": "stdout",
     "output_type": "stream",
     "text": [
      "No hyperparameter optimization\n",
      "Training Roberta on 100 samples...\n",
      "('roberta_estimator', RobertaClassifier(epochs=None, overwrite_output_dir=True, train_batch_size=32))\n",
      "ClassificationArgs(adam_epsilon=1e-08, best_model_dir='outputs/best_model', cache_dir='cache_dir/', config={}, cosine_schedule_num_cycles=0.5, custom_layer_parameters=[], custom_parameter_groups=[], dataloader_num_workers=0, do_lower_case=False, dynamic_quantize=False, early_stopping_consider_epochs=False, early_stopping_delta=0, early_stopping_metric='eval_loss', early_stopping_metric_minimize=True, early_stopping_patience=3, encoding=None, adafactor_eps=(1e-30, 0.001), adafactor_clip_threshold=1.0, adafactor_decay_rate=-0.8, adafactor_beta1=None, adafactor_scale_parameter=True, adafactor_relative_step=True, adafactor_warmup_init=True, eval_batch_size=8, evaluate_during_training=False, evaluate_during_training_silent=True, evaluate_during_training_steps=2000, evaluate_during_training_verbose=False, evaluate_each_epoch=True, fp16=True, gradient_accumulation_steps=1, learning_rate=4e-05, local_rank=-1, logging_steps=50, manual_seed=None, max_grad_norm=1.0, max_seq_length=128, model_name=None, model_type=None, multiprocessing_chunksize=500, n_gpu=1, no_cache=False, no_save=False, not_saved_args=[], num_train_epochs=1, optimizer='AdamW', output_dir='outputs/', overwrite_output_dir=True, process_count=22, polynomial_decay_schedule_lr_end=1e-07, polynomial_decay_schedule_power=1.0, quantized_model=False, reprocess_input_data=True, save_best_model=True, save_eval_checkpoints=True, save_model_every_epoch=True, save_optimizer_and_scheduler=True, save_steps=2000, scheduler='linear_schedule_with_warmup', silent=False, skip_special_tokens=True, tensorboard_dir=None, thread_count=None, train_batch_size=32, train_custom_parameters_only=False, use_cached_eval_features=False, use_early_stopping=False, use_multiprocessing=True, wandb_kwargs={}, wandb_project=None, warmup_ratio=0.06, warmup_steps=0, weight_decay=0.0, model_class='ClassificationModel', labels_list=[], labels_map={}, lazy_delimiter='\\t', lazy_labels_column=1, lazy_loading=False, lazy_loading_start_line=1, lazy_text_a_column=None, lazy_text_b_column=None, lazy_text_column=0, onnx=False, regression=False, sliding_window=False, special_tokens_list=[], stride=0.8, tie_value=1)\n"
     ]
    },
    {
     "name": "stderr",
     "output_type": "stream",
     "text": [
      "Some weights of the model checkpoint at distilbert-base-uncased were not used when initializing DistilBertForSequenceClassification: ['vocab_transform.weight', 'vocab_transform.bias', 'vocab_layer_norm.weight', 'vocab_layer_norm.bias', 'vocab_projector.weight', 'vocab_projector.bias']\n",
      "- This IS expected if you are initializing DistilBertForSequenceClassification from the checkpoint of a model trained on another task or with another architecture (e.g. initializing a BertForSequenceClassification model from a BertForPreTraining model).\n",
      "- This IS NOT expected if you are initializing DistilBertForSequenceClassification from the checkpoint of a model that you expect to be exactly identical (initializing a BertForSequenceClassification model from a BertForSequenceClassification model).\n",
      "Some weights of DistilBertForSequenceClassification were not initialized from the model checkpoint at distilbert-base-uncased and are newly initialized: ['pre_classifier.weight', 'pre_classifier.bias', 'classifier.weight', 'classifier.bias']\n",
      "You should probably TRAIN this model on a down-stream task to be able to use it for predictions and inference.\n",
      "D:\\Users\\Michael\\anaconda3\\envs\\ml_nlp\\lib\\site-packages\\simpletransformers\\classification\\classification_model.py:390: UserWarning: Dataframe headers not specified. Falling back to using column 0 as text and column 1 as labels.\n",
      "  warnings.warn(\n"
     ]
    },
    {
     "data": {
      "application/vnd.jupyter.widget-view+json": {
       "model_id": "e6829cde53b0489dbb85b42d9d274022",
       "version_major": 2,
       "version_minor": 0
      },
      "text/plain": [
       "  0%|          | 0/100 [00:00<?, ?it/s]"
      ]
     },
     "metadata": {},
     "output_type": "display_data"
    },
    {
     "data": {
      "application/vnd.jupyter.widget-view+json": {
       "model_id": "088de4ffbdb04a3fa14ca6772eff8e89",
       "version_major": 2,
       "version_minor": 0
      },
      "text/plain": [
       "Epoch:   0%|          | 0/1 [00:00<?, ?it/s]"
      ]
     },
     "metadata": {},
     "output_type": "display_data"
    },
    {
     "data": {
      "application/vnd.jupyter.widget-view+json": {
       "model_id": "c4b3707b347b47538c4752681fd33d3b",
       "version_major": 2,
       "version_minor": 0
      },
      "text/plain": [
       "Running Epoch 0 of 1:   0%|          | 0/4 [00:00<?, ?it/s]"
      ]
     },
     "metadata": {},
     "output_type": "display_data"
    },
    {
     "name": "stderr",
     "output_type": "stream",
     "text": [
      "D:\\Users\\Michael\\anaconda3\\envs\\ml_nlp\\lib\\site-packages\\torch\\optim\\lr_scheduler.py:216: UserWarning: Please also save or load the state of the optimizer when saving or loading the scheduler.\n",
      "  warnings.warn(SAVE_STATE_WARNING, UserWarning)\n"
     ]
    }
   ],
   "source": [
    "roberta_clf_final = pipeline_fit(\n",
    "                                        X_train=X_train[:100],\n",
    "                                        y_train=y_train[:100],\n",
    "                                        pipeline=\"Roberta\", \n",
    "                                        search_method=None,#\"gridsearch\",\n",
    "#                                         n_jobs=6,\n",
    "                                        verbose_searchcv=1,  \n",
    "                                        save_name=\"Twitter_Roberta\"\n",
    "                                    )"
   ]
  },
  {
   "cell_type": "markdown",
   "metadata": {},
   "source": [
    "### Evaluation"
   ]
  },
  {
   "cell_type": "code",
   "execution_count": 24,
   "metadata": {},
   "outputs": [
    {
     "name": "stdout",
     "output_type": "stream",
     "text": [
      "iphone is doing that not opening downloaded apps thing and i forgot my cord at home\n"
     ]
    }
   ],
   "source": [
    "print(X_test[\"Tweet\"].tolist()[0])"
   ]
  },
  {
   "cell_type": "code",
   "execution_count": 25,
   "metadata": {},
   "outputs": [
    {
     "data": {
      "application/vnd.jupyter.widget-view+json": {
       "model_id": "9aaf54446d25404a8371b162e5ec123b",
       "version_major": 2,
       "version_minor": 0
      },
      "text/plain": [
       "  0%|          | 0/48000 [00:00<?, ?it/s]"
      ]
     },
     "metadata": {},
     "output_type": "display_data"
    },
    {
     "data": {
      "application/vnd.jupyter.widget-view+json": {
       "model_id": "88d331be72164bbc97607200fac42e87",
       "version_major": 2,
       "version_minor": 0
      },
      "text/plain": [
       "  0%|          | 0/6000 [00:00<?, ?it/s]"
      ]
     },
     "metadata": {},
     "output_type": "display_data"
    },
    {
     "name": "stdout",
     "output_type": "stream",
     "text": [
      "[0 0 0 ... 0 0 0]\n"
     ]
    },
    {
     "ename": "AttributeError",
     "evalue": "'RobertaClassifier' object has no attribute 'predict_proba'",
     "output_type": "error",
     "traceback": [
      "\u001b[1;31m---------------------------------------------------------------------------\u001b[0m",
      "\u001b[1;31mAttributeError\u001b[0m                            Traceback (most recent call last)",
      "\u001b[1;32m<ipython-input-25-4d9bdf89ef55>\u001b[0m in \u001b[0;36m<module>\u001b[1;34m\u001b[0m\n\u001b[0;32m      3\u001b[0m \u001b[1;33m\u001b[0m\u001b[0m\n\u001b[0;32m      4\u001b[0m \u001b[0my_pred_roberta\u001b[0m \u001b[1;33m=\u001b[0m \u001b[0mroberta_clf_final\u001b[0m\u001b[1;33m.\u001b[0m\u001b[0mpredict\u001b[0m\u001b[1;33m(\u001b[0m\u001b[0mX_test\u001b[0m\u001b[1;33m[\u001b[0m\u001b[1;34m\"Tweet\"\u001b[0m\u001b[1;33m]\u001b[0m\u001b[1;33m.\u001b[0m\u001b[0mtolist\u001b[0m\u001b[1;33m(\u001b[0m\u001b[1;33m)\u001b[0m\u001b[1;33m)\u001b[0m\u001b[1;33m\u001b[0m\u001b[1;33m\u001b[0m\u001b[0m\n\u001b[1;32m----> 5\u001b[1;33m \u001b[0my_score_roberta\u001b[0m \u001b[1;33m=\u001b[0m \u001b[0mroberta_clf_final\u001b[0m\u001b[1;33m.\u001b[0m\u001b[0mpredict_proba\u001b[0m\u001b[1;33m(\u001b[0m\u001b[0mX_test\u001b[0m\u001b[1;33m[\u001b[0m\u001b[1;34m\"Tweet\"\u001b[0m\u001b[1;33m]\u001b[0m\u001b[1;33m.\u001b[0m\u001b[0mtolist\u001b[0m\u001b[1;33m(\u001b[0m\u001b[1;33m)\u001b[0m\u001b[1;33m)\u001b[0m\u001b[1;33m\u001b[0m\u001b[1;33m\u001b[0m\u001b[0m\n\u001b[0m",
      "\u001b[1;32mD:\\Users\\Michael\\anaconda3\\envs\\ml_nlp\\lib\\site-packages\\sklearn\\utils\\metaestimators.py\u001b[0m in \u001b[0;36m__get__\u001b[1;34m(self, obj, type)\u001b[0m\n\u001b[0;32m    111\u001b[0m                     \u001b[1;32mcontinue\u001b[0m\u001b[1;33m\u001b[0m\u001b[1;33m\u001b[0m\u001b[0m\n\u001b[0;32m    112\u001b[0m                 \u001b[1;32melse\u001b[0m\u001b[1;33m:\u001b[0m\u001b[1;33m\u001b[0m\u001b[1;33m\u001b[0m\u001b[0m\n\u001b[1;32m--> 113\u001b[1;33m                     \u001b[0mgetattr\u001b[0m\u001b[1;33m(\u001b[0m\u001b[0mdelegate\u001b[0m\u001b[1;33m,\u001b[0m \u001b[0mself\u001b[0m\u001b[1;33m.\u001b[0m\u001b[0mattribute_name\u001b[0m\u001b[1;33m)\u001b[0m\u001b[1;33m\u001b[0m\u001b[1;33m\u001b[0m\u001b[0m\n\u001b[0m\u001b[0;32m    114\u001b[0m                     \u001b[1;32mbreak\u001b[0m\u001b[1;33m\u001b[0m\u001b[1;33m\u001b[0m\u001b[0m\n\u001b[0;32m    115\u001b[0m             \u001b[1;32melse\u001b[0m\u001b[1;33m:\u001b[0m\u001b[1;33m\u001b[0m\u001b[1;33m\u001b[0m\u001b[0m\n",
      "\u001b[1;31mAttributeError\u001b[0m: 'RobertaClassifier' object has no attribute 'predict_proba'"
     ]
    }
   ],
   "source": [
    "# dense_keras_clf_final.named_steps[\"keras_estimator\"].model = load_model(save_name+\"_\"+pipeline+\".h5\")\n",
    "\n",
    "\n",
    "y_pred_roberta = roberta_clf_final.predict(X_test[\"Tweet\"].tolist())\n",
    "y_score_roberta = roberta_clf_final.predict_proba(X_test[\"Tweet\"].tolist())"
   ]
  },
  {
   "cell_type": "code",
   "execution_count": null,
   "metadata": {},
   "outputs": [],
   "source": [
    "print(\"Accuracy Score on Test Set:\")\n",
    "print(accuracy_score(y_test, y_pred_roberta))\n",
    "\n",
    "# np.set_printoptions(precision=2)\n",
    "\n",
    "# Plot confusion matrix\n",
    "plot_confusion_matrix(y_test, y_pred_roberta, classes=roberta_clf_final.classes_)\n",
    "\n",
    "# Plot ROC curve (requires onehot targets)Q\n",
    "plot_roc_curve(y_test, y_score_roberta[:,1], classes=roberta_clf_final.classes_, roc_multilabel_count=2)"
   ]
  },
  {
   "cell_type": "markdown",
   "metadata": {},
   "source": [
    "# Voting Classifier"
   ]
  },
  {
   "cell_type": "code",
   "execution_count": null,
   "metadata": {},
   "outputs": [],
   "source": [
    "## Use a soft voting classifier to make final predictions from all models\n",
    "vote_clf = VotingClassifier(estimators=[\n",
    "                            (\"nb_clf\", nb_clf_final.named_steps[\"nb_classifier\"]), \n",
    "                            (\"rf_clf\", rf_clf_final.named_steps[\"rf_classifier\"]),\n",
    "                            #(\"gb_clf\", gb_clf_final), \n",
    "                            #(\"xgb_clf\", xgb_clf_final),\n",
    "                            (\"lgbm_clf\", lgbm_clf_final.named_steps[\"lgbm_classifier\"])\n",
    "                            ], voting=\"soft\")\n",
    "\n",
    "vote_clf_fullpipe = Pipeline(steps=[\n",
    "                                (\"preprocessor\", preprocessor),\n",
    "                                (\"voting_classifier\", vote_clf)\n",
    "                            ])\n",
    "\n",
    "print(vote_clf_fullpipe)\n",
    "\n",
    "\n",
    "pipe_dict[\"VotingClassifier\"] = (vote_clf_fullpipe,)"
   ]
  },
  {
   "cell_type": "code",
   "execution_count": null,
   "metadata": {},
   "outputs": [],
   "source": [
    "vote_clf_final = pipeline_fit(pipeline=\"VotingClassifier\", cv=None, iid=False, verbose=2, n_jobs=1, optimization=False)"
   ]
  },
  {
   "cell_type": "code",
   "execution_count": null,
   "metadata": {},
   "outputs": [],
   "source": [
    "#display(X_valid)\n",
    "y_pred = vote_clf_final.predict(X_valid)\n",
    "#y_pred = lgbm_clf_final.predict(X_valid)\n",
    "print(\"Predicted Targets:\",y_pred)\n",
    "print(\"Actual Targets:\",y_valid)"
   ]
  },
  {
   "cell_type": "code",
   "execution_count": null,
   "metadata": {},
   "outputs": [],
   "source": [
    "y_pred_2 = lgbm_clf_final.predict(X_valid_2)\n",
    "print(\"Predicted Targets:\",y_pred_2)\n",
    "print(\"Actual Targets:\",y_valid_2)"
   ]
  },
  {
   "cell_type": "code",
   "execution_count": null,
   "metadata": {},
   "outputs": [],
   "source": [
    "#y_pred_inv = le.inverse_transform(y_pred)\n",
    "target_names = le.classes_\n",
    "print(\"Target names: \",target_names)\n",
    "n_classes = le.classes_.shape[0]\n",
    "print(\"n_classes: \",n_classes)\n",
    "print(\"\\nClassification Report:\")\n",
    "print(classification_report(y_valid, y_pred, target_names=target_names))\n",
    "print(\"Confusion Matrix:\")\n",
    "print(confusion_matrix(y_valid, y_pred, labels=range(n_classes)))"
   ]
  },
  {
   "cell_type": "code",
   "execution_count": null,
   "metadata": {},
   "outputs": [],
   "source": [
    "target_names = le.classes_\n",
    "print(\"Target names: \",target_names)\n",
    "n_classes = le.classes_.shape[0]\n",
    "print(\"n_classes: \",n_classes)\n",
    "print(\"\\nClassification Report:\")\n",
    "print(classification_report(y_valid_2, y_pred_2, target_names=target_names))\n",
    "print(\"Confusion Matrix:\")\n",
    "print(confusion_matrix(y_valid_2, y_pred_2, labels=range(n_classes)))"
   ]
  },
  {
   "cell_type": "code",
   "execution_count": null,
   "metadata": {},
   "outputs": [],
   "source": []
  }
 ],
 "metadata": {
  "kernelspec": {
   "display_name": "Python 3",
   "language": "python",
   "name": "python3"
  },
  "language_info": {
   "codemirror_mode": {
    "name": "ipython",
    "version": 3
   },
   "file_extension": ".py",
   "mimetype": "text/x-python",
   "name": "python",
   "nbconvert_exporter": "python",
   "pygments_lexer": "ipython3",
   "version": "3.8.3"
  },
  "toc-autonumbering": true,
  "toc-showtags": false
 },
 "nbformat": 4,
 "nbformat_minor": 4
}
